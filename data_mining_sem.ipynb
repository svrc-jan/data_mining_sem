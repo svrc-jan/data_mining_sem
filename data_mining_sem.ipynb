{
 "cells": [
  {
   "cell_type": "markdown",
   "metadata": {},
   "source": [
    "# Data mining seminar project"
   ]
  },
  {
   "cell_type": "code",
   "execution_count": 2,
   "metadata": {},
   "outputs": [],
   "source": [
    "from datetime import date\n",
    "\n",
    "import pandas as pd\n",
    "\n",
    "from sklearn.model_selection import train_test_split, RandomizedSearchCV\n",
    "from sklearn.preprocessing import StandardScaler, QuantileTransformer\n",
    "from sklearn.metrics import get_scorer\n",
    "from imblearn.over_sampling import SMOTE\n",
    "\n",
    "from sklearn.neighbors import KNeighborsClassifier\n",
    "from sklearn.ensemble import RandomForestClassifier\n",
    "from sklearn.linear_model import LogisticRegression\n",
    "from sklearn.neural_network import MLPClassifier\n",
    "from sklearn.svm import SVC\n",
    "\n",
    "from scipy.stats import uniform, loguniform, randint"
   ]
  },
  {
   "cell_type": "markdown",
   "metadata": {},
   "source": [
    "## Data preparation\n",
    "\n",
    "- load datasets\n",
    "- handle MaritalStatus\n",
    "\t- only M (Maried) ann S (Single), NaNs most common, treated as value (not missing) for people in relationship and not married, divorced, or widowed\n",
    "- correct number of children (cannot be negative)\n",
    "- add has children column\n",
    "- add income per dependant column (1 + num of children)\n",
    "- encode responded to boolean\n",
    "- handle date format for transaction and get age\n",
    "- aggregate transaction data\n",
    "\t- minimum age - number of days since last transaction\n",
    "\t- number of transaction (count) total, \n",
    "\t- monetary value (amount) total, average\n",
    "- combine data\n",
    "- encode data to numeric for further tasks"
   ]
  },
  {
   "cell_type": "code",
   "execution_count": 3,
   "metadata": {},
   "outputs": [
    {
     "data": {
      "text/html": [
       "<div>\n",
       "<style scoped>\n",
       "    .dataframe tbody tr th:only-of-type {\n",
       "        vertical-align: middle;\n",
       "    }\n",
       "\n",
       "    .dataframe tbody tr th {\n",
       "        vertical-align: top;\n",
       "    }\n",
       "\n",
       "    .dataframe thead th {\n",
       "        text-align: right;\n",
       "    }\n",
       "</style>\n",
       "<table border=\"1\" class=\"dataframe\">\n",
       "  <thead>\n",
       "    <tr style=\"text-align: right;\">\n",
       "      <th></th>\n",
       "      <th>MaritalStatus</th>\n",
       "      <th>NumChildren</th>\n",
       "      <th>LoS</th>\n",
       "      <th>HHIncomeMed</th>\n",
       "      <th>HasChildren</th>\n",
       "      <th>HHIncodePerDependant</th>\n",
       "      <th>Tran_age_min</th>\n",
       "      <th>Tran_count_total</th>\n",
       "      <th>Tran_amount_total</th>\n",
       "      <th>Tran_amount_avg</th>\n",
       "      <th>Responded</th>\n",
       "    </tr>\n",
       "    <tr>\n",
       "      <th>CardID</th>\n",
       "      <th></th>\n",
       "      <th></th>\n",
       "      <th></th>\n",
       "      <th></th>\n",
       "      <th></th>\n",
       "      <th></th>\n",
       "      <th></th>\n",
       "      <th></th>\n",
       "      <th></th>\n",
       "      <th></th>\n",
       "      <th></th>\n",
       "    </tr>\n",
       "  </thead>\n",
       "  <tbody>\n",
       "    <tr>\n",
       "      <th>C0100000199</th>\n",
       "      <td>Single</td>\n",
       "      <td>4</td>\n",
       "      <td>1.156164</td>\n",
       "      <td>71079.744865</td>\n",
       "      <td>True</td>\n",
       "      <td>14215.948973</td>\n",
       "      <td>1.0</td>\n",
       "      <td>3.0</td>\n",
       "      <td>597.00</td>\n",
       "      <td>199.000000</td>\n",
       "      <td>False</td>\n",
       "    </tr>\n",
       "    <tr>\n",
       "      <th>C0100000343</th>\n",
       "      <td>Other</td>\n",
       "      <td>1</td>\n",
       "      <td>3.002740</td>\n",
       "      <td>79424.115726</td>\n",
       "      <td>True</td>\n",
       "      <td>39712.057863</td>\n",
       "      <td>114.0</td>\n",
       "      <td>6.0</td>\n",
       "      <td>700.94</td>\n",
       "      <td>116.823333</td>\n",
       "      <td>False</td>\n",
       "    </tr>\n",
       "    <tr>\n",
       "      <th>C0100000375</th>\n",
       "      <td>Single</td>\n",
       "      <td>0</td>\n",
       "      <td>0.068493</td>\n",
       "      <td>41878.414258</td>\n",
       "      <td>False</td>\n",
       "      <td>41878.414258</td>\n",
       "      <td>59.0</td>\n",
       "      <td>4.0</td>\n",
       "      <td>223.98</td>\n",
       "      <td>55.995000</td>\n",
       "      <td>False</td>\n",
       "    </tr>\n",
       "    <tr>\n",
       "      <th>C0100000482</th>\n",
       "      <td>Single</td>\n",
       "      <td>1</td>\n",
       "      <td>1.356164</td>\n",
       "      <td>62924.588763</td>\n",
       "      <td>True</td>\n",
       "      <td>31462.294381</td>\n",
       "      <td>20.0</td>\n",
       "      <td>4.0</td>\n",
       "      <td>197.98</td>\n",
       "      <td>49.495000</td>\n",
       "      <td>False</td>\n",
       "    </tr>\n",
       "    <tr>\n",
       "      <th>C0100000689</th>\n",
       "      <td>Married</td>\n",
       "      <td>3</td>\n",
       "      <td>2.484932</td>\n",
       "      <td>46616.718039</td>\n",
       "      <td>True</td>\n",
       "      <td>11654.179510</td>\n",
       "      <td>4.0</td>\n",
       "      <td>2.0</td>\n",
       "      <td>428.00</td>\n",
       "      <td>214.000000</td>\n",
       "      <td>False</td>\n",
       "    </tr>\n",
       "    <tr>\n",
       "      <th>...</th>\n",
       "      <td>...</td>\n",
       "      <td>...</td>\n",
       "      <td>...</td>\n",
       "      <td>...</td>\n",
       "      <td>...</td>\n",
       "      <td>...</td>\n",
       "      <td>...</td>\n",
       "      <td>...</td>\n",
       "      <td>...</td>\n",
       "      <td>...</td>\n",
       "      <td>...</td>\n",
       "    </tr>\n",
       "    <tr>\n",
       "      <th>C0106595162</th>\n",
       "      <td>Married</td>\n",
       "      <td>1</td>\n",
       "      <td>1.931507</td>\n",
       "      <td>49841.914121</td>\n",
       "      <td>True</td>\n",
       "      <td>24920.957061</td>\n",
       "      <td>92.0</td>\n",
       "      <td>2.0</td>\n",
       "      <td>388.99</td>\n",
       "      <td>194.495000</td>\n",
       "      <td>False</td>\n",
       "    </tr>\n",
       "    <tr>\n",
       "      <th>C0106596136</th>\n",
       "      <td>Married</td>\n",
       "      <td>3</td>\n",
       "      <td>1.400000</td>\n",
       "      <td>88015.076144</td>\n",
       "      <td>True</td>\n",
       "      <td>22003.769036</td>\n",
       "      <td>5.0</td>\n",
       "      <td>2.0</td>\n",
       "      <td>108.99</td>\n",
       "      <td>54.495000</td>\n",
       "      <td>False</td>\n",
       "    </tr>\n",
       "    <tr>\n",
       "      <th>C0106596422</th>\n",
       "      <td>Other</td>\n",
       "      <td>0</td>\n",
       "      <td>1.558904</td>\n",
       "      <td>46617.938780</td>\n",
       "      <td>False</td>\n",
       "      <td>46617.938780</td>\n",
       "      <td>134.0</td>\n",
       "      <td>2.0</td>\n",
       "      <td>948.00</td>\n",
       "      <td>474.000000</td>\n",
       "      <td>False</td>\n",
       "    </tr>\n",
       "    <tr>\n",
       "      <th>C0106596502</th>\n",
       "      <td>Married</td>\n",
       "      <td>2</td>\n",
       "      <td>-0.739726</td>\n",
       "      <td>52631.916257</td>\n",
       "      <td>True</td>\n",
       "      <td>17543.972086</td>\n",
       "      <td>16.0</td>\n",
       "      <td>1.0</td>\n",
       "      <td>279.00</td>\n",
       "      <td>279.000000</td>\n",
       "      <td>False</td>\n",
       "    </tr>\n",
       "    <tr>\n",
       "      <th>C0106596676</th>\n",
       "      <td>Other</td>\n",
       "      <td>3</td>\n",
       "      <td>0.778082</td>\n",
       "      <td>83728.446303</td>\n",
       "      <td>True</td>\n",
       "      <td>20932.111576</td>\n",
       "      <td>112.0</td>\n",
       "      <td>5.0</td>\n",
       "      <td>327.97</td>\n",
       "      <td>65.594000</td>\n",
       "      <td>False</td>\n",
       "    </tr>\n",
       "  </tbody>\n",
       "</table>\n",
       "<p>12832 rows × 11 columns</p>\n",
       "</div>"
      ],
      "text/plain": [
       "            MaritalStatus  NumChildren       LoS   HHIncomeMed  HasChildren  \\\n",
       "CardID                                                                        \n",
       "C0100000199        Single            4  1.156164  71079.744865         True   \n",
       "C0100000343         Other            1  3.002740  79424.115726         True   \n",
       "C0100000375        Single            0  0.068493  41878.414258        False   \n",
       "C0100000482        Single            1  1.356164  62924.588763         True   \n",
       "C0100000689       Married            3  2.484932  46616.718039         True   \n",
       "...                   ...          ...       ...           ...          ...   \n",
       "C0106595162       Married            1  1.931507  49841.914121         True   \n",
       "C0106596136       Married            3  1.400000  88015.076144         True   \n",
       "C0106596422         Other            0  1.558904  46617.938780        False   \n",
       "C0106596502       Married            2 -0.739726  52631.916257         True   \n",
       "C0106596676         Other            3  0.778082  83728.446303         True   \n",
       "\n",
       "             HHIncodePerDependant  Tran_age_min  Tran_count_total  \\\n",
       "CardID                                                              \n",
       "C0100000199          14215.948973           1.0               3.0   \n",
       "C0100000343          39712.057863         114.0               6.0   \n",
       "C0100000375          41878.414258          59.0               4.0   \n",
       "C0100000482          31462.294381          20.0               4.0   \n",
       "C0100000689          11654.179510           4.0               2.0   \n",
       "...                           ...           ...               ...   \n",
       "C0106595162          24920.957061          92.0               2.0   \n",
       "C0106596136          22003.769036           5.0               2.0   \n",
       "C0106596422          46617.938780         134.0               2.0   \n",
       "C0106596502          17543.972086          16.0               1.0   \n",
       "C0106596676          20932.111576         112.0               5.0   \n",
       "\n",
       "             Tran_amount_total  Tran_amount_avg  Responded  \n",
       "CardID                                                      \n",
       "C0100000199             597.00       199.000000      False  \n",
       "C0100000343             700.94       116.823333      False  \n",
       "C0100000375             223.98        55.995000      False  \n",
       "C0100000482             197.98        49.495000      False  \n",
       "C0100000689             428.00       214.000000      False  \n",
       "...                        ...              ...        ...  \n",
       "C0106595162             388.99       194.495000      False  \n",
       "C0106596136             108.99        54.495000      False  \n",
       "C0106596422             948.00       474.000000      False  \n",
       "C0106596502             279.00       279.000000      False  \n",
       "C0106596676             327.97        65.594000      False  \n",
       "\n",
       "[12832 rows x 11 columns]"
      ]
     },
     "execution_count": 3,
     "metadata": {},
     "output_type": "execute_result"
    }
   ],
   "source": [
    "cust = pd.read_csv('data/customers.csv').set_index('CardID')\n",
    "tran = pd.read_csv('data/transactions.csv').set_index('CardID')\n",
    "camp = pd.read_csv('data/campaign.csv').set_index('CardID')\n",
    "\n",
    "cust.replace({ 'MaritalStatus': { 'M': 'Married', 'S': 'Single'}}, inplace=True)\n",
    "cust.fillna({ 'MaritalStatus': 'Other' }, inplace=True)\n",
    "\n",
    "cust['NumChildren'] = cust['NumChildren'].clip(0, None)\n",
    "cust['HasChildren'] = cust['NumChildren'] > 0\n",
    "cust['HHIncodePerDependant'] = cust['HHIncomeMed']/(1 + cust['NumChildren'])\n",
    "\n",
    "camp['Responded'] = camp['Responded'] == 'T'\n",
    "\n",
    "tran['Date'] = tran['Date'].astype(str)\n",
    "tran['Date'] = tran['Date'].transform(\n",
    "\tlambda x: date(year=int(x[:4]), month=int(x[4:6]), day=int(x[6:])))\n",
    "\n",
    "tran['Age'] = tran['Date'].max() - tran['Date']\n",
    "tran['Age'] = tran['Age'].transform(lambda x: x.days)\n",
    "\n",
    "tran_agg = tran.groupby('CardID').apply(func=lambda gr: pd.Series({\n",
    "\t'age_min' : gr.Age.min(),\n",
    "\t'count_total' : gr.shape[0],\n",
    "\t# 'count_180' : gr[gr.Age < 180].shape[0],\n",
    "\t# 'count_90' : gr[gr.Age < 90].shape[0],\n",
    "\t# 'count_30' : gr[gr.Age < 30].shape[0],\n",
    "\t'amount_total' : gr.Amount.sum(),\n",
    "\t# 'amount_180' : gr[gr.Age < 180].Amount.sum(),\n",
    "\t# 'amount_90' : gr[gr.Age < 90].Amount.sum(),\n",
    "\t# 'amount_30' : gr[gr.Age < 30].Amount.sum(),\n",
    "\t'amount_avg' : gr.Amount.mean(),\n",
    "}))\n",
    "\n",
    "# for days in [90, 30]:\n",
    "# \ttran_agg[f'used_{days}'] = tran_agg[f'count_{days}'] > 0\n",
    "\n",
    "\n",
    "data = cust.join(tran_agg.add_prefix('Tran_')).join(camp)\n",
    "\n",
    "data"
   ]
  },
  {
   "cell_type": "code",
   "execution_count": 4,
   "metadata": {},
   "outputs": [
    {
     "data": {
      "text/html": [
       "<div>\n",
       "<style scoped>\n",
       "    .dataframe tbody tr th:only-of-type {\n",
       "        vertical-align: middle;\n",
       "    }\n",
       "\n",
       "    .dataframe tbody tr th {\n",
       "        vertical-align: top;\n",
       "    }\n",
       "\n",
       "    .dataframe thead th {\n",
       "        text-align: right;\n",
       "    }\n",
       "</style>\n",
       "<table border=\"1\" class=\"dataframe\">\n",
       "  <thead>\n",
       "    <tr style=\"text-align: right;\">\n",
       "      <th></th>\n",
       "      <th>MaritalStatus_Single</th>\n",
       "      <th>MaritalStatus_Married</th>\n",
       "      <th>NumChildren</th>\n",
       "      <th>LoS</th>\n",
       "      <th>HHIncomeMed</th>\n",
       "      <th>HasChildren</th>\n",
       "      <th>HHIncodePerDependant</th>\n",
       "      <th>Tran_age_min</th>\n",
       "      <th>Tran_count_total</th>\n",
       "      <th>Tran_amount_total</th>\n",
       "      <th>Tran_amount_avg</th>\n",
       "      <th>Responded</th>\n",
       "    </tr>\n",
       "    <tr>\n",
       "      <th>CardID</th>\n",
       "      <th></th>\n",
       "      <th></th>\n",
       "      <th></th>\n",
       "      <th></th>\n",
       "      <th></th>\n",
       "      <th></th>\n",
       "      <th></th>\n",
       "      <th></th>\n",
       "      <th></th>\n",
       "      <th></th>\n",
       "      <th></th>\n",
       "      <th></th>\n",
       "    </tr>\n",
       "  </thead>\n",
       "  <tbody>\n",
       "    <tr>\n",
       "      <th>C0100000199</th>\n",
       "      <td>True</td>\n",
       "      <td>False</td>\n",
       "      <td>4</td>\n",
       "      <td>1.156164</td>\n",
       "      <td>71079.744865</td>\n",
       "      <td>True</td>\n",
       "      <td>14215.948973</td>\n",
       "      <td>1.0</td>\n",
       "      <td>3.0</td>\n",
       "      <td>597.00</td>\n",
       "      <td>199.000000</td>\n",
       "      <td>False</td>\n",
       "    </tr>\n",
       "    <tr>\n",
       "      <th>C0100000343</th>\n",
       "      <td>False</td>\n",
       "      <td>False</td>\n",
       "      <td>1</td>\n",
       "      <td>3.002740</td>\n",
       "      <td>79424.115726</td>\n",
       "      <td>True</td>\n",
       "      <td>39712.057863</td>\n",
       "      <td>114.0</td>\n",
       "      <td>6.0</td>\n",
       "      <td>700.94</td>\n",
       "      <td>116.823333</td>\n",
       "      <td>False</td>\n",
       "    </tr>\n",
       "    <tr>\n",
       "      <th>C0100000375</th>\n",
       "      <td>True</td>\n",
       "      <td>False</td>\n",
       "      <td>0</td>\n",
       "      <td>0.068493</td>\n",
       "      <td>41878.414258</td>\n",
       "      <td>False</td>\n",
       "      <td>41878.414258</td>\n",
       "      <td>59.0</td>\n",
       "      <td>4.0</td>\n",
       "      <td>223.98</td>\n",
       "      <td>55.995000</td>\n",
       "      <td>False</td>\n",
       "    </tr>\n",
       "    <tr>\n",
       "      <th>C0100000482</th>\n",
       "      <td>True</td>\n",
       "      <td>False</td>\n",
       "      <td>1</td>\n",
       "      <td>1.356164</td>\n",
       "      <td>62924.588763</td>\n",
       "      <td>True</td>\n",
       "      <td>31462.294381</td>\n",
       "      <td>20.0</td>\n",
       "      <td>4.0</td>\n",
       "      <td>197.98</td>\n",
       "      <td>49.495000</td>\n",
       "      <td>False</td>\n",
       "    </tr>\n",
       "    <tr>\n",
       "      <th>C0100000689</th>\n",
       "      <td>False</td>\n",
       "      <td>True</td>\n",
       "      <td>3</td>\n",
       "      <td>2.484932</td>\n",
       "      <td>46616.718039</td>\n",
       "      <td>True</td>\n",
       "      <td>11654.179510</td>\n",
       "      <td>4.0</td>\n",
       "      <td>2.0</td>\n",
       "      <td>428.00</td>\n",
       "      <td>214.000000</td>\n",
       "      <td>False</td>\n",
       "    </tr>\n",
       "    <tr>\n",
       "      <th>...</th>\n",
       "      <td>...</td>\n",
       "      <td>...</td>\n",
       "      <td>...</td>\n",
       "      <td>...</td>\n",
       "      <td>...</td>\n",
       "      <td>...</td>\n",
       "      <td>...</td>\n",
       "      <td>...</td>\n",
       "      <td>...</td>\n",
       "      <td>...</td>\n",
       "      <td>...</td>\n",
       "      <td>...</td>\n",
       "    </tr>\n",
       "    <tr>\n",
       "      <th>C0106595162</th>\n",
       "      <td>False</td>\n",
       "      <td>True</td>\n",
       "      <td>1</td>\n",
       "      <td>1.931507</td>\n",
       "      <td>49841.914121</td>\n",
       "      <td>True</td>\n",
       "      <td>24920.957061</td>\n",
       "      <td>92.0</td>\n",
       "      <td>2.0</td>\n",
       "      <td>388.99</td>\n",
       "      <td>194.495000</td>\n",
       "      <td>False</td>\n",
       "    </tr>\n",
       "    <tr>\n",
       "      <th>C0106596136</th>\n",
       "      <td>False</td>\n",
       "      <td>True</td>\n",
       "      <td>3</td>\n",
       "      <td>1.400000</td>\n",
       "      <td>88015.076144</td>\n",
       "      <td>True</td>\n",
       "      <td>22003.769036</td>\n",
       "      <td>5.0</td>\n",
       "      <td>2.0</td>\n",
       "      <td>108.99</td>\n",
       "      <td>54.495000</td>\n",
       "      <td>False</td>\n",
       "    </tr>\n",
       "    <tr>\n",
       "      <th>C0106596422</th>\n",
       "      <td>False</td>\n",
       "      <td>False</td>\n",
       "      <td>0</td>\n",
       "      <td>1.558904</td>\n",
       "      <td>46617.938780</td>\n",
       "      <td>False</td>\n",
       "      <td>46617.938780</td>\n",
       "      <td>134.0</td>\n",
       "      <td>2.0</td>\n",
       "      <td>948.00</td>\n",
       "      <td>474.000000</td>\n",
       "      <td>False</td>\n",
       "    </tr>\n",
       "    <tr>\n",
       "      <th>C0106596502</th>\n",
       "      <td>False</td>\n",
       "      <td>True</td>\n",
       "      <td>2</td>\n",
       "      <td>-0.739726</td>\n",
       "      <td>52631.916257</td>\n",
       "      <td>True</td>\n",
       "      <td>17543.972086</td>\n",
       "      <td>16.0</td>\n",
       "      <td>1.0</td>\n",
       "      <td>279.00</td>\n",
       "      <td>279.000000</td>\n",
       "      <td>False</td>\n",
       "    </tr>\n",
       "    <tr>\n",
       "      <th>C0106596676</th>\n",
       "      <td>False</td>\n",
       "      <td>False</td>\n",
       "      <td>3</td>\n",
       "      <td>0.778082</td>\n",
       "      <td>83728.446303</td>\n",
       "      <td>True</td>\n",
       "      <td>20932.111576</td>\n",
       "      <td>112.0</td>\n",
       "      <td>5.0</td>\n",
       "      <td>327.97</td>\n",
       "      <td>65.594000</td>\n",
       "      <td>False</td>\n",
       "    </tr>\n",
       "  </tbody>\n",
       "</table>\n",
       "<p>12832 rows × 12 columns</p>\n",
       "</div>"
      ],
      "text/plain": [
       "             MaritalStatus_Single  MaritalStatus_Married  NumChildren  \\\n",
       "CardID                                                                  \n",
       "C0100000199                  True                  False            4   \n",
       "C0100000343                 False                  False            1   \n",
       "C0100000375                  True                  False            0   \n",
       "C0100000482                  True                  False            1   \n",
       "C0100000689                 False                   True            3   \n",
       "...                           ...                    ...          ...   \n",
       "C0106595162                 False                   True            1   \n",
       "C0106596136                 False                   True            3   \n",
       "C0106596422                 False                  False            0   \n",
       "C0106596502                 False                   True            2   \n",
       "C0106596676                 False                  False            3   \n",
       "\n",
       "                  LoS   HHIncomeMed  HasChildren  HHIncodePerDependant  \\\n",
       "CardID                                                                   \n",
       "C0100000199  1.156164  71079.744865         True          14215.948973   \n",
       "C0100000343  3.002740  79424.115726         True          39712.057863   \n",
       "C0100000375  0.068493  41878.414258        False          41878.414258   \n",
       "C0100000482  1.356164  62924.588763         True          31462.294381   \n",
       "C0100000689  2.484932  46616.718039         True          11654.179510   \n",
       "...               ...           ...          ...                   ...   \n",
       "C0106595162  1.931507  49841.914121         True          24920.957061   \n",
       "C0106596136  1.400000  88015.076144         True          22003.769036   \n",
       "C0106596422  1.558904  46617.938780        False          46617.938780   \n",
       "C0106596502 -0.739726  52631.916257         True          17543.972086   \n",
       "C0106596676  0.778082  83728.446303         True          20932.111576   \n",
       "\n",
       "             Tran_age_min  Tran_count_total  Tran_amount_total  \\\n",
       "CardID                                                           \n",
       "C0100000199           1.0               3.0             597.00   \n",
       "C0100000343         114.0               6.0             700.94   \n",
       "C0100000375          59.0               4.0             223.98   \n",
       "C0100000482          20.0               4.0             197.98   \n",
       "C0100000689           4.0               2.0             428.00   \n",
       "...                   ...               ...                ...   \n",
       "C0106595162          92.0               2.0             388.99   \n",
       "C0106596136           5.0               2.0             108.99   \n",
       "C0106596422         134.0               2.0             948.00   \n",
       "C0106596502          16.0               1.0             279.00   \n",
       "C0106596676         112.0               5.0             327.97   \n",
       "\n",
       "             Tran_amount_avg  Responded  \n",
       "CardID                                   \n",
       "C0100000199       199.000000      False  \n",
       "C0100000343       116.823333      False  \n",
       "C0100000375        55.995000      False  \n",
       "C0100000482        49.495000      False  \n",
       "C0100000689       214.000000      False  \n",
       "...                      ...        ...  \n",
       "C0106595162       194.495000      False  \n",
       "C0106596136        54.495000      False  \n",
       "C0106596422       474.000000      False  \n",
       "C0106596502       279.000000      False  \n",
       "C0106596676        65.594000      False  \n",
       "\n",
       "[12832 rows x 12 columns]"
      ]
     },
     "execution_count": 4,
     "metadata": {},
     "output_type": "execute_result"
    }
   ],
   "source": [
    "data_enc = pd.get_dummies(data, columns=['MaritalStatus'])\n",
    "data_enc.drop(['MaritalStatus_Other'], axis=1, inplace=True)\n",
    "\n",
    "data_enc.insert(0, 'MaritalStatus_Single', data_enc.pop('MaritalStatus_Single'))\n",
    "data_enc.insert(1, 'MaritalStatus_Married', data_enc.pop('MaritalStatus_Married'))\n",
    "\n",
    "data_enc"
   ]
  },
  {
   "cell_type": "markdown",
   "metadata": {},
   "source": [
    "## Classification"
   ]
  },
  {
   "cell_type": "markdown",
   "metadata": {},
   "source": [
    "Object for data representation\n",
    "\n",
    "- split to test and train\n",
    "- preprocess data using train split\n",
    "- get metrics"
   ]
  },
  {
   "cell_type": "code",
   "execution_count": 25,
   "metadata": {},
   "outputs": [],
   "source": [
    "class Dataset:\n",
    "\tdef __init__(self, data, target=None, prep=None, \n",
    "\t\t\ttest_size=0.2, random_state=None):\n",
    "\t\t\n",
    "\t\tself.data = { 'all': data }\n",
    "\t\tself.target = target\n",
    "\n",
    "\t\tself.data['train'], self.data['test'] = train_test_split(\n",
    "\t\t\tself.data['all'], stratify=self.y(),\n",
    "\t\t\ttest_size=test_size, random_state=random_state)\n",
    "\n",
    "\t\tself.prep = prep\n",
    "\t\tif self.prep:\n",
    "\t\t\tself.prep.fit(self.X('train', use_prep=False))\n",
    "\n",
    "\tdef y(self, split='all'):\n",
    "\t\treturn self.data[split][self.target]\n",
    "\n",
    "\tdef X(self, split='all', use_prep=True):\n",
    "\t\tX_ = self.data[split].drop(self.target, axis=1)\n",
    "\t\t\n",
    "\t\tif self.prep and use_prep:\n",
    "\t\t\tX_ = self.prep.transform(X_)\n",
    "\n",
    "\t\treturn X_\n",
    "\n",
    "ds = Dataset(data_enc, target='Responded', prep=StandardScaler(), random_state=37)"
   ]
  },
  {
   "cell_type": "markdown",
   "metadata": {},
   "source": [
    "Object for classifier representation\n",
    "\n",
    "- oversample data (if selected)\n",
    "- optimize hyperparameters\n",
    "- calculate metrics\n"
   ]
  },
  {
   "cell_type": "code",
   "execution_count": null,
   "metadata": {},
   "outputs": [],
   "source": [
    "class Classifier:\n",
    "\tinstances = {}\n",
    "\n",
    "\tdef __init__(self, name, clf, param):\n",
    "\t\tself.name = name\n",
    "\t\tself.clf = clf\n",
    "\t\tself.param = param\n",
    "\n",
    "\t\tClassifier.instances[name] = self\n",
    "\t\t\t\n",
    "\tdef optimize_param(self, dataset, over_sample=False,\n",
    "\t\t\tmetric='balanced_accuracy', n_iter=30, random_state=None, verbose=0):\n",
    "\t\t\n",
    "\t\tself.opt_dataset = dataset\n",
    "\t\tself.opt_clf = RandomizedSearchCV(\n",
    "\t\t\tself.clf, self.param, scoring=metric, n_jobs=-1, n_iter=n_iter, \n",
    "\t\t\t\trandom_state=random_state, verbose=verbose)\n",
    "\t\t\n",
    "\t\tX = dataset.X('train')\n",
    "\t\ty = dataset.y('train')\n",
    "\n",
    "\t\t\n",
    "\n",
    "\t\tself.opt_clf.fit(X, y)\n",
    "\t\tif over_sample:\n",
    "\t\t\tsm = SMOTE(random_state=random_state)\n",
    "\t\t\tX_res, y_res = sm.fit_resample(X, y)\n",
    "\n",
    "\t\t\n",
    "\tdef get_metrics(self, dataset=None, metrics=['accuracy', 'balanced_accuracy'], as_string=False):\n",
    "\t\tif dataset is None:\n",
    "\t\t\tdataset = self.opt_dataset\n",
    "\n",
    "\t\td = { 'name': self.name }\n",
    "\n",
    "\t\tfor met in metrics:\n",
    "\t\t\tscorer = get_scorer(met)\n",
    "\t\t\tfor split in ['train', 'test']:\n",
    "\t\t\t\td[f'{met}_{split}'] = float(scorer(self.opt_clf, \n",
    "\t\t\t\t\tdataset.X(split), dataset.y(split)))\n",
    "\n",
    "\n",
    "\t\tself.metrics = d\n",
    "\n",
    "\t\tif as_string:\n",
    "\t\t\tkeys = d.keys()\n",
    "\t\t\tvalues = [f'{v:0.3f}' if isinstance(v, float) else v for v in d.values()]\n",
    "\t\t\treturn ', '.join([f'{k}: {v}' for k, v in zip(keys, values)])\n",
    "\n",
    "\t\treturn d\t\t\n",
    "\n",
    "classifiers = {\n",
    "\t'nn': {\n",
    "\t\t'clf': MLPClassifier(),\n",
    "\t\t'param': {\n",
    "\t\t\t'hidden_layer_sizes' : [\n",
    "\t\t\t\t(128,),\n",
    "\t\t\t\t(64, 64),\n",
    "\t\t\t\t(32, 32, 32),\n",
    "\t\t\t],\n",
    "\t\t\t'solver' : ['adam', 'sgd'],\n",
    "\t\t\t'alpha' : loguniform(1e-4, 1e-2),\n",
    "\t\t\t'learning_rate' : ['constant', 'invscaling'],\n",
    "\t\t\t'learning_rate_init' : loguniform(1e-4, 1e-2),\n",
    "\t\t}\n",
    "\t}\n",
    "}"
   ]
  },
  {
   "cell_type": "markdown",
   "metadata": {},
   "source": [
    "### K-nearest neighbour classifier"
   ]
  },
  {
   "cell_type": "code",
   "execution_count": 33,
   "metadata": {},
   "outputs": [
    {
     "name": "stdout",
     "output_type": "stream",
     "text": [
      "Fitting 5 folds for each of 50 candidates, totalling 250 fits\n",
      "[CV] END algorithm=kd_tree, leaf_size=22, n_neighbors=6, p=1, weights=distance; total time=   0.2s\n",
      "[CV] END algorithm=kd_tree, leaf_size=22, n_neighbors=6, p=1, weights=distance; total time=   0.2s\n",
      "[CV] END algorithm=kd_tree, leaf_size=22, n_neighbors=6, p=1, weights=distance; total time=   0.2s\n",
      "[CV] END algorithm=kd_tree, leaf_size=22, n_neighbors=6, p=1, weights=distance; total time=   0.2s\n",
      "[CV] END algorithm=ball_tree, leaf_size=45, n_neighbors=6, p=1, weights=distance; total time=   0.2s\n",
      "[CV] END algorithm=kd_tree, leaf_size=22, n_neighbors=6, p=1, weights=distance; total time=   0.2s\n",
      "[CV] END algorithm=kd_tree, leaf_size=34, n_neighbors=8, p=2, weights=distance; total time=   0.1s\n",
      "[CV] END algorithm=kd_tree, leaf_size=34, n_neighbors=8, p=2, weights=distance; total time=   0.2s\n",
      "[CV] END algorithm=ball_tree, leaf_size=45, n_neighbors=6, p=1, weights=distance; total time=   0.2s\n",
      "[CV] END algorithm=ball_tree, leaf_size=45, n_neighbors=6, p=1, weights=distance; total time=   0.3s\n",
      "[CV] END algorithm=ball_tree, leaf_size=45, n_neighbors=6, p=1, weights=distance; total time=   0.2s\n",
      "[CV] END algorithm=kd_tree, leaf_size=34, n_neighbors=8, p=2, weights=distance; total time=   0.1s\n",
      "[CV] END algorithm=kd_tree, leaf_size=34, n_neighbors=8, p=2, weights=distance; total time=   0.1s\n",
      "[CV] END algorithm=kd_tree, leaf_size=34, n_neighbors=8, p=2, weights=distance; total time=   0.1s\n",
      "[CV] END algorithm=ball_tree, leaf_size=45, n_neighbors=6, p=1, weights=distance; total time=   0.3s\n",
      "[CV] END algorithm=ball_tree, leaf_size=18, n_neighbors=3, p=2, weights=uniform; total time=   0.3s\n",
      "[CV] END algorithm=ball_tree, leaf_size=18, n_neighbors=3, p=2, weights=uniform; total time=   0.3s\n",
      "[CV] END algorithm=ball_tree, leaf_size=18, n_neighbors=3, p=2, weights=uniform; total time=   0.4s\n",
      "[CV] END algorithm=kd_tree, leaf_size=34, n_neighbors=5, p=2, weights=uniform; total time=   0.2s\n",
      "[CV] END algorithm=ball_tree, leaf_size=18, n_neighbors=3, p=2, weights=uniform; total time=   0.4s\n",
      "[CV] END algorithm=ball_tree, leaf_size=18, n_neighbors=3, p=2, weights=uniform; total time=   0.4s\n",
      "[CV] END algorithm=kd_tree, leaf_size=34, n_neighbors=5, p=2, weights=uniform; total time=   0.2s\n",
      "[CV] END algorithm=ball_tree, leaf_size=34, n_neighbors=9, p=1, weights=uniform; total time=   0.3s\n",
      "[CV] END algorithm=ball_tree, leaf_size=34, n_neighbors=9, p=1, weights=uniform; total time=   0.3s\n",
      "[CV] END algorithm=ball_tree, leaf_size=34, n_neighbors=9, p=1, weights=uniform; total time=   0.3s\n",
      "[CV] END algorithm=ball_tree, leaf_size=20, n_neighbors=6, p=1, weights=distance; total time=   0.2s\n",
      "[CV] END algorithm=ball_tree, leaf_size=34, n_neighbors=9, p=1, weights=uniform; total time=   0.4s\n",
      "[CV] END algorithm=ball_tree, leaf_size=20, n_neighbors=6, p=1, weights=distance; total time=   0.2s\n",
      "[CV] END algorithm=ball_tree, leaf_size=20, n_neighbors=6, p=1, weights=distance; total time=   0.2s\n",
      "[CV] END algorithm=ball_tree, leaf_size=34, n_neighbors=9, p=1, weights=uniform; total time=   0.4s\n",
      "[CV] END algorithm=kd_tree, leaf_size=34, n_neighbors=5, p=2, weights=uniform; total time=   0.2s\n",
      "[CV] END algorithm=kd_tree, leaf_size=34, n_neighbors=5, p=2, weights=uniform; total time=   0.2s\n",
      "[CV] END algorithm=ball_tree, leaf_size=20, n_neighbors=6, p=1, weights=distance; total time=   0.2s\n",
      "[CV] END algorithm=ball_tree, leaf_size=45, n_neighbors=5, p=2, weights=distance; total time=   0.3s\n",
      "[CV] END algorithm=ball_tree, leaf_size=45, n_neighbors=5, p=2, weights=distance; total time=   0.3s\n",
      "[CV] END algorithm=ball_tree, leaf_size=20, n_neighbors=6, p=1, weights=distance; total time=   0.2s\n",
      "[CV] END algorithm=kd_tree, leaf_size=30, n_neighbors=4, p=2, weights=distance; total time=   0.1s\n",
      "[CV] END algorithm=ball_tree, leaf_size=41, n_neighbors=9, p=2, weights=uniform; total time=   0.4s\n",
      "[CV] END algorithm=kd_tree, leaf_size=24, n_neighbors=9, p=2, weights=uniform; total time=   0.3s\n",
      "[CV] END algorithm=ball_tree, leaf_size=41, n_neighbors=9, p=2, weights=uniform; total time=   0.4s\n",
      "[CV] END algorithm=kd_tree, leaf_size=34, n_neighbors=5, p=2, weights=uniform; total time=   0.3s\n",
      "[CV] END algorithm=ball_tree, leaf_size=41, n_neighbors=9, p=2, weights=uniform; total time=   0.4s\n",
      "[CV] END algorithm=ball_tree, leaf_size=45, n_neighbors=5, p=2, weights=distance; total time=   0.3s\n",
      "[CV] END algorithm=kd_tree, leaf_size=30, n_neighbors=4, p=2, weights=distance; total time=   0.1s\n",
      "[CV] END algorithm=kd_tree, leaf_size=30, n_neighbors=4, p=2, weights=distance; total time=   0.1s\n",
      "[CV] END algorithm=kd_tree, leaf_size=30, n_neighbors=4, p=2, weights=distance; total time=   0.1s\n",
      "[CV] END algorithm=kd_tree, leaf_size=24, n_neighbors=9, p=2, weights=uniform; total time=   0.3s\n",
      "[CV] END algorithm=kd_tree, leaf_size=30, n_neighbors=4, p=2, weights=distance; total time=   0.2s\n",
      "[CV] END algorithm=ball_tree, leaf_size=45, n_neighbors=5, p=2, weights=distance; total time=   0.3s\n",
      "[CV] END algorithm=ball_tree, leaf_size=45, n_neighbors=5, p=2, weights=distance; total time=   0.3s\n",
      "[CV] END algorithm=kd_tree, leaf_size=24, n_neighbors=9, p=2, weights=uniform; total time=   0.3s\n",
      "[CV] END algorithm=kd_tree, leaf_size=24, n_neighbors=9, p=2, weights=uniform; total time=   0.3s\n",
      "[CV] END algorithm=kd_tree, leaf_size=46, n_neighbors=5, p=1, weights=uniform; total time=   0.3s\n",
      "[CV] END algorithm=kd_tree, leaf_size=30, n_neighbors=3, p=1, weights=distance; total time=   0.3s\n",
      "[CV] END algorithm=kd_tree, leaf_size=46, n_neighbors=5, p=1, weights=uniform; total time=   0.3s\n",
      "[CV] END algorithm=kd_tree, leaf_size=30, n_neighbors=3, p=1, weights=distance; total time=   0.2s\n",
      "[CV] END algorithm=kd_tree, leaf_size=46, n_neighbors=5, p=1, weights=uniform; total time=   0.4s\n",
      "[CV] END algorithm=kd_tree, leaf_size=24, n_neighbors=9, p=2, weights=uniform; total time=   0.4s\n",
      "[CV] END algorithm=ball_tree, leaf_size=41, n_neighbors=9, p=2, weights=uniform; total time=   0.5s\n",
      "[CV] END algorithm=ball_tree, leaf_size=41, n_neighbors=9, p=2, weights=uniform; total time=   0.5s\n",
      "[CV] END algorithm=kd_tree, leaf_size=30, n_neighbors=3, p=1, weights=distance; total time=   0.3s\n",
      "[CV] END algorithm=ball_tree, leaf_size=39, n_neighbors=8, p=1, weights=distance; total time=   0.3s\n",
      "[CV] END algorithm=kd_tree, leaf_size=30, n_neighbors=3, p=1, weights=distance; total time=   0.2s\n",
      "[CV] END algorithm=ball_tree, leaf_size=39, n_neighbors=8, p=1, weights=distance; total time=   0.3s\n",
      "[CV] END algorithm=ball_tree, leaf_size=36, n_neighbors=4, p=1, weights=distance; total time=   0.3s\n",
      "[CV] END algorithm=kd_tree, leaf_size=46, n_neighbors=5, p=1, weights=uniform; total time=   0.3s\n",
      "[CV] END algorithm=kd_tree, leaf_size=46, n_neighbors=5, p=1, weights=uniform; total time=   0.3s\n",
      "[CV] END algorithm=ball_tree, leaf_size=36, n_neighbors=4, p=1, weights=distance; total time=   0.3s\n",
      "[CV] END algorithm=kd_tree, leaf_size=30, n_neighbors=3, p=1, weights=distance; total time=   0.2s\n",
      "[CV] END algorithm=ball_tree, leaf_size=46, n_neighbors=3, p=2, weights=distance; total time=   0.2s\n",
      "[CV] END algorithm=ball_tree, leaf_size=39, n_neighbors=8, p=1, weights=distance; total time=   0.3s\n",
      "[CV] END algorithm=ball_tree, leaf_size=36, n_neighbors=4, p=1, weights=distance; total time=   0.3s\n",
      "[CV] END algorithm=ball_tree, leaf_size=46, n_neighbors=3, p=2, weights=distance; total time=   0.3s\n",
      "[CV] END algorithm=ball_tree, leaf_size=24, n_neighbors=3, p=2, weights=distance; total time=   0.3s\n",
      "[CV] END algorithm=ball_tree, leaf_size=36, n_neighbors=4, p=1, weights=distance; total time=   0.2s\n",
      "[CV] END algorithm=ball_tree, leaf_size=39, n_neighbors=8, p=1, weights=distance; total time=   0.3s\n",
      "[CV] END algorithm=ball_tree, leaf_size=24, n_neighbors=3, p=2, weights=distance; total time=   0.2s\n",
      "[CV] END algorithm=ball_tree, leaf_size=36, n_neighbors=4, p=1, weights=distance; total time=   0.2s\n",
      "[CV] END algorithm=ball_tree, leaf_size=39, n_neighbors=8, p=1, weights=distance; total time=   0.3s\n",
      "[CV] END algorithm=ball_tree, leaf_size=46, n_neighbors=3, p=2, weights=distance; total time=   0.2s\n",
      "[CV] END algorithm=ball_tree, leaf_size=24, n_neighbors=3, p=2, weights=distance; total time=   0.3s\n",
      "[CV] END algorithm=kd_tree, leaf_size=26, n_neighbors=3, p=1, weights=uniform; total time=   0.2s\n",
      "[CV] END algorithm=ball_tree, leaf_size=46, n_neighbors=3, p=2, weights=distance; total time=   0.2s\n",
      "[CV] END algorithm=ball_tree, leaf_size=46, n_neighbors=3, p=2, weights=distance; total time=   0.3s\n",
      "[CV] END algorithm=kd_tree, leaf_size=46, n_neighbors=8, p=1, weights=distance; total time=   0.2s\n",
      "[CV] END algorithm=kd_tree, leaf_size=26, n_neighbors=3, p=1, weights=uniform; total time=   0.3s\n",
      "[CV] END algorithm=kd_tree, leaf_size=46, n_neighbors=8, p=1, weights=distance; total time=   0.2s\n",
      "[CV] END algorithm=ball_tree, leaf_size=24, n_neighbors=3, p=2, weights=distance; total time=   0.3s\n",
      "[CV] END algorithm=kd_tree, leaf_size=46, n_neighbors=8, p=1, weights=distance; total time=   0.2s\n",
      "[CV] END algorithm=kd_tree, leaf_size=39, n_neighbors=5, p=2, weights=uniform; total time=   0.2s\n",
      "[CV] END algorithm=kd_tree, leaf_size=26, n_neighbors=3, p=1, weights=uniform; total time=   0.3s\n",
      "[CV] END algorithm=kd_tree, leaf_size=39, n_neighbors=5, p=2, weights=uniform; total time=   0.2s\n",
      "[CV] END algorithm=kd_tree, leaf_size=26, n_neighbors=3, p=1, weights=uniform; total time=   0.2s\n",
      "[CV] END algorithm=ball_tree, leaf_size=24, n_neighbors=3, p=2, weights=distance; total time=   0.2s\n",
      "[CV] END algorithm=kd_tree, leaf_size=43, n_neighbors=7, p=2, weights=uniform; total time=   0.2s\n",
      "[CV] END algorithm=kd_tree, leaf_size=46, n_neighbors=8, p=1, weights=distance; total time=   0.2s\n",
      "[CV] END algorithm=kd_tree, leaf_size=46, n_neighbors=8, p=1, weights=distance; total time=   0.2s[CV] END algorithm=kd_tree, leaf_size=44, n_neighbors=7, p=2, weights=distance; total time=   0.1s\n",
      "\n",
      "[CV] END algorithm=kd_tree, leaf_size=39, n_neighbors=5, p=2, weights=uniform; total time=   0.2s\n",
      "[CV] END algorithm=kd_tree, leaf_size=23, n_neighbors=4, p=2, weights=distance; total time=   0.1s\n",
      "[CV] END algorithm=kd_tree, leaf_size=43, n_neighbors=7, p=2, weights=uniform; total time=   0.3s\n",
      "[CV] END algorithm=kd_tree, leaf_size=39, n_neighbors=5, p=2, weights=uniform; total time=   0.2s\n",
      "[CV] END algorithm=kd_tree, leaf_size=44, n_neighbors=7, p=2, weights=distance; total time=   0.2s\n",
      "[CV] END algorithm=kd_tree, leaf_size=26, n_neighbors=3, p=1, weights=uniform; total time=   0.3s\n",
      "[CV] END algorithm=kd_tree, leaf_size=43, n_neighbors=7, p=2, weights=uniform; total time=   0.3s\n",
      "[CV] END algorithm=kd_tree, leaf_size=23, n_neighbors=4, p=2, weights=distance; total time=   0.1s\n",
      "[CV] END algorithm=kd_tree, leaf_size=44, n_neighbors=7, p=2, weights=distance; total time=   0.1s\n",
      "[CV] END algorithm=kd_tree, leaf_size=23, n_neighbors=4, p=2, weights=distance; total time=   0.1s[CV] END algorithm=kd_tree, leaf_size=39, n_neighbors=5, p=2, weights=uniform; total time=   0.3s\n",
      "\n",
      "[CV] END algorithm=kd_tree, leaf_size=23, n_neighbors=4, p=2, weights=distance; total time=   0.1s\n",
      "[CV] END algorithm=kd_tree, leaf_size=43, n_neighbors=7, p=2, weights=uniform; total time=   0.3s\n",
      "[CV] END algorithm=kd_tree, leaf_size=44, n_neighbors=7, p=2, weights=distance; total time=   0.2s\n",
      "[CV] END algorithm=kd_tree, leaf_size=44, n_neighbors=7, p=2, weights=distance; total time=   0.2s\n",
      "[CV] END algorithm=kd_tree, leaf_size=23, n_neighbors=4, p=2, weights=distance; total time=   0.2s\n",
      "[CV] END algorithm=kd_tree, leaf_size=43, n_neighbors=7, p=2, weights=uniform; total time=   0.4s\n",
      "[CV] END algorithm=ball_tree, leaf_size=42, n_neighbors=5, p=2, weights=distance; total time=   0.4s\n",
      "[CV] END algorithm=ball_tree, leaf_size=42, n_neighbors=5, p=2, weights=distance; total time=   0.4s\n",
      "[CV] END algorithm=kd_tree, leaf_size=40, n_neighbors=9, p=2, weights=uniform; total time=   0.4s\n",
      "[CV] END algorithm=kd_tree, leaf_size=40, n_neighbors=9, p=2, weights=uniform; total time=   0.5s\n",
      "[CV] END algorithm=ball_tree, leaf_size=42, n_neighbors=5, p=2, weights=distance; total time=   0.5s[CV] END algorithm=kd_tree, leaf_size=40, n_neighbors=9, p=2, weights=uniform; total time=   0.5s\n",
      "\n",
      "[CV] END algorithm=kd_tree, leaf_size=21, n_neighbors=8, p=2, weights=uniform; total time=   0.5s\n",
      "[CV] END algorithm=kd_tree, leaf_size=21, n_neighbors=8, p=2, weights=uniform; total time=   0.5s\n",
      "[CV] END algorithm=kd_tree, leaf_size=14, n_neighbors=8, p=2, weights=uniform; total time=   0.5s\n",
      "[CV] END algorithm=kd_tree, leaf_size=14, n_neighbors=8, p=2, weights=uniform; total time=   0.5s\n",
      "[CV] END algorithm=kd_tree, leaf_size=14, n_neighbors=8, p=2, weights=uniform; total time=   0.7s\n",
      "[CV] END algorithm=ball_tree, leaf_size=42, n_neighbors=5, p=2, weights=distance; total time=   0.5s\n",
      "[CV] END algorithm=ball_tree, leaf_size=42, n_neighbors=5, p=2, weights=distance; total time=   0.5s\n",
      "[CV] END algorithm=kd_tree, leaf_size=40, n_neighbors=9, p=2, weights=uniform; total time=   0.5s\n",
      "[CV] END algorithm=kd_tree, leaf_size=19, n_neighbors=7, p=2, weights=uniform; total time=   0.6s\n",
      "[CV] END algorithm=kd_tree, leaf_size=40, n_neighbors=9, p=2, weights=uniform; total time=   0.6s\n",
      "[CV] END algorithm=kd_tree, leaf_size=21, n_neighbors=8, p=2, weights=uniform; total time=   0.5s\n",
      "[CV] END algorithm=kd_tree, leaf_size=21, n_neighbors=8, p=2, weights=uniform; total time=   0.6s\n",
      "[CV] END algorithm=kd_tree, leaf_size=43, n_neighbors=5, p=2, weights=distance; total time=   0.3s\n",
      "[CV] END algorithm=kd_tree, leaf_size=43, n_neighbors=5, p=2, weights=distance; total time=   0.3s\n",
      "[CV] END algorithm=kd_tree, leaf_size=19, n_neighbors=7, p=2, weights=uniform; total time=   0.6s\n",
      "[CV] END algorithm=kd_tree, leaf_size=21, n_neighbors=8, p=2, weights=uniform; total time=   0.6s\n",
      "[CV] END algorithm=kd_tree, leaf_size=19, n_neighbors=7, p=2, weights=uniform; total time=   0.5s\n",
      "[CV] END algorithm=kd_tree, leaf_size=43, n_neighbors=5, p=2, weights=distance; total time=   0.3s\n",
      "[CV] END algorithm=kd_tree, leaf_size=14, n_neighbors=8, p=2, weights=uniform; total time=   0.6s\n",
      "[CV] END algorithm=kd_tree, leaf_size=43, n_neighbors=5, p=2, weights=distance; total time=   0.3s\n",
      "[CV] END algorithm=kd_tree, leaf_size=43, n_neighbors=5, p=2, weights=distance; total time=   0.3s\n",
      "[CV] END algorithm=kd_tree, leaf_size=14, n_neighbors=8, p=2, weights=uniform; total time=   0.7s\n",
      "[CV] END algorithm=kd_tree, leaf_size=19, n_neighbors=9, p=2, weights=distance; total time=   0.4s\n",
      "[CV] END algorithm=kd_tree, leaf_size=19, n_neighbors=7, p=2, weights=uniform; total time=   0.6s\n",
      "[CV] END algorithm=kd_tree, leaf_size=19, n_neighbors=9, p=2, weights=distance; total time=   0.4s\n",
      "[CV] END algorithm=ball_tree, leaf_size=17, n_neighbors=9, p=2, weights=distance; total time=   0.6s\n",
      "[CV] END algorithm=kd_tree, leaf_size=19, n_neighbors=9, p=2, weights=distance; total time=   0.4s\n",
      "[CV] END algorithm=ball_tree, leaf_size=17, n_neighbors=9, p=2, weights=distance; total time=   0.7s\n",
      "[CV] END algorithm=ball_tree, leaf_size=19, n_neighbors=4, p=2, weights=distance; total time=   0.6s\n",
      "[CV] END algorithm=kd_tree, leaf_size=19, n_neighbors=7, p=2, weights=uniform; total time=   0.7s\n",
      "[CV] END algorithm=ball_tree, leaf_size=17, n_neighbors=9, p=2, weights=distance; total time=   0.7s\n",
      "[CV] END algorithm=kd_tree, leaf_size=19, n_neighbors=9, p=2, weights=distance; total time=   0.4s\n",
      "[CV] END algorithm=kd_tree, leaf_size=19, n_neighbors=9, p=2, weights=distance; total time=   0.5s\n",
      "[CV] END algorithm=ball_tree, leaf_size=19, n_neighbors=4, p=2, weights=distance; total time=   0.6s\n",
      "[CV] END algorithm=ball_tree, leaf_size=10, n_neighbors=3, p=1, weights=uniform; total time=   0.6s\n",
      "[CV] END algorithm=ball_tree, leaf_size=10, n_neighbors=3, p=1, weights=uniform; total time=   0.7s\n",
      "[CV] END algorithm=ball_tree, leaf_size=19, n_neighbors=4, p=2, weights=distance; total time=   0.7s\n",
      "[CV] END algorithm=ball_tree, leaf_size=19, n_neighbors=4, p=2, weights=distance; total time=   0.5s\n",
      "[CV] END algorithm=ball_tree, leaf_size=17, n_neighbors=9, p=2, weights=distance; total time=   0.7s\n",
      "[CV] END algorithm=ball_tree, leaf_size=17, n_neighbors=9, p=2, weights=distance; total time=   0.8s\n",
      "[CV] END algorithm=ball_tree, leaf_size=10, n_neighbors=3, p=1, weights=uniform; total time=   0.9s\n",
      "[CV] END algorithm=kd_tree, leaf_size=10, n_neighbors=7, p=1, weights=distance; total time=   0.6s\n",
      "[CV] END algorithm=ball_tree, leaf_size=19, n_neighbors=4, p=2, weights=distance; total time=   0.5s\n",
      "[CV] END algorithm=kd_tree, leaf_size=10, n_neighbors=7, p=1, weights=distance; total time=   0.7s\n",
      "[CV] END algorithm=ball_tree, leaf_size=10, n_neighbors=3, p=1, weights=uniform; total time=   0.5s\n",
      "[CV] END algorithm=ball_tree, leaf_size=10, n_neighbors=3, p=1, weights=uniform; total time=   0.5s\n",
      "[CV] END algorithm=kd_tree, leaf_size=11, n_neighbors=6, p=1, weights=distance; total time=   0.5s\n",
      "[CV] END algorithm=kd_tree, leaf_size=11, n_neighbors=6, p=1, weights=distance; total time=   0.5s\n",
      "[CV] END algorithm=ball_tree, leaf_size=41, n_neighbors=8, p=2, weights=uniform; total time=   1.0s\n",
      "[CV] END algorithm=kd_tree, leaf_size=10, n_neighbors=7, p=1, weights=distance; total time=   0.6s\n",
      "[CV] END algorithm=ball_tree, leaf_size=41, n_neighbors=8, p=2, weights=uniform; total time=   1.0s\n",
      "[CV] END algorithm=kd_tree, leaf_size=10, n_neighbors=7, p=1, weights=distance; total time=   0.5s\n",
      "[CV] END algorithm=ball_tree, leaf_size=41, n_neighbors=8, p=2, weights=uniform; total time=   0.8s\n",
      "[CV] END algorithm=kd_tree, leaf_size=10, n_neighbors=7, p=1, weights=distance; total time=   0.6s\n",
      "[CV] END algorithm=ball_tree, leaf_size=49, n_neighbors=3, p=2, weights=uniform; total time=   0.8s\n",
      "[CV] END algorithm=kd_tree, leaf_size=38, n_neighbors=5, p=2, weights=uniform; total time=   0.5s\n",
      "[CV] END algorithm=ball_tree, leaf_size=49, n_neighbors=3, p=2, weights=uniform; total time=   0.7s\n",
      "[CV] END algorithm=ball_tree, leaf_size=49, n_neighbors=3, p=2, weights=uniform; total time=   0.8s\n",
      "[CV] END algorithm=kd_tree, leaf_size=11, n_neighbors=6, p=1, weights=distance; total time=   0.6s\n",
      "[CV] END algorithm=kd_tree, leaf_size=11, n_neighbors=6, p=1, weights=distance; total time=   0.6s\n",
      "[CV] END algorithm=kd_tree, leaf_size=38, n_neighbors=5, p=2, weights=uniform; total time=   0.6s\n",
      "[CV] END algorithm=kd_tree, leaf_size=38, n_neighbors=5, p=2, weights=uniform; total time=   0.6s\n",
      "[CV] END algorithm=kd_tree, leaf_size=11, n_neighbors=6, p=1, weights=distance; total time=   0.7s\n",
      "[CV] END algorithm=ball_tree, leaf_size=46, n_neighbors=8, p=2, weights=uniform; total time=   1.0s\n",
      "[CV] END algorithm=ball_tree, leaf_size=41, n_neighbors=8, p=2, weights=uniform; total time=   1.1s\n",
      "[CV] END algorithm=kd_tree, leaf_size=38, n_neighbors=5, p=2, weights=uniform; total time=   0.7s\n",
      "[CV] END algorithm=ball_tree, leaf_size=41, n_neighbors=8, p=2, weights=uniform; total time=   1.1s\n",
      "[CV] END algorithm=ball_tree, leaf_size=49, n_neighbors=3, p=2, weights=uniform; total time=   1.0s\n",
      "[CV] END algorithm=ball_tree, leaf_size=49, n_neighbors=3, p=2, weights=uniform; total time=   1.0s\n",
      "[CV] END algorithm=kd_tree, leaf_size=21, n_neighbors=8, p=2, weights=uniform; total time=   0.7s\n",
      "[CV] END algorithm=kd_tree, leaf_size=38, n_neighbors=5, p=2, weights=uniform; total time=   0.7s\n",
      "[CV] END algorithm=ball_tree, leaf_size=46, n_neighbors=8, p=2, weights=uniform; total time=   1.2s\n",
      "[CV] END algorithm=kd_tree, leaf_size=21, n_neighbors=8, p=2, weights=uniform; total time=   0.6s\n",
      "[CV] END algorithm=kd_tree, leaf_size=15, n_neighbors=9, p=2, weights=uniform; total time=   0.7s\n",
      "[CV] END algorithm=ball_tree, leaf_size=46, n_neighbors=8, p=2, weights=uniform; total time=   1.2s\n",
      "[CV] END algorithm=kd_tree, leaf_size=15, n_neighbors=9, p=2, weights=uniform; total time=   0.6s\n",
      "[CV] END algorithm=ball_tree, leaf_size=23, n_neighbors=7, p=1, weights=uniform; total time=   0.7s\n",
      "[CV] END algorithm=kd_tree, leaf_size=15, n_neighbors=9, p=2, weights=uniform; total time=   0.8s\n",
      "[CV] END algorithm=ball_tree, leaf_size=46, n_neighbors=8, p=2, weights=uniform; total time=   0.9s\n",
      "[CV] END algorithm=kd_tree, leaf_size=21, n_neighbors=8, p=2, weights=uniform; total time=   0.7s\n",
      "[CV] END algorithm=kd_tree, leaf_size=21, n_neighbors=8, p=2, weights=uniform; total time=   0.5s\n",
      "[CV] END algorithm=kd_tree, leaf_size=31, n_neighbors=8, p=1, weights=uniform; total time=   0.8s\n",
      "[CV] END algorithm=ball_tree, leaf_size=23, n_neighbors=7, p=1, weights=uniform; total time=   0.9s\n",
      "[CV] END algorithm=kd_tree, leaf_size=15, n_neighbors=9, p=2, weights=uniform; total time=   0.6s\n",
      "[CV] END algorithm=kd_tree, leaf_size=31, n_neighbors=8, p=1, weights=uniform; total time=   0.9s\n",
      "[CV] END algorithm=kd_tree, leaf_size=21, n_neighbors=8, p=2, weights=uniform; total time=   0.7s\n",
      "[CV] END algorithm=ball_tree, leaf_size=46, n_neighbors=8, p=2, weights=uniform; total time=   1.1s\n",
      "[CV] END algorithm=ball_tree, leaf_size=23, n_neighbors=7, p=1, weights=uniform; total time=   0.8s\n",
      "[CV] END algorithm=ball_tree, leaf_size=24, n_neighbors=5, p=2, weights=distance; total time=   0.6s\n",
      "[CV] END algorithm=ball_tree, leaf_size=24, n_neighbors=5, p=2, weights=distance; total time=   0.6s\n",
      "[CV] END algorithm=ball_tree, leaf_size=23, n_neighbors=7, p=1, weights=uniform; total time=   0.8s\n",
      "[CV] END algorithm=kd_tree, leaf_size=15, n_neighbors=9, p=2, weights=uniform; total time=   0.8s\n",
      "[CV] END algorithm=kd_tree, leaf_size=31, n_neighbors=8, p=1, weights=uniform; total time=   0.8s\n",
      "[CV] END algorithm=kd_tree, leaf_size=31, n_neighbors=8, p=1, weights=uniform; total time=   0.8s\n",
      "[CV] END algorithm=ball_tree, leaf_size=24, n_neighbors=5, p=2, weights=distance; total time=   0.6s\n",
      "[CV] END algorithm=ball_tree, leaf_size=23, n_neighbors=7, p=1, weights=uniform; total time=   0.8s\n",
      "[CV] END algorithm=ball_tree, leaf_size=24, n_neighbors=5, p=2, weights=distance; total time=   0.7s\n",
      "[CV] END algorithm=kd_tree, leaf_size=24, n_neighbors=9, p=1, weights=distance; total time=   0.6s\n",
      "[CV] END algorithm=kd_tree, leaf_size=24, n_neighbors=9, p=1, weights=distance; total time=   0.5s\n",
      "[CV] END algorithm=kd_tree, leaf_size=31, n_neighbors=8, p=1, weights=uniform; total time=   1.0s\n",
      "[CV] END algorithm=kd_tree, leaf_size=24, n_neighbors=9, p=1, weights=distance; total time=   0.6s\n",
      "[CV] END algorithm=kd_tree, leaf_size=24, n_neighbors=9, p=1, weights=distance; total time=   0.6s\n",
      "[CV] END algorithm=kd_tree, leaf_size=24, n_neighbors=9, p=1, weights=distance; total time=   0.6s\n",
      "[CV] END algorithm=ball_tree, leaf_size=24, n_neighbors=5, p=2, weights=distance; total time=   0.6s\n",
      "[CV] END algorithm=ball_tree, leaf_size=22, n_neighbors=7, p=1, weights=uniform; total time=   0.7s\n",
      "[CV] END algorithm=ball_tree, leaf_size=22, n_neighbors=7, p=1, weights=uniform; total time=   0.9s\n",
      "[CV] END algorithm=ball_tree, leaf_size=22, n_neighbors=7, p=1, weights=uniform; total time=   0.8s\n",
      "[CV] END algorithm=ball_tree, leaf_size=22, n_neighbors=7, p=1, weights=uniform; total time=   0.9s\n",
      "[CV] END algorithm=kd_tree, leaf_size=31, n_neighbors=3, p=1, weights=uniform; total time=   0.6s\n",
      "[CV] END algorithm=kd_tree, leaf_size=31, n_neighbors=3, p=1, weights=uniform; total time=   0.7s\n",
      "[CV] END algorithm=kd_tree, leaf_size=45, n_neighbors=6, p=2, weights=uniform; total time=   0.5s\n",
      "[CV] END algorithm=kd_tree, leaf_size=31, n_neighbors=3, p=1, weights=uniform; total time=   0.7s\n",
      "[CV] END algorithm=kd_tree, leaf_size=45, n_neighbors=6, p=2, weights=uniform; total time=   0.5s\n",
      "[CV] END algorithm=kd_tree, leaf_size=31, n_neighbors=3, p=1, weights=uniform; total time=   0.6s\n",
      "[CV] END algorithm=ball_tree, leaf_size=22, n_neighbors=7, p=1, weights=uniform; total time=   0.9s\n",
      "[CV] END algorithm=kd_tree, leaf_size=31, n_neighbors=3, p=1, weights=uniform; total time=   0.7s\n",
      "[CV] END algorithm=kd_tree, leaf_size=45, n_neighbors=6, p=2, weights=uniform; total time=   0.6s\n",
      "[CV] END algorithm=kd_tree, leaf_size=45, n_neighbors=6, p=2, weights=uniform; total time=   0.7s\n",
      "[CV] END algorithm=kd_tree, leaf_size=24, n_neighbors=4, p=2, weights=uniform; total time=   0.6s\n",
      "[CV] END algorithm=kd_tree, leaf_size=45, n_neighbors=6, p=2, weights=uniform; total time=   0.6s\n",
      "[CV] END algorithm=kd_tree, leaf_size=24, n_neighbors=4, p=2, weights=uniform; total time=   0.7s\n",
      "[CV] END algorithm=kd_tree, leaf_size=24, n_neighbors=4, p=2, weights=uniform; total time=   0.6s\n",
      "[CV] END algorithm=kd_tree, leaf_size=24, n_neighbors=4, p=2, weights=uniform; total time=   0.6s\n",
      "[CV] END algorithm=kd_tree, leaf_size=24, n_neighbors=4, p=2, weights=uniform; total time=   0.6s\n",
      "[CV] END algorithm=ball_tree, leaf_size=32, n_neighbors=7, p=2, weights=uniform; total time=   0.6s\n",
      "[CV] END algorithm=ball_tree, leaf_size=32, n_neighbors=7, p=2, weights=uniform; total time=   0.6s\n",
      "[CV] END algorithm=ball_tree, leaf_size=32, n_neighbors=7, p=2, weights=uniform; total time=   0.7s\n",
      "[CV] END algorithm=ball_tree, leaf_size=32, n_neighbors=7, p=2, weights=uniform; total time=   0.7s\n",
      "[CV] END algorithm=ball_tree, leaf_size=32, n_neighbors=7, p=2, weights=uniform; total time=   0.5s\n",
      "name: knn, accuracy_train: 0.999, accuracy_test: 0.911, balanced_accuracy_train: 0.994, balanced_accuracy_test: 0.511\n"
     ]
    }
   ],
   "source": [
    "knn_clf = Classifier('knn',\t\n",
    "\tKNeighborsClassifier(), \n",
    "\tparam={\n",
    "\t\t'n_neighbors' : randint(3, 10),\n",
    "\t\t'weights' : ['uniform', 'distance'],\n",
    "\t\t'algorithm' : ['ball_tree', 'kd_tree'],\n",
    "\t\t'leaf_size' : randint(10, 50),\n",
    "\t\t'p' : [1, 2],\n",
    "\t})\n",
    "\n",
    "knn_clf.optimize_param(ds, random_state=37, verbose=2)\n",
    "print(knn_clf.get_metrics(as_string=True))"
   ]
  },
  {
   "cell_type": "markdown",
   "metadata": {},
   "source": [
    "### Random forrest"
   ]
  },
  {
   "cell_type": "code",
   "execution_count": 34,
   "metadata": {},
   "outputs": [
    {
     "name": "stdout",
     "output_type": "stream",
     "text": [
      "Fitting 5 folds for each of 50 candidates, totalling 250 fits\n",
      "[CV] END bootstrap=False, criterion=gini, min_samples_leaf=3, min_samples_split=5, n_estimators=13; total time=   0.5s\n",
      "[CV] END bootstrap=False, criterion=gini, min_samples_leaf=3, min_samples_split=5, n_estimators=13; total time=   0.5s\n",
      "[CV] END bootstrap=False, criterion=gini, min_samples_leaf=3, min_samples_split=5, n_estimators=13; total time=   0.5s\n",
      "[CV] END bootstrap=False, criterion=gini, min_samples_leaf=3, min_samples_split=5, n_estimators=13; total time=   0.5s\n",
      "[CV] END bootstrap=False, criterion=gini, min_samples_leaf=3, min_samples_split=5, n_estimators=13; total time=   0.5s\n",
      "[CV] END bootstrap=True, criterion=entropy, min_samples_leaf=4, min_samples_split=2, n_estimators=33; total time=   0.9s\n",
      "[CV] END bootstrap=False, criterion=gini, min_samples_leaf=1, min_samples_split=2, n_estimators=13; total time=   0.5s\n",
      "[CV] END bootstrap=True, criterion=entropy, min_samples_leaf=4, min_samples_split=2, n_estimators=33; total time=   1.0s\n",
      "[CV] END bootstrap=False, criterion=gini, min_samples_leaf=1, min_samples_split=2, n_estimators=13; total time=   0.6s\n",
      "[CV] END bootstrap=True, criterion=entropy, min_samples_leaf=4, min_samples_split=2, n_estimators=33; total time=   1.4s\n",
      "[CV] END bootstrap=True, criterion=entropy, min_samples_leaf=4, min_samples_split=2, n_estimators=33; total time=   1.4s\n",
      "[CV] END bootstrap=False, criterion=gini, min_samples_leaf=1, min_samples_split=2, n_estimators=13; total time=   1.0s\n",
      "[CV] END bootstrap=False, criterion=gini, min_samples_leaf=1, min_samples_split=2, n_estimators=13; total time=   0.9s\n",
      "[CV] END bootstrap=True, criterion=entropy, min_samples_leaf=4, min_samples_split=2, n_estimators=33; total time=   1.5s\n",
      "[CV] END bootstrap=False, criterion=gini, min_samples_leaf=1, min_samples_split=2, n_estimators=13; total time=   1.1s\n",
      "[CV] END bootstrap=True, criterion=gini, min_samples_leaf=1, min_samples_split=8, n_estimators=22; total time=   1.0s\n",
      "[CV] END bootstrap=False, criterion=entropy, min_samples_leaf=1, min_samples_split=5, n_estimators=38; total time=   2.5s\n",
      "[CV] END bootstrap=False, criterion=entropy, min_samples_leaf=1, min_samples_split=5, n_estimators=38; total time=   2.6s\n",
      "[CV] END bootstrap=False, criterion=entropy, min_samples_leaf=1, min_samples_split=5, n_estimators=38; total time=   2.7s\n",
      "[CV] END bootstrap=False, criterion=entropy, min_samples_leaf=1, min_samples_split=5, n_estimators=38; total time=   2.8s\n",
      "[CV] END bootstrap=False, criterion=entropy, min_samples_leaf=1, min_samples_split=5, n_estimators=38; total time=   2.9s\n",
      "[CV] END bootstrap=True, criterion=gini, min_samples_leaf=1, min_samples_split=8, n_estimators=22; total time=   1.1s\n",
      "[CV] END bootstrap=True, criterion=gini, min_samples_leaf=1, min_samples_split=8, n_estimators=22; total time=   1.2s\n",
      "[CV] END bootstrap=True, criterion=gini, min_samples_leaf=1, min_samples_split=8, n_estimators=22; total time=   1.1s\n",
      "[CV] END bootstrap=True, criterion=gini, min_samples_leaf=1, min_samples_split=8, n_estimators=22; total time=   1.2s\n",
      "[CV] END bootstrap=True, criterion=entropy, min_samples_leaf=1, min_samples_split=4, n_estimators=29; total time=   1.8s\n",
      "[CV] END bootstrap=True, criterion=entropy, min_samples_leaf=1, min_samples_split=4, n_estimators=29; total time=   1.8s\n",
      "[CV] END bootstrap=True, criterion=entropy, min_samples_leaf=1, min_samples_split=4, n_estimators=29; total time=   1.8s\n",
      "[CV] END bootstrap=True, criterion=entropy, min_samples_leaf=1, min_samples_split=4, n_estimators=29; total time=   1.7s\n",
      "[CV] END bootstrap=True, criterion=entropy, min_samples_leaf=1, min_samples_split=4, n_estimators=29; total time=   1.7s\n",
      "[CV] END bootstrap=True, criterion=gini, min_samples_leaf=2, min_samples_split=4, n_estimators=45; total time=   2.2s\n",
      "[CV] END bootstrap=True, criterion=gini, min_samples_leaf=2, min_samples_split=4, n_estimators=45; total time=   2.2s\n",
      "[CV] END bootstrap=True, criterion=gini, min_samples_leaf=2, min_samples_split=4, n_estimators=45; total time=   2.1s\n",
      "[CV] END bootstrap=True, criterion=gini, min_samples_leaf=2, min_samples_split=4, n_estimators=45; total time=   2.1s\n",
      "[CV] END bootstrap=True, criterion=gini, min_samples_leaf=2, min_samples_split=4, n_estimators=45; total time=   2.1s\n",
      "[CV] END bootstrap=False, criterion=entropy, min_samples_leaf=3, min_samples_split=9, n_estimators=17; total time=   1.5s\n",
      "[CV] END bootstrap=True, criterion=entropy, min_samples_leaf=1, min_samples_split=5, n_estimators=44; total time=   2.6s\n",
      "[CV] END bootstrap=True, criterion=entropy, min_samples_leaf=3, min_samples_split=8, n_estimators=11; total time=   0.6s\n",
      "[CV] END bootstrap=True, criterion=entropy, min_samples_leaf=3, min_samples_split=8, n_estimators=11; total time=   0.6s\n",
      "[CV] END bootstrap=True, criterion=entropy, min_samples_leaf=1, min_samples_split=5, n_estimators=44; total time=   2.6s\n",
      "[CV] END bootstrap=False, criterion=entropy, min_samples_leaf=3, min_samples_split=9, n_estimators=17; total time=   1.5s\n",
      "[CV] END bootstrap=False, criterion=entropy, min_samples_leaf=3, min_samples_split=9, n_estimators=17; total time=   1.4s\n",
      "[CV] END bootstrap=True, criterion=entropy, min_samples_leaf=3, min_samples_split=8, n_estimators=11; total time=   0.6s\n",
      "[CV] END bootstrap=True, criterion=entropy, min_samples_leaf=1, min_samples_split=5, n_estimators=44; total time=   2.5s\n",
      "[CV] END bootstrap=True, criterion=entropy, min_samples_leaf=3, min_samples_split=8, n_estimators=11; total time=   0.6s\n",
      "[CV] END bootstrap=True, criterion=entropy, min_samples_leaf=3, min_samples_split=8, n_estimators=11; total time=   0.6s\n",
      "[CV] END bootstrap=False, criterion=entropy, min_samples_leaf=3, min_samples_split=9, n_estimators=17; total time=   1.5s\n",
      "[CV] END bootstrap=True, criterion=entropy, min_samples_leaf=1, min_samples_split=5, n_estimators=44; total time=   2.6s\n",
      "[CV] END bootstrap=False, criterion=entropy, min_samples_leaf=3, min_samples_split=9, n_estimators=17; total time=   1.5s\n",
      "[CV] END bootstrap=True, criterion=entropy, min_samples_leaf=1, min_samples_split=5, n_estimators=44; total time=   2.6s\n",
      "[CV] END bootstrap=False, criterion=entropy, min_samples_leaf=1, min_samples_split=4, n_estimators=14; total time=   1.3s\n",
      "[CV] END bootstrap=False, criterion=entropy, min_samples_leaf=1, min_samples_split=4, n_estimators=14; total time=   1.3s\n",
      "[CV] END bootstrap=False, criterion=entropy, min_samples_leaf=1, min_samples_split=4, n_estimators=14; total time=   1.3s\n",
      "[CV] END bootstrap=False, criterion=entropy, min_samples_leaf=1, min_samples_split=4, n_estimators=14; total time=   1.3s\n",
      "[CV] END bootstrap=False, criterion=entropy, min_samples_leaf=1, min_samples_split=4, n_estimators=14; total time=   1.3s\n",
      "[CV] END bootstrap=True, criterion=entropy, min_samples_leaf=1, min_samples_split=2, n_estimators=23; total time=   1.3s\n",
      "[CV] END bootstrap=True, criterion=entropy, min_samples_leaf=1, min_samples_split=2, n_estimators=23; total time=   1.3s\n",
      "[CV] END bootstrap=True, criterion=entropy, min_samples_leaf=1, min_samples_split=3, n_estimators=45; total time=   2.4s\n",
      "[CV] END bootstrap=True, criterion=entropy, min_samples_leaf=1, min_samples_split=3, n_estimators=45; total time=   2.4s\n",
      "[CV] END bootstrap=True, criterion=entropy, min_samples_leaf=1, min_samples_split=3, n_estimators=45; total time=   2.5s\n",
      "[CV] END bootstrap=True, criterion=entropy, min_samples_leaf=1, min_samples_split=3, n_estimators=45; total time=   2.4s\n",
      "[CV] END bootstrap=True, criterion=entropy, min_samples_leaf=1, min_samples_split=3, n_estimators=45; total time=   2.5s\n",
      "[CV] END bootstrap=True, criterion=entropy, min_samples_leaf=1, min_samples_split=2, n_estimators=23; total time=   1.3s\n",
      "[CV] END bootstrap=True, criterion=entropy, min_samples_leaf=1, min_samples_split=2, n_estimators=23; total time=   1.4s\n",
      "[CV] END bootstrap=True, criterion=entropy, min_samples_leaf=1, min_samples_split=2, n_estimators=23; total time=   1.3s\n",
      "[CV] END bootstrap=True, criterion=entropy, min_samples_leaf=2, min_samples_split=7, n_estimators=34; total time=   1.8s\n",
      "[CV] END bootstrap=True, criterion=entropy, min_samples_leaf=2, min_samples_split=7, n_estimators=34; total time=   1.8s\n",
      "[CV] END bootstrap=True, criterion=entropy, min_samples_leaf=2, min_samples_split=7, n_estimators=34; total time=   1.9s\n",
      "[CV] END bootstrap=True, criterion=entropy, min_samples_leaf=2, min_samples_split=7, n_estimators=34; total time=   1.9s\n",
      "[CV] END bootstrap=True, criterion=entropy, min_samples_leaf=2, min_samples_split=7, n_estimators=34; total time=   1.8s\n",
      "[CV] END bootstrap=False, criterion=gini, min_samples_leaf=1, min_samples_split=9, n_estimators=25; total time=   1.6s\n",
      "[CV] END bootstrap=False, criterion=gini, min_samples_leaf=1, min_samples_split=9, n_estimators=25; total time=   1.7s\n",
      "[CV] END bootstrap=True, criterion=entropy, min_samples_leaf=4, min_samples_split=4, n_estimators=24; total time=   1.2s\n",
      "[CV] END bootstrap=False, criterion=gini, min_samples_leaf=4, min_samples_split=4, n_estimators=44; total time=   2.9s\n",
      "[CV] END bootstrap=False, criterion=gini, min_samples_leaf=4, min_samples_split=4, n_estimators=44; total time=   2.7s\n",
      "[CV] END bootstrap=True, criterion=entropy, min_samples_leaf=4, min_samples_split=4, n_estimators=24; total time=   1.3s\n",
      "[CV] END bootstrap=False, criterion=gini, min_samples_leaf=1, min_samples_split=9, n_estimators=25; total time=   1.7s\n",
      "[CV] END bootstrap=False, criterion=gini, min_samples_leaf=1, min_samples_split=9, n_estimators=25; total time=   1.6s\n",
      "[CV] END bootstrap=False, criterion=gini, min_samples_leaf=1, min_samples_split=9, n_estimators=25; total time=   1.7s\n",
      "[CV] END bootstrap=False, criterion=gini, min_samples_leaf=4, min_samples_split=4, n_estimators=44; total time=   2.9s\n",
      "[CV] END bootstrap=False, criterion=gini, min_samples_leaf=4, min_samples_split=4, n_estimators=44; total time=   2.9s\n",
      "[CV] END bootstrap=False, criterion=gini, min_samples_leaf=4, min_samples_split=4, n_estimators=44; total time=   2.9s\n",
      "[CV] END bootstrap=True, criterion=entropy, min_samples_leaf=4, min_samples_split=4, n_estimators=24; total time=   1.2s\n",
      "[CV] END bootstrap=True, criterion=entropy, min_samples_leaf=4, min_samples_split=4, n_estimators=24; total time=   1.3s\n",
      "[CV] END bootstrap=True, criterion=entropy, min_samples_leaf=4, min_samples_split=4, n_estimators=24; total time=   1.2s\n",
      "[CV] END bootstrap=True, criterion=entropy, min_samples_leaf=2, min_samples_split=9, n_estimators=26; total time=   1.4s\n",
      "[CV] END bootstrap=True, criterion=entropy, min_samples_leaf=2, min_samples_split=9, n_estimators=26; total time=   1.5s\n",
      "[CV] END bootstrap=True, criterion=entropy, min_samples_leaf=2, min_samples_split=9, n_estimators=26; total time=   1.4s\n",
      "[CV] END bootstrap=True, criterion=entropy, min_samples_leaf=2, min_samples_split=9, n_estimators=26; total time=   1.4s\n",
      "[CV] END bootstrap=True, criterion=entropy, min_samples_leaf=2, min_samples_split=9, n_estimators=26; total time=   1.4s\n",
      "[CV] END bootstrap=True, criterion=gini, min_samples_leaf=2, min_samples_split=2, n_estimators=39; total time=   1.6s\n",
      "[CV] END bootstrap=True, criterion=gini, min_samples_leaf=2, min_samples_split=2, n_estimators=39; total time=   1.9s\n",
      "[CV] END bootstrap=True, criterion=gini, min_samples_leaf=2, min_samples_split=2, n_estimators=39; total time=   1.8s\n",
      "[CV] END bootstrap=True, criterion=gini, min_samples_leaf=2, min_samples_split=2, n_estimators=39; total time=   1.8s\n",
      "[CV] END bootstrap=True, criterion=gini, min_samples_leaf=2, min_samples_split=2, n_estimators=39; total time=   1.9s\n",
      "[CV] END bootstrap=False, criterion=entropy, min_samples_leaf=1, min_samples_split=6, n_estimators=35; total time=   3.2s\n",
      "[CV] END bootstrap=False, criterion=entropy, min_samples_leaf=1, min_samples_split=6, n_estimators=35; total time=   3.1s\n",
      "[CV] END bootstrap=False, criterion=entropy, min_samples_leaf=1, min_samples_split=6, n_estimators=35; total time=   3.2s\n",
      "[CV] END bootstrap=False, criterion=entropy, min_samples_leaf=1, min_samples_split=6, n_estimators=35; total time=   3.1s\n",
      "[CV] END bootstrap=True, criterion=entropy, min_samples_leaf=1, min_samples_split=9, n_estimators=43; total time=   2.4s\n",
      "[CV] END bootstrap=True, criterion=entropy, min_samples_leaf=1, min_samples_split=9, n_estimators=43; total time=   2.5s\n",
      "[CV] END bootstrap=False, criterion=entropy, min_samples_leaf=1, min_samples_split=6, n_estimators=35; total time=   3.3s\n",
      "[CV] END bootstrap=True, criterion=entropy, min_samples_leaf=1, min_samples_split=9, n_estimators=43; total time=   2.4s\n",
      "[CV] END bootstrap=True, criterion=entropy, min_samples_leaf=4, min_samples_split=3, n_estimators=23; total time=   1.2s\n",
      "[CV] END bootstrap=True, criterion=entropy, min_samples_leaf=4, min_samples_split=3, n_estimators=23; total time=   1.3s\n",
      "[CV] END bootstrap=True, criterion=entropy, min_samples_leaf=4, min_samples_split=3, n_estimators=23; total time=   1.2s\n",
      "[CV] END bootstrap=True, criterion=entropy, min_samples_leaf=4, min_samples_split=3, n_estimators=23; total time=   1.3s\n",
      "[CV] END bootstrap=True, criterion=entropy, min_samples_leaf=1, min_samples_split=9, n_estimators=43; total time=   2.2s\n",
      "[CV] END bootstrap=True, criterion=entropy, min_samples_leaf=1, min_samples_split=9, n_estimators=43; total time=   2.4s\n",
      "[CV] END bootstrap=True, criterion=entropy, min_samples_leaf=4, min_samples_split=3, n_estimators=23; total time=   1.2s\n",
      "[CV] END bootstrap=False, criterion=gini, min_samples_leaf=2, min_samples_split=6, n_estimators=44; total time=   3.0s\n",
      "[CV] END bootstrap=False, criterion=gini, min_samples_leaf=2, min_samples_split=6, n_estimators=44; total time=   3.1s\n",
      "[CV] END bootstrap=False, criterion=gini, min_samples_leaf=2, min_samples_split=6, n_estimators=44; total time=   3.2s\n",
      "[CV] END bootstrap=False, criterion=gini, min_samples_leaf=2, min_samples_split=6, n_estimators=44; total time=   3.2s\n",
      "[CV] END bootstrap=False, criterion=gini, min_samples_leaf=2, min_samples_split=6, n_estimators=44; total time=   3.1s\n",
      "[CV] END bootstrap=True, criterion=entropy, min_samples_leaf=4, min_samples_split=3, n_estimators=40; total time=   2.2s\n",
      "[CV] END bootstrap=True, criterion=entropy, min_samples_leaf=3, min_samples_split=5, n_estimators=21; total time=   1.0s\n",
      "[CV] END bootstrap=True, criterion=entropy, min_samples_leaf=3, min_samples_split=5, n_estimators=21; total time=   1.1s\n",
      "[CV] END bootstrap=True, criterion=entropy, min_samples_leaf=4, min_samples_split=3, n_estimators=40; total time=   2.1s\n",
      "[CV] END bootstrap=True, criterion=entropy, min_samples_leaf=4, min_samples_split=3, n_estimators=40; total time=   2.0s\n",
      "[CV] END bootstrap=True, criterion=entropy, min_samples_leaf=4, min_samples_split=3, n_estimators=40; total time=   2.0s\n",
      "[CV] END bootstrap=False, criterion=entropy, min_samples_leaf=2, min_samples_split=9, n_estimators=42; total time=   3.6s\n",
      "[CV] END bootstrap=True, criterion=entropy, min_samples_leaf=4, min_samples_split=3, n_estimators=40; total time=   2.1s\n",
      "[CV] END bootstrap=True, criterion=entropy, min_samples_leaf=3, min_samples_split=5, n_estimators=21; total time=   1.1s\n",
      "[CV] END bootstrap=False, criterion=entropy, min_samples_leaf=2, min_samples_split=9, n_estimators=42; total time=   3.7s\n",
      "[CV] END bootstrap=True, criterion=entropy, min_samples_leaf=3, min_samples_split=5, n_estimators=21; total time=   1.1s\n",
      "[CV] END bootstrap=False, criterion=entropy, min_samples_leaf=2, min_samples_split=9, n_estimators=42; total time=   3.7s\n",
      "[CV] END bootstrap=False, criterion=entropy, min_samples_leaf=2, min_samples_split=9, n_estimators=42; total time=   3.8s\n",
      "[CV] END bootstrap=True, criterion=entropy, min_samples_leaf=3, min_samples_split=5, n_estimators=21; total time=   1.1s\n",
      "[CV] END bootstrap=False, criterion=entropy, min_samples_leaf=2, min_samples_split=9, n_estimators=42; total time=   3.8s\n",
      "[CV] END bootstrap=False, criterion=entropy, min_samples_leaf=1, min_samples_split=5, n_estimators=14; total time=   1.2s\n",
      "[CV] END bootstrap=False, criterion=entropy, min_samples_leaf=1, min_samples_split=5, n_estimators=14; total time=   1.3s\n",
      "[CV] END bootstrap=False, criterion=entropy, min_samples_leaf=1, min_samples_split=5, n_estimators=14; total time=   1.3s\n",
      "[CV] END bootstrap=False, criterion=entropy, min_samples_leaf=1, min_samples_split=5, n_estimators=14; total time=   1.2s\n",
      "[CV] END bootstrap=False, criterion=entropy, min_samples_leaf=1, min_samples_split=5, n_estimators=14; total time=   1.3s\n",
      "[CV] END bootstrap=False, criterion=entropy, min_samples_leaf=2, min_samples_split=9, n_estimators=22; total time=   1.8s\n",
      "[CV] END bootstrap=False, criterion=entropy, min_samples_leaf=2, min_samples_split=9, n_estimators=22; total time=   1.9s\n",
      "[CV] END bootstrap=False, criterion=entropy, min_samples_leaf=2, min_samples_split=9, n_estimators=22; total time=   1.9s\n",
      "[CV] END bootstrap=False, criterion=entropy, min_samples_leaf=2, min_samples_split=9, n_estimators=22; total time=   2.2s\n",
      "[CV] END bootstrap=False, criterion=entropy, min_samples_leaf=2, min_samples_split=9, n_estimators=22; total time=   2.2s\n",
      "[CV] END bootstrap=False, criterion=entropy, min_samples_leaf=1, min_samples_split=3, n_estimators=30; total time=   2.9s\n",
      "[CV] END bootstrap=False, criterion=entropy, min_samples_leaf=1, min_samples_split=3, n_estimators=30; total time=   3.2s\n",
      "[CV] END bootstrap=False, criterion=entropy, min_samples_leaf=1, min_samples_split=3, n_estimators=30; total time=   2.8s\n",
      "[CV] END bootstrap=False, criterion=entropy, min_samples_leaf=1, min_samples_split=3, n_estimators=30; total time=   3.3s\n",
      "[CV] END bootstrap=False, criterion=entropy, min_samples_leaf=3, min_samples_split=9, n_estimators=31; total time=   3.0s\n",
      "[CV] END bootstrap=False, criterion=entropy, min_samples_leaf=3, min_samples_split=9, n_estimators=31; total time=   3.3s\n",
      "[CV] END bootstrap=False, criterion=entropy, min_samples_leaf=1, min_samples_split=3, n_estimators=30; total time=   3.4s\n",
      "[CV] END bootstrap=False, criterion=gini, min_samples_leaf=4, min_samples_split=9, n_estimators=10; total time=   0.7s\n",
      "[CV] END bootstrap=True, criterion=entropy, min_samples_leaf=3, min_samples_split=3, n_estimators=39; total time=   2.2s\n",
      "[CV] END bootstrap=True, criterion=entropy, min_samples_leaf=3, min_samples_split=3, n_estimators=39; total time=   2.5s\n",
      "[CV] END bootstrap=False, criterion=entropy, min_samples_leaf=3, min_samples_split=9, n_estimators=31; total time=   3.0s\n",
      "[CV] END bootstrap=False, criterion=gini, min_samples_leaf=4, min_samples_split=9, n_estimators=10; total time=   0.7s\n",
      "[CV] END bootstrap=False, criterion=entropy, min_samples_leaf=3, min_samples_split=9, n_estimators=31; total time=   3.0s\n",
      "[CV] END bootstrap=False, criterion=gini, min_samples_leaf=4, min_samples_split=9, n_estimators=10; total time=   0.7s\n",
      "[CV] END bootstrap=False, criterion=gini, min_samples_leaf=4, min_samples_split=9, n_estimators=10; total time=   0.7s\n",
      "[CV] END bootstrap=False, criterion=entropy, min_samples_leaf=3, min_samples_split=9, n_estimators=31; total time=   3.3s\n",
      "[CV] END bootstrap=False, criterion=gini, min_samples_leaf=4, min_samples_split=9, n_estimators=10; total time=   0.7s\n",
      "[CV] END bootstrap=True, criterion=entropy, min_samples_leaf=3, min_samples_split=3, n_estimators=39; total time=   2.3s\n",
      "[CV] END bootstrap=True, criterion=entropy, min_samples_leaf=3, min_samples_split=3, n_estimators=39; total time=   2.3s\n",
      "[CV] END bootstrap=True, criterion=entropy, min_samples_leaf=3, min_samples_split=3, n_estimators=39; total time=   2.3s\n",
      "[CV] END bootstrap=True, criterion=gini, min_samples_leaf=4, min_samples_split=2, n_estimators=32; total time=   1.3s\n",
      "[CV] END bootstrap=False, criterion=gini, min_samples_leaf=3, min_samples_split=2, n_estimators=34; total time=   2.1s\n",
      "[CV] END bootstrap=True, criterion=gini, min_samples_leaf=4, min_samples_split=2, n_estimators=32; total time=   1.4s\n",
      "[CV] END bootstrap=False, criterion=entropy, min_samples_leaf=4, min_samples_split=3, n_estimators=31; total time=   2.6s\n",
      "[CV] END bootstrap=False, criterion=entropy, min_samples_leaf=4, min_samples_split=3, n_estimators=31; total time=   2.8s\n",
      "[CV] END bootstrap=False, criterion=gini, min_samples_leaf=3, min_samples_split=2, n_estimators=34; total time=   2.3s\n",
      "[CV] END bootstrap=False, criterion=gini, min_samples_leaf=3, min_samples_split=2, n_estimators=34; total time=   2.3s\n",
      "[CV] END bootstrap=False, criterion=gini, min_samples_leaf=3, min_samples_split=2, n_estimators=34; total time=   2.3s\n",
      "[CV] END bootstrap=False, criterion=entropy, min_samples_leaf=4, min_samples_split=3, n_estimators=31; total time=   2.6s\n",
      "[CV] END bootstrap=False, criterion=entropy, min_samples_leaf=4, min_samples_split=3, n_estimators=31; total time=   2.8s\n",
      "[CV] END bootstrap=False, criterion=entropy, min_samples_leaf=4, min_samples_split=3, n_estimators=31; total time=   2.6s\n",
      "[CV] END bootstrap=False, criterion=gini, min_samples_leaf=3, min_samples_split=2, n_estimators=34; total time=   2.4s\n",
      "[CV] END bootstrap=True, criterion=gini, min_samples_leaf=4, min_samples_split=2, n_estimators=32; total time=   1.4s\n",
      "[CV] END bootstrap=True, criterion=gini, min_samples_leaf=4, min_samples_split=2, n_estimators=32; total time=   1.3s\n",
      "[CV] END bootstrap=True, criterion=gini, min_samples_leaf=4, min_samples_split=2, n_estimators=32; total time=   1.4s\n",
      "[CV] END bootstrap=False, criterion=gini, min_samples_leaf=4, min_samples_split=3, n_estimators=15; total time=   1.0s\n",
      "[CV] END bootstrap=False, criterion=gini, min_samples_leaf=4, min_samples_split=3, n_estimators=15; total time=   1.0s\n",
      "[CV] END bootstrap=False, criterion=gini, min_samples_leaf=4, min_samples_split=3, n_estimators=15; total time=   1.1s\n",
      "[CV] END bootstrap=False, criterion=gini, min_samples_leaf=4, min_samples_split=3, n_estimators=15; total time=   1.1s\n",
      "[CV] END bootstrap=False, criterion=gini, min_samples_leaf=4, min_samples_split=9, n_estimators=23; total time=   1.6s\n",
      "[CV] END bootstrap=False, criterion=gini, min_samples_leaf=4, min_samples_split=9, n_estimators=23; total time=   1.6s\n",
      "[CV] END bootstrap=False, criterion=gini, min_samples_leaf=4, min_samples_split=9, n_estimators=23; total time=   1.6s\n",
      "[CV] END bootstrap=False, criterion=gini, min_samples_leaf=4, min_samples_split=9, n_estimators=23; total time=   1.7s\n",
      "[CV] END bootstrap=False, criterion=gini, min_samples_leaf=4, min_samples_split=9, n_estimators=23; total time=   1.6s\n",
      "[CV] END bootstrap=False, criterion=gini, min_samples_leaf=4, min_samples_split=3, n_estimators=15; total time=   1.1s\n",
      "[CV] END bootstrap=True, criterion=gini, min_samples_leaf=2, min_samples_split=9, n_estimators=23; total time=   1.0s\n",
      "[CV] END bootstrap=True, criterion=entropy, min_samples_leaf=2, min_samples_split=9, n_estimators=33; total time=   1.8s\n",
      "[CV] END bootstrap=True, criterion=entropy, min_samples_leaf=2, min_samples_split=9, n_estimators=33; total time=   1.8s\n",
      "[CV] END bootstrap=True, criterion=entropy, min_samples_leaf=2, min_samples_split=9, n_estimators=33; total time=   1.8s\n",
      "[CV] END bootstrap=True, criterion=entropy, min_samples_leaf=2, min_samples_split=9, n_estimators=33; total time=   1.9s\n",
      "[CV] END bootstrap=True, criterion=entropy, min_samples_leaf=2, min_samples_split=9, n_estimators=33; total time=   1.8s\n",
      "[CV] END bootstrap=True, criterion=gini, min_samples_leaf=2, min_samples_split=9, n_estimators=23; total time=   1.0s\n",
      "[CV] END bootstrap=True, criterion=gini, min_samples_leaf=2, min_samples_split=9, n_estimators=23; total time=   0.9s\n",
      "[CV] END bootstrap=True, criterion=entropy, min_samples_leaf=1, min_samples_split=4, n_estimators=44; total time=   2.4s\n",
      "[CV] END bootstrap=True, criterion=gini, min_samples_leaf=2, min_samples_split=9, n_estimators=23; total time=   0.9s\n",
      "[CV] END bootstrap=True, criterion=gini, min_samples_leaf=2, min_samples_split=9, n_estimators=23; total time=   1.0s\n",
      "[CV] END bootstrap=True, criterion=entropy, min_samples_leaf=1, min_samples_split=4, n_estimators=44; total time=   2.4s[CV] END bootstrap=True, criterion=entropy, min_samples_leaf=1, min_samples_split=4, n_estimators=44; total time=   2.4s\n",
      "\n",
      "[CV] END bootstrap=True, criterion=entropy, min_samples_leaf=1, min_samples_split=4, n_estimators=44; total time=   2.5s\n",
      "[CV] END bootstrap=True, criterion=entropy, min_samples_leaf=2, min_samples_split=7, n_estimators=20; total time=   1.0s\n",
      "[CV] END bootstrap=True, criterion=entropy, min_samples_leaf=1, min_samples_split=4, n_estimators=44; total time=   2.5s\n",
      "[CV] END bootstrap=True, criterion=entropy, min_samples_leaf=2, min_samples_split=7, n_estimators=20; total time=   1.0s\n",
      "[CV] END bootstrap=True, criterion=entropy, min_samples_leaf=2, min_samples_split=7, n_estimators=20; total time=   1.0s\n",
      "[CV] END bootstrap=True, criterion=entropy, min_samples_leaf=2, min_samples_split=7, n_estimators=20; total time=   1.0s\n",
      "[CV] END bootstrap=True, criterion=entropy, min_samples_leaf=2, min_samples_split=7, n_estimators=20; total time=   1.0s\n",
      "[CV] END bootstrap=True, criterion=gini, min_samples_leaf=3, min_samples_split=3, n_estimators=23; total time=   1.0s\n",
      "[CV] END bootstrap=True, criterion=gini, min_samples_leaf=3, min_samples_split=3, n_estimators=23; total time=   0.9s\n",
      "[CV] END bootstrap=False, criterion=gini, min_samples_leaf=4, min_samples_split=7, n_estimators=19; total time=   1.1s\n",
      "[CV] END bootstrap=True, criterion=gini, min_samples_leaf=3, min_samples_split=3, n_estimators=23; total time=   1.0s\n",
      "[CV] END bootstrap=True, criterion=gini, min_samples_leaf=3, min_samples_split=3, n_estimators=23; total time=   0.9s\n",
      "[CV] END bootstrap=True, criterion=gini, min_samples_leaf=3, min_samples_split=3, n_estimators=23; total time=   1.0s\n",
      "[CV] END bootstrap=False, criterion=gini, min_samples_leaf=4, min_samples_split=7, n_estimators=19; total time=   1.2s\n",
      "[CV] END bootstrap=False, criterion=gini, min_samples_leaf=4, min_samples_split=7, n_estimators=19; total time=   1.2s\n",
      "[CV] END bootstrap=False, criterion=gini, min_samples_leaf=4, min_samples_split=7, n_estimators=19; total time=   1.2s\n",
      "[CV] END bootstrap=False, criterion=gini, min_samples_leaf=4, min_samples_split=7, n_estimators=19; total time=   1.2s\n",
      "[CV] END bootstrap=True, criterion=gini, min_samples_leaf=3, min_samples_split=3, n_estimators=31; total time=   1.2s\n",
      "[CV] END bootstrap=True, criterion=gini, min_samples_leaf=3, min_samples_split=3, n_estimators=31; total time=   1.3s\n",
      "[CV] END bootstrap=True, criterion=gini, min_samples_leaf=3, min_samples_split=3, n_estimators=31; total time=   1.3s\n",
      "[CV] END bootstrap=True, criterion=gini, min_samples_leaf=3, min_samples_split=3, n_estimators=31; total time=   1.3s\n",
      "[CV] END bootstrap=True, criterion=gini, min_samples_leaf=3, min_samples_split=3, n_estimators=31; total time=   1.3s\n",
      "[CV] END bootstrap=True, criterion=entropy, min_samples_leaf=2, min_samples_split=9, n_estimators=24; total time=   1.3s\n",
      "[CV] END bootstrap=True, criterion=entropy, min_samples_leaf=2, min_samples_split=9, n_estimators=24; total time=   1.3s\n",
      "[CV] END bootstrap=False, criterion=gini, min_samples_leaf=3, min_samples_split=8, n_estimators=24; total time=   1.5s\n",
      "[CV] END bootstrap=False, criterion=gini, min_samples_leaf=3, min_samples_split=8, n_estimators=24; total time=   1.5s\n",
      "[CV] END bootstrap=False, criterion=gini, min_samples_leaf=3, min_samples_split=8, n_estimators=24; total time=   1.6s\n",
      "[CV] END bootstrap=True, criterion=entropy, min_samples_leaf=2, min_samples_split=9, n_estimators=24; total time=   1.3s\n",
      "[CV] END bootstrap=False, criterion=gini, min_samples_leaf=3, min_samples_split=8, n_estimators=24; total time=   1.6s\n",
      "[CV] END bootstrap=False, criterion=gini, min_samples_leaf=3, min_samples_split=8, n_estimators=24; total time=   1.6s\n",
      "[CV] END bootstrap=True, criterion=gini, min_samples_leaf=4, min_samples_split=4, n_estimators=22; total time=   0.9s\n",
      "[CV] END bootstrap=True, criterion=gini, min_samples_leaf=4, min_samples_split=4, n_estimators=22; total time=   0.9s\n",
      "[CV] END bootstrap=True, criterion=entropy, min_samples_leaf=2, min_samples_split=9, n_estimators=24; total time=   1.3s\n",
      "[CV] END bootstrap=True, criterion=gini, min_samples_leaf=4, min_samples_split=4, n_estimators=22; total time=   0.9s\n",
      "[CV] END bootstrap=True, criterion=entropy, min_samples_leaf=2, min_samples_split=9, n_estimators=24; total time=   1.2s\n",
      "[CV] END bootstrap=True, criterion=gini, min_samples_leaf=4, min_samples_split=4, n_estimators=22; total time=   0.9s\n",
      "[CV] END bootstrap=True, criterion=gini, min_samples_leaf=4, min_samples_split=4, n_estimators=22; total time=   1.0s\n",
      "[CV] END bootstrap=False, criterion=entropy, min_samples_leaf=4, min_samples_split=6, n_estimators=24; total time=   1.9s\n",
      "[CV] END bootstrap=False, criterion=entropy, min_samples_leaf=4, min_samples_split=6, n_estimators=24; total time=   1.9s\n",
      "[CV] END bootstrap=False, criterion=entropy, min_samples_leaf=1, min_samples_split=8, n_estimators=29; total time=   2.3s\n",
      "[CV] END bootstrap=False, criterion=entropy, min_samples_leaf=1, min_samples_split=8, n_estimators=29; total time=   2.5s\n",
      "[CV] END bootstrap=False, criterion=entropy, min_samples_leaf=1, min_samples_split=8, n_estimators=29; total time=   2.5s\n",
      "[CV] END bootstrap=False, criterion=entropy, min_samples_leaf=1, min_samples_split=8, n_estimators=29; total time=   2.5s\n",
      "[CV] END bootstrap=False, criterion=entropy, min_samples_leaf=1, min_samples_split=8, n_estimators=29; total time=   2.7s\n",
      "[CV] END bootstrap=False, criterion=entropy, min_samples_leaf=1, min_samples_split=8, n_estimators=47; total time=   3.8s\n",
      "[CV] END bootstrap=False, criterion=entropy, min_samples_leaf=1, min_samples_split=8, n_estimators=47; total time=   3.8s\n",
      "[CV] END bootstrap=False, criterion=entropy, min_samples_leaf=1, min_samples_split=8, n_estimators=47; total time=   3.8s\n",
      "[CV] END bootstrap=False, criterion=entropy, min_samples_leaf=1, min_samples_split=8, n_estimators=47; total time=   3.9s\n",
      "[CV] END bootstrap=False, criterion=entropy, min_samples_leaf=1, min_samples_split=8, n_estimators=47; total time=   3.9s\n",
      "[CV] END bootstrap=False, criterion=entropy, min_samples_leaf=4, min_samples_split=6, n_estimators=24; total time=   1.4s\n",
      "[CV] END bootstrap=False, criterion=entropy, min_samples_leaf=4, min_samples_split=6, n_estimators=24; total time=   1.5s\n",
      "[CV] END bootstrap=False, criterion=entropy, min_samples_leaf=4, min_samples_split=6, n_estimators=24; total time=   1.4s\n",
      "name: random forest, accuracy_train: 0.996, accuracy_test: 0.911, balanced_accuracy_train: 0.998, balanced_accuracy_test: 0.533\n"
     ]
    }
   ],
   "source": [
    "rf_clf = Classifier('random forest', \n",
    "\tRandomForestClassifier(class_weight='balanced'),\n",
    "\tparam={\n",
    "\t\t'n_estimators' : randint(10, 50),\n",
    "\t\t'criterion' : ['gini', 'entropy'],\n",
    "\t\t'bootstrap' : [True, False],\n",
    "\t\t'min_samples_leaf' : randint(1, 5),\n",
    "\t\t'min_samples_split' : randint(2, 10)\n",
    "\t})\n",
    "\n",
    "rf_clf.optimize_param(ds, random_state=37, verbose=2)\n",
    "print(rf_clf.get_metrics(ds, as_string=True))"
   ]
  },
  {
   "cell_type": "markdown",
   "metadata": {},
   "source": [
    "### Support vector machine"
   ]
  },
  {
   "cell_type": "code",
   "execution_count": null,
   "metadata": {},
   "outputs": [
    {
     "name": "stdout",
     "output_type": "stream",
     "text": [
      "Fitting 5 folds for each of 50 candidates, totalling 250 fits\n"
     ]
    },
    {
     "name": "stderr",
     "output_type": "stream",
     "text": [
      "/home/jsv/personal/data_mining_sem/.venv/lib/python3.12/site-packages/sklearn/svm/_base.py:305: ConvergenceWarning: Solver terminated early (max_iter=1000).  Consider pre-processing your data with StandardScaler or MinMaxScaler.\n",
      "  warnings.warn(\n",
      "/home/jsv/personal/data_mining_sem/.venv/lib/python3.12/site-packages/sklearn/svm/_base.py:305: ConvergenceWarning: Solver terminated early (max_iter=1000).  Consider pre-processing your data with StandardScaler or MinMaxScaler.\n",
      "  warnings.warn(\n",
      "/home/jsv/personal/data_mining_sem/.venv/lib/python3.12/site-packages/sklearn/svm/_base.py:305: ConvergenceWarning: Solver terminated early (max_iter=1000).  Consider pre-processing your data with StandardScaler or MinMaxScaler.\n",
      "  warnings.warn(\n",
      "/home/jsv/personal/data_mining_sem/.venv/lib/python3.12/site-packages/sklearn/svm/_base.py:305: ConvergenceWarning: Solver terminated early (max_iter=1000).  Consider pre-processing your data with StandardScaler or MinMaxScaler.\n",
      "  warnings.warn(\n",
      "/home/jsv/personal/data_mining_sem/.venv/lib/python3.12/site-packages/sklearn/svm/_base.py:305: ConvergenceWarning: Solver terminated early (max_iter=1000).  Consider pre-processing your data with StandardScaler or MinMaxScaler.\n",
      "  warnings.warn(\n"
     ]
    },
    {
     "name": "stdout",
     "output_type": "stream",
     "text": [
      "[CV] END C=6.815375811485463, gamma=0.08476105402021752, kernel=linear; total time=   0.5s\n",
      "[CV] END C=6.815375811485463, gamma=0.08476105402021752, kernel=linear; total time=   0.5s\n",
      "[CV] END C=6.815375811485463, gamma=0.08476105402021752, kernel=linear; total time=   0.5s\n",
      "[CV] END C=6.815375811485463, gamma=0.08476105402021752, kernel=linear; total time=   0.5s\n",
      "[CV] END C=6.815375811485463, gamma=0.08476105402021752, kernel=linear; total time=   0.6s\n"
     ]
    },
    {
     "name": "stderr",
     "output_type": "stream",
     "text": [
      "/home/jsv/personal/data_mining_sem/.venv/lib/python3.12/site-packages/sklearn/svm/_base.py:305: ConvergenceWarning: Solver terminated early (max_iter=1000).  Consider pre-processing your data with StandardScaler or MinMaxScaler.\n",
      "  warnings.warn(\n"
     ]
    },
    {
     "name": "stdout",
     "output_type": "stream",
     "text": [
      "[CV] END C=1.857683598624964, gamma=0.041624068426124705, kernel=rbf; total time=   1.4s\n"
     ]
    },
    {
     "name": "stderr",
     "output_type": "stream",
     "text": [
      "/home/jsv/personal/data_mining_sem/.venv/lib/python3.12/site-packages/sklearn/svm/_base.py:305: ConvergenceWarning: Solver terminated early (max_iter=1000).  Consider pre-processing your data with StandardScaler or MinMaxScaler.\n",
      "  warnings.warn(\n",
      "/home/jsv/personal/data_mining_sem/.venv/lib/python3.12/site-packages/sklearn/svm/_base.py:305: ConvergenceWarning: Solver terminated early (max_iter=1000).  Consider pre-processing your data with StandardScaler or MinMaxScaler.\n",
      "  warnings.warn(\n",
      "/home/jsv/personal/data_mining_sem/.venv/lib/python3.12/site-packages/sklearn/svm/_base.py:305: ConvergenceWarning: Solver terminated early (max_iter=1000).  Consider pre-processing your data with StandardScaler or MinMaxScaler.\n",
      "  warnings.warn(\n"
     ]
    },
    {
     "name": "stdout",
     "output_type": "stream",
     "text": [
      "[CV] END C=1.8208482850204581, gamma=0.3849561472517182, kernel=linear; total time=   0.9s\n",
      "[CV] END C=1.8208482850204581, gamma=0.3849561472517182, kernel=linear; total time=   0.9s\n"
     ]
    },
    {
     "name": "stderr",
     "output_type": "stream",
     "text": [
      "/home/jsv/personal/data_mining_sem/.venv/lib/python3.12/site-packages/sklearn/svm/_base.py:305: ConvergenceWarning: Solver terminated early (max_iter=1000).  Consider pre-processing your data with StandardScaler or MinMaxScaler.\n",
      "  warnings.warn(\n",
      "/home/jsv/personal/data_mining_sem/.venv/lib/python3.12/site-packages/sklearn/svm/_base.py:305: ConvergenceWarning: Solver terminated early (max_iter=1000).  Consider pre-processing your data with StandardScaler or MinMaxScaler.\n",
      "  warnings.warn(\n",
      "/home/jsv/personal/data_mining_sem/.venv/lib/python3.12/site-packages/sklearn/svm/_base.py:305: ConvergenceWarning: Solver terminated early (max_iter=1000).  Consider pre-processing your data with StandardScaler or MinMaxScaler.\n",
      "  warnings.warn(\n",
      "/home/jsv/personal/data_mining_sem/.venv/lib/python3.12/site-packages/sklearn/svm/_base.py:305: ConvergenceWarning: Solver terminated early (max_iter=1000).  Consider pre-processing your data with StandardScaler or MinMaxScaler.\n",
      "  warnings.warn(\n"
     ]
    },
    {
     "name": "stdout",
     "output_type": "stream",
     "text": [
      "[CV] END C=0.01587883534325641, gamma=0.17754902141961634, kernel=rbf; total time=   1.4s\n",
      "[CV] END C=0.01587883534325641, gamma=0.17754902141961634, kernel=rbf; total time=   1.5s\n",
      "[CV] END C=0.01587883534325641, gamma=0.17754902141961634, kernel=rbf; total time=   1.6s\n",
      "[CV] END C=1.857683598624964, gamma=0.041624068426124705, kernel=rbf; total time=   1.6s\n"
     ]
    },
    {
     "name": "stderr",
     "output_type": "stream",
     "text": [
      "/home/jsv/personal/data_mining_sem/.venv/lib/python3.12/site-packages/sklearn/svm/_base.py:305: ConvergenceWarning: Solver terminated early (max_iter=1000).  Consider pre-processing your data with StandardScaler or MinMaxScaler.\n",
      "  warnings.warn(\n",
      "/home/jsv/personal/data_mining_sem/.venv/lib/python3.12/site-packages/sklearn/svm/_base.py:305: ConvergenceWarning: Solver terminated early (max_iter=1000).  Consider pre-processing your data with StandardScaler or MinMaxScaler.\n",
      "  warnings.warn(\n",
      "/home/jsv/personal/data_mining_sem/.venv/lib/python3.12/site-packages/sklearn/svm/_base.py:305: ConvergenceWarning: Solver terminated early (max_iter=1000).  Consider pre-processing your data with StandardScaler or MinMaxScaler.\n",
      "  warnings.warn(\n",
      "/home/jsv/personal/data_mining_sem/.venv/lib/python3.12/site-packages/sklearn/svm/_base.py:305: ConvergenceWarning: Solver terminated early (max_iter=1000).  Consider pre-processing your data with StandardScaler or MinMaxScaler.\n",
      "  warnings.warn(\n",
      "/home/jsv/personal/data_mining_sem/.venv/lib/python3.12/site-packages/sklearn/svm/_base.py:305: ConvergenceWarning: Solver terminated early (max_iter=1000).  Consider pre-processing your data with StandardScaler or MinMaxScaler.\n",
      "  warnings.warn(\n"
     ]
    },
    {
     "name": "stdout",
     "output_type": "stream",
     "text": [
      "[CV] END C=1.857683598624964, gamma=0.041624068426124705, kernel=rbf; total time=   1.8s\n",
      "[CV] END C=1.8208482850204581, gamma=0.3849561472517182, kernel=linear; total time=   0.9s\n"
     ]
    },
    {
     "name": "stderr",
     "output_type": "stream",
     "text": [
      "/home/jsv/personal/data_mining_sem/.venv/lib/python3.12/site-packages/sklearn/svm/_base.py:305: ConvergenceWarning: Solver terminated early (max_iter=1000).  Consider pre-processing your data with StandardScaler or MinMaxScaler.\n",
      "  warnings.warn(\n"
     ]
    },
    {
     "name": "stdout",
     "output_type": "stream",
     "text": [
      "[CV] END C=1.8208482850204581, gamma=0.3849561472517182, kernel=linear; total time=   0.9s\n",
      "[CV] END C=0.01587883534325641, gamma=0.17754902141961634, kernel=rbf; total time=   1.9s\n",
      "[CV] END C=0.01587883534325641, gamma=0.17754902141961634, kernel=rbf; total time=   1.9s\n",
      "[CV] END C=1.857683598624964, gamma=0.041624068426124705, kernel=rbf; total time=   2.1s\n",
      "[CV] END C=1.857683598624964, gamma=0.041624068426124705, kernel=rbf; total time=   2.0s\n"
     ]
    },
    {
     "name": "stderr",
     "output_type": "stream",
     "text": [
      "/home/jsv/personal/data_mining_sem/.venv/lib/python3.12/site-packages/sklearn/svm/_base.py:305: ConvergenceWarning: Solver terminated early (max_iter=1000).  Consider pre-processing your data with StandardScaler or MinMaxScaler.\n",
      "  warnings.warn(\n"
     ]
    },
    {
     "name": "stdout",
     "output_type": "stream",
     "text": [
      "[CV] END C=1.8208482850204581, gamma=0.3849561472517182, kernel=linear; total time=   1.4s\n"
     ]
    },
    {
     "name": "stderr",
     "output_type": "stream",
     "text": [
      "/home/jsv/personal/data_mining_sem/.venv/lib/python3.12/site-packages/sklearn/svm/_base.py:305: ConvergenceWarning: Solver terminated early (max_iter=1000).  Consider pre-processing your data with StandardScaler or MinMaxScaler.\n",
      "  warnings.warn(\n",
      "/home/jsv/personal/data_mining_sem/.venv/lib/python3.12/site-packages/sklearn/svm/_base.py:305: ConvergenceWarning: Solver terminated early (max_iter=1000).  Consider pre-processing your data with StandardScaler or MinMaxScaler.\n",
      "  warnings.warn(\n",
      "/home/jsv/personal/data_mining_sem/.venv/lib/python3.12/site-packages/sklearn/svm/_base.py:305: ConvergenceWarning: Solver terminated early (max_iter=1000).  Consider pre-processing your data with StandardScaler or MinMaxScaler.\n",
      "  warnings.warn(\n",
      "/home/jsv/personal/data_mining_sem/.venv/lib/python3.12/site-packages/sklearn/svm/_base.py:305: ConvergenceWarning: Solver terminated early (max_iter=1000).  Consider pre-processing your data with StandardScaler or MinMaxScaler.\n",
      "  warnings.warn(\n"
     ]
    },
    {
     "name": "stdout",
     "output_type": "stream",
     "text": [
      "[CV] END C=4.911336164589853, gamma=0.024751901959927228, kernel=linear; total time=   0.9s\n",
      "[CV] END C=4.911336164589853, gamma=0.024751901959927228, kernel=linear; total time=   0.8s\n",
      "[CV] END C=0.5437293300936613, gamma=0.010246321472122453, kernel=poly; total time=   1.3s\n"
     ]
    },
    {
     "name": "stderr",
     "output_type": "stream",
     "text": [
      "/home/jsv/personal/data_mining_sem/.venv/lib/python3.12/site-packages/sklearn/svm/_base.py:305: ConvergenceWarning: Solver terminated early (max_iter=1000).  Consider pre-processing your data with StandardScaler or MinMaxScaler.\n",
      "  warnings.warn(\n",
      "/home/jsv/personal/data_mining_sem/.venv/lib/python3.12/site-packages/sklearn/svm/_base.py:305: ConvergenceWarning: Solver terminated early (max_iter=1000).  Consider pre-processing your data with StandardScaler or MinMaxScaler.\n",
      "  warnings.warn(\n",
      "/home/jsv/personal/data_mining_sem/.venv/lib/python3.12/site-packages/sklearn/svm/_base.py:305: ConvergenceWarning: Solver terminated early (max_iter=1000).  Consider pre-processing your data with StandardScaler or MinMaxScaler.\n",
      "  warnings.warn(\n",
      "/home/jsv/personal/data_mining_sem/.venv/lib/python3.12/site-packages/sklearn/svm/_base.py:305: ConvergenceWarning: Solver terminated early (max_iter=1000).  Consider pre-processing your data with StandardScaler or MinMaxScaler.\n",
      "  warnings.warn(\n",
      "/home/jsv/personal/data_mining_sem/.venv/lib/python3.12/site-packages/sklearn/svm/_base.py:305: ConvergenceWarning: Solver terminated early (max_iter=1000).  Consider pre-processing your data with StandardScaler or MinMaxScaler.\n",
      "  warnings.warn(\n",
      "/home/jsv/personal/data_mining_sem/.venv/lib/python3.12/site-packages/sklearn/svm/_base.py:305: ConvergenceWarning: Solver terminated early (max_iter=1000).  Consider pre-processing your data with StandardScaler or MinMaxScaler.\n",
      "  warnings.warn(\n"
     ]
    },
    {
     "name": "stdout",
     "output_type": "stream",
     "text": [
      "[CV] END C=4.911336164589853, gamma=0.024751901959927228, kernel=linear; total time=   0.8s\n",
      "[CV] END C=0.5437293300936613, gamma=0.010246321472122453, kernel=poly; total time=   1.4s\n",
      "[CV] END C=0.5437293300936613, gamma=0.010246321472122453, kernel=poly; total time=   1.4s\n",
      "[CV] END C=4.911336164589853, gamma=0.024751901959927228, kernel=linear; total time=   0.8s\n",
      "[CV] END C=0.5437293300936613, gamma=0.010246321472122453, kernel=poly; total time=   1.3s\n",
      "[CV] END C=4.911336164589853, gamma=0.024751901959927228, kernel=linear; total time=   0.9s\n",
      "[CV] END C=0.5437293300936613, gamma=0.010246321472122453, kernel=poly; total time=   1.3s\n"
     ]
    },
    {
     "name": "stderr",
     "output_type": "stream",
     "text": [
      "/home/jsv/personal/data_mining_sem/.venv/lib/python3.12/site-packages/sklearn/svm/_base.py:305: ConvergenceWarning: Solver terminated early (max_iter=1000).  Consider pre-processing your data with StandardScaler or MinMaxScaler.\n",
      "  warnings.warn(\n",
      "/home/jsv/personal/data_mining_sem/.venv/lib/python3.12/site-packages/sklearn/svm/_base.py:305: ConvergenceWarning: Solver terminated early (max_iter=1000).  Consider pre-processing your data with StandardScaler or MinMaxScaler.\n",
      "  warnings.warn(\n",
      "/home/jsv/personal/data_mining_sem/.venv/lib/python3.12/site-packages/sklearn/svm/_base.py:305: ConvergenceWarning: Solver terminated early (max_iter=1000).  Consider pre-processing your data with StandardScaler or MinMaxScaler.\n",
      "  warnings.warn(\n",
      "/home/jsv/personal/data_mining_sem/.venv/lib/python3.12/site-packages/sklearn/svm/_base.py:305: ConvergenceWarning: Solver terminated early (max_iter=1000).  Consider pre-processing your data with StandardScaler or MinMaxScaler.\n",
      "  warnings.warn(\n"
     ]
    },
    {
     "name": "stdout",
     "output_type": "stream",
     "text": [
      "[CV] END C=0.01933708783312736, gamma=0.6608196644837535, kernel=linear; total time=   1.0s\n",
      "[CV] END C=0.01933708783312736, gamma=0.6608196644837535, kernel=linear; total time=   1.4s\n",
      "[CV] END C=0.01933708783312736, gamma=0.6608196644837535, kernel=linear; total time=   1.3s\n",
      "[CV] END C=0.01933708783312736, gamma=0.6608196644837535, kernel=linear; total time=   1.1s\n"
     ]
    },
    {
     "name": "stderr",
     "output_type": "stream",
     "text": [
      "/home/jsv/personal/data_mining_sem/.venv/lib/python3.12/site-packages/sklearn/svm/_base.py:305: ConvergenceWarning: Solver terminated early (max_iter=1000).  Consider pre-processing your data with StandardScaler or MinMaxScaler.\n",
      "  warnings.warn(\n",
      "/home/jsv/personal/data_mining_sem/.venv/lib/python3.12/site-packages/sklearn/svm/_base.py:305: ConvergenceWarning: Solver terminated early (max_iter=1000).  Consider pre-processing your data with StandardScaler or MinMaxScaler.\n",
      "  warnings.warn(\n",
      "/home/jsv/personal/data_mining_sem/.venv/lib/python3.12/site-packages/sklearn/svm/_base.py:305: ConvergenceWarning: Solver terminated early (max_iter=1000).  Consider pre-processing your data with StandardScaler or MinMaxScaler.\n",
      "  warnings.warn(\n",
      "/home/jsv/personal/data_mining_sem/.venv/lib/python3.12/site-packages/sklearn/svm/_base.py:305: ConvergenceWarning: Solver terminated early (max_iter=1000).  Consider pre-processing your data with StandardScaler or MinMaxScaler.\n",
      "  warnings.warn(\n",
      "/home/jsv/personal/data_mining_sem/.venv/lib/python3.12/site-packages/sklearn/svm/_base.py:305: ConvergenceWarning: Solver terminated early (max_iter=1000).  Consider pre-processing your data with StandardScaler or MinMaxScaler.\n",
      "  warnings.warn(\n"
     ]
    },
    {
     "name": "stdout",
     "output_type": "stream",
     "text": [
      "[CV] END C=0.01933708783312736, gamma=0.6608196644837535, kernel=linear; total time=   1.4s\n",
      "[CV] END C=0.022443238174302115, gamma=0.05363515269984848, kernel=poly; total time=   1.2s\n",
      "[CV] END C=0.022443238174302115, gamma=0.05363515269984848, kernel=poly; total time=   1.2s\n",
      "[CV] END C=3.0154987899073236, gamma=0.030078084682687672, kernel=rbf; total time=   1.3s\n"
     ]
    },
    {
     "name": "stderr",
     "output_type": "stream",
     "text": [
      "/home/jsv/personal/data_mining_sem/.venv/lib/python3.12/site-packages/sklearn/svm/_base.py:305: ConvergenceWarning: Solver terminated early (max_iter=1000).  Consider pre-processing your data with StandardScaler or MinMaxScaler.\n",
      "  warnings.warn(\n",
      "/home/jsv/personal/data_mining_sem/.venv/lib/python3.12/site-packages/sklearn/svm/_base.py:305: ConvergenceWarning: Solver terminated early (max_iter=1000).  Consider pre-processing your data with StandardScaler or MinMaxScaler.\n",
      "  warnings.warn(\n",
      "/home/jsv/personal/data_mining_sem/.venv/lib/python3.12/site-packages/sklearn/svm/_base.py:305: ConvergenceWarning: Solver terminated early (max_iter=1000).  Consider pre-processing your data with StandardScaler or MinMaxScaler.\n",
      "  warnings.warn(\n"
     ]
    },
    {
     "name": "stdout",
     "output_type": "stream",
     "text": [
      "[CV] END C=3.0154987899073236, gamma=0.030078084682687672, kernel=rbf; total time=   1.4s\n"
     ]
    },
    {
     "name": "stderr",
     "output_type": "stream",
     "text": [
      "/home/jsv/personal/data_mining_sem/.venv/lib/python3.12/site-packages/sklearn/svm/_base.py:305: ConvergenceWarning: Solver terminated early (max_iter=1000).  Consider pre-processing your data with StandardScaler or MinMaxScaler.\n",
      "  warnings.warn(\n",
      "/home/jsv/personal/data_mining_sem/.venv/lib/python3.12/site-packages/sklearn/svm/_base.py:305: ConvergenceWarning: Solver terminated early (max_iter=1000).  Consider pre-processing your data with StandardScaler or MinMaxScaler.\n",
      "  warnings.warn(\n",
      "/home/jsv/personal/data_mining_sem/.venv/lib/python3.12/site-packages/sklearn/svm/_base.py:305: ConvergenceWarning: Solver terminated early (max_iter=1000).  Consider pre-processing your data with StandardScaler or MinMaxScaler.\n",
      "  warnings.warn(\n"
     ]
    },
    {
     "name": "stdout",
     "output_type": "stream",
     "text": [
      "[CV] END C=3.0154987899073236, gamma=0.030078084682687672, kernel=rbf; total time=   1.7s\n",
      "[CV] END C=3.0154987899073236, gamma=0.030078084682687672, kernel=rbf; total time=   1.8s\n",
      "[CV] END C=3.0154987899073236, gamma=0.030078084682687672, kernel=rbf; total time=   1.7s\n",
      "[CV] END C=0.022443238174302115, gamma=0.05363515269984848, kernel=poly; total time=   1.2s\n",
      "[CV] END C=0.022443238174302115, gamma=0.05363515269984848, kernel=poly; total time=   1.2s\n",
      "[CV] END C=0.12384195051248786, gamma=0.16026126457654857, kernel=linear; total time=   1.0s\n"
     ]
    },
    {
     "name": "stderr",
     "output_type": "stream",
     "text": [
      "/home/jsv/personal/data_mining_sem/.venv/lib/python3.12/site-packages/sklearn/svm/_base.py:305: ConvergenceWarning: Solver terminated early (max_iter=1000).  Consider pre-processing your data with StandardScaler or MinMaxScaler.\n",
      "  warnings.warn(\n",
      "/home/jsv/personal/data_mining_sem/.venv/lib/python3.12/site-packages/sklearn/svm/_base.py:305: ConvergenceWarning: Solver terminated early (max_iter=1000).  Consider pre-processing your data with StandardScaler or MinMaxScaler.\n",
      "  warnings.warn(\n",
      "/home/jsv/personal/data_mining_sem/.venv/lib/python3.12/site-packages/sklearn/svm/_base.py:305: ConvergenceWarning: Solver terminated early (max_iter=1000).  Consider pre-processing your data with StandardScaler or MinMaxScaler.\n",
      "  warnings.warn(\n",
      "/home/jsv/personal/data_mining_sem/.venv/lib/python3.12/site-packages/sklearn/svm/_base.py:305: ConvergenceWarning: Solver terminated early (max_iter=1000).  Consider pre-processing your data with StandardScaler or MinMaxScaler.\n",
      "  warnings.warn(\n",
      "/home/jsv/personal/data_mining_sem/.venv/lib/python3.12/site-packages/sklearn/svm/_base.py:305: ConvergenceWarning: Solver terminated early (max_iter=1000).  Consider pre-processing your data with StandardScaler or MinMaxScaler.\n",
      "  warnings.warn(\n",
      "/home/jsv/personal/data_mining_sem/.venv/lib/python3.12/site-packages/sklearn/svm/_base.py:305: ConvergenceWarning: Solver terminated early (max_iter=1000).  Consider pre-processing your data with StandardScaler or MinMaxScaler.\n",
      "  warnings.warn(\n"
     ]
    },
    {
     "name": "stdout",
     "output_type": "stream",
     "text": [
      "[CV] END C=0.12384195051248786, gamma=0.16026126457654857, kernel=linear; total time=   1.0s\n",
      "[CV] END C=0.022443238174302115, gamma=0.05363515269984848, kernel=poly; total time=   1.5s\n",
      "[CV] END C=0.12384195051248786, gamma=0.16026126457654857, kernel=linear; total time=   1.1s\n",
      "[CV] END C=0.12384195051248786, gamma=0.16026126457654857, kernel=linear; total time=   1.1s\n",
      "[CV] END C=0.12384195051248786, gamma=0.16026126457654857, kernel=linear; total time=   1.4s\n",
      "[CV] END C=0.4164906414074834, gamma=0.20864129245884708, kernel=linear; total time=   1.3s\n",
      "[CV] END C=1.953111581106365, gamma=0.02498739952585744, kernel=linear; total time=   0.9s\n",
      "[CV] END C=0.4164906414074834, gamma=0.20864129245884708, kernel=linear; total time=   1.0s\n"
     ]
    },
    {
     "name": "stderr",
     "output_type": "stream",
     "text": [
      "/home/jsv/personal/data_mining_sem/.venv/lib/python3.12/site-packages/sklearn/svm/_base.py:305: ConvergenceWarning: Solver terminated early (max_iter=1000).  Consider pre-processing your data with StandardScaler or MinMaxScaler.\n",
      "  warnings.warn(\n",
      "/home/jsv/personal/data_mining_sem/.venv/lib/python3.12/site-packages/sklearn/svm/_base.py:305: ConvergenceWarning: Solver terminated early (max_iter=1000).  Consider pre-processing your data with StandardScaler or MinMaxScaler.\n",
      "  warnings.warn(\n",
      "/home/jsv/personal/data_mining_sem/.venv/lib/python3.12/site-packages/sklearn/svm/_base.py:305: ConvergenceWarning: Solver terminated early (max_iter=1000).  Consider pre-processing your data with StandardScaler or MinMaxScaler.\n",
      "  warnings.warn(\n",
      "/home/jsv/personal/data_mining_sem/.venv/lib/python3.12/site-packages/sklearn/svm/_base.py:305: ConvergenceWarning: Solver terminated early (max_iter=1000).  Consider pre-processing your data with StandardScaler or MinMaxScaler.\n",
      "  warnings.warn(\n",
      "/home/jsv/personal/data_mining_sem/.venv/lib/python3.12/site-packages/sklearn/svm/_base.py:305: ConvergenceWarning: Solver terminated early (max_iter=1000).  Consider pre-processing your data with StandardScaler or MinMaxScaler.\n",
      "  warnings.warn(\n",
      "/home/jsv/personal/data_mining_sem/.venv/lib/python3.12/site-packages/sklearn/svm/_base.py:305: ConvergenceWarning: Solver terminated early (max_iter=1000).  Consider pre-processing your data with StandardScaler or MinMaxScaler.\n",
      "  warnings.warn(\n",
      "/home/jsv/personal/data_mining_sem/.venv/lib/python3.12/site-packages/sklearn/svm/_base.py:305: ConvergenceWarning: Solver terminated early (max_iter=1000).  Consider pre-processing your data with StandardScaler or MinMaxScaler.\n",
      "  warnings.warn(\n",
      "/home/jsv/personal/data_mining_sem/.venv/lib/python3.12/site-packages/sklearn/svm/_base.py:305: ConvergenceWarning: Solver terminated early (max_iter=1000).  Consider pre-processing your data with StandardScaler or MinMaxScaler.\n",
      "  warnings.warn(\n",
      "/home/jsv/personal/data_mining_sem/.venv/lib/python3.12/site-packages/sklearn/svm/_base.py:305: ConvergenceWarning: Solver terminated early (max_iter=1000).  Consider pre-processing your data with StandardScaler or MinMaxScaler.\n",
      "  warnings.warn(\n"
     ]
    },
    {
     "name": "stdout",
     "output_type": "stream",
     "text": [
      "[CV] END C=0.4164906414074834, gamma=0.20864129245884708, kernel=linear; total time=   1.1s\n",
      "[CV] END C=1.953111581106365, gamma=0.02498739952585744, kernel=linear; total time=   1.0s\n",
      "[CV] END C=1.953111581106365, gamma=0.02498739952585744, kernel=linear; total time=   0.7s\n",
      "[CV] END C=0.4164906414074834, gamma=0.20864129245884708, kernel=linear; total time=   1.3s\n",
      "[CV] END C=0.4164906414074834, gamma=0.20864129245884708, kernel=linear; total time=   1.3s\n",
      "[CV] END C=1.953111581106365, gamma=0.02498739952585744, kernel=linear; total time=   0.8s\n",
      "[CV] END C=1.953111581106365, gamma=0.02498739952585744, kernel=linear; total time=   0.7s\n"
     ]
    },
    {
     "name": "stderr",
     "output_type": "stream",
     "text": [
      "/home/jsv/personal/data_mining_sem/.venv/lib/python3.12/site-packages/sklearn/svm/_base.py:305: ConvergenceWarning: Solver terminated early (max_iter=1000).  Consider pre-processing your data with StandardScaler or MinMaxScaler.\n",
      "  warnings.warn(\n",
      "/home/jsv/personal/data_mining_sem/.venv/lib/python3.12/site-packages/sklearn/svm/_base.py:305: ConvergenceWarning: Solver terminated early (max_iter=1000).  Consider pre-processing your data with StandardScaler or MinMaxScaler.\n",
      "  warnings.warn(\n",
      "/home/jsv/personal/data_mining_sem/.venv/lib/python3.12/site-packages/sklearn/svm/_base.py:305: ConvergenceWarning: Solver terminated early (max_iter=1000).  Consider pre-processing your data with StandardScaler or MinMaxScaler.\n",
      "  warnings.warn(\n",
      "/home/jsv/personal/data_mining_sem/.venv/lib/python3.12/site-packages/sklearn/svm/_base.py:305: ConvergenceWarning: Solver terminated early (max_iter=1000).  Consider pre-processing your data with StandardScaler or MinMaxScaler.\n",
      "  warnings.warn(\n"
     ]
    },
    {
     "name": "stdout",
     "output_type": "stream",
     "text": [
      "[CV] END C=6.139702346203856, gamma=0.46417032362454685, kernel=linear; total time=   0.6s\n",
      "[CV] END C=0.6892325457076118, gamma=0.05356442439294144, kernel=poly; total time=   1.3s\n",
      "[CV] END C=0.6892325457076118, gamma=0.05356442439294144, kernel=poly; total time=   1.5s\n"
     ]
    },
    {
     "name": "stderr",
     "output_type": "stream",
     "text": [
      "/home/jsv/personal/data_mining_sem/.venv/lib/python3.12/site-packages/sklearn/svm/_base.py:305: ConvergenceWarning: Solver terminated early (max_iter=1000).  Consider pre-processing your data with StandardScaler or MinMaxScaler.\n",
      "  warnings.warn(\n",
      "/home/jsv/personal/data_mining_sem/.venv/lib/python3.12/site-packages/sklearn/svm/_base.py:305: ConvergenceWarning: Solver terminated early (max_iter=1000).  Consider pre-processing your data with StandardScaler or MinMaxScaler.\n",
      "  warnings.warn(\n",
      "/home/jsv/personal/data_mining_sem/.venv/lib/python3.12/site-packages/sklearn/svm/_base.py:305: ConvergenceWarning: Solver terminated early (max_iter=1000).  Consider pre-processing your data with StandardScaler or MinMaxScaler.\n",
      "  warnings.warn(\n",
      "/home/jsv/personal/data_mining_sem/.venv/lib/python3.12/site-packages/sklearn/svm/_base.py:305: ConvergenceWarning: Solver terminated early (max_iter=1000).  Consider pre-processing your data with StandardScaler or MinMaxScaler.\n",
      "  warnings.warn(\n",
      "/home/jsv/personal/data_mining_sem/.venv/lib/python3.12/site-packages/sklearn/svm/_base.py:305: ConvergenceWarning: Solver terminated early (max_iter=1000).  Consider pre-processing your data with StandardScaler or MinMaxScaler.\n",
      "  warnings.warn(\n"
     ]
    },
    {
     "name": "stdout",
     "output_type": "stream",
     "text": [
      "[CV] END C=0.6892325457076118, gamma=0.05356442439294144, kernel=poly; total time=   1.3s\n",
      "[CV] END C=6.139702346203856, gamma=0.46417032362454685, kernel=linear; total time=   0.9s\n",
      "[CV] END C=0.10889535195823956, gamma=0.03891937067115298, kernel=rbf; total time=   1.3s\n",
      "[CV] END C=0.6892325457076118, gamma=0.05356442439294144, kernel=poly; total time=   1.6s\n",
      "[CV] END C=0.6892325457076118, gamma=0.05356442439294144, kernel=poly; total time=   1.5s\n"
     ]
    },
    {
     "name": "stderr",
     "output_type": "stream",
     "text": [
      "/home/jsv/personal/data_mining_sem/.venv/lib/python3.12/site-packages/sklearn/svm/_base.py:305: ConvergenceWarning: Solver terminated early (max_iter=1000).  Consider pre-processing your data with StandardScaler or MinMaxScaler.\n",
      "  warnings.warn(\n",
      "/home/jsv/personal/data_mining_sem/.venv/lib/python3.12/site-packages/sklearn/svm/_base.py:305: ConvergenceWarning: Solver terminated early (max_iter=1000).  Consider pre-processing your data with StandardScaler or MinMaxScaler.\n",
      "  warnings.warn(\n",
      "/home/jsv/personal/data_mining_sem/.venv/lib/python3.12/site-packages/sklearn/svm/_base.py:305: ConvergenceWarning: Solver terminated early (max_iter=1000).  Consider pre-processing your data with StandardScaler or MinMaxScaler.\n",
      "  warnings.warn(\n"
     ]
    },
    {
     "name": "stdout",
     "output_type": "stream",
     "text": [
      "[CV] END C=6.139702346203856, gamma=0.46417032362454685, kernel=linear; total time=   0.5s\n",
      "[CV] END C=0.10889535195823956, gamma=0.03891937067115298, kernel=rbf; total time=   1.3s\n",
      "[CV] END C=0.10889535195823956, gamma=0.03891937067115298, kernel=rbf; total time=   1.3s\n",
      "[CV] END C=6.139702346203856, gamma=0.46417032362454685, kernel=linear; total time=   0.5s\n"
     ]
    },
    {
     "name": "stderr",
     "output_type": "stream",
     "text": [
      "/home/jsv/personal/data_mining_sem/.venv/lib/python3.12/site-packages/sklearn/svm/_base.py:305: ConvergenceWarning: Solver terminated early (max_iter=1000).  Consider pre-processing your data with StandardScaler or MinMaxScaler.\n",
      "  warnings.warn(\n",
      "/home/jsv/personal/data_mining_sem/.venv/lib/python3.12/site-packages/sklearn/svm/_base.py:305: ConvergenceWarning: Solver terminated early (max_iter=1000).  Consider pre-processing your data with StandardScaler or MinMaxScaler.\n",
      "  warnings.warn(\n",
      "/home/jsv/personal/data_mining_sem/.venv/lib/python3.12/site-packages/sklearn/svm/_base.py:305: ConvergenceWarning: Solver terminated early (max_iter=1000).  Consider pre-processing your data with StandardScaler or MinMaxScaler.\n",
      "  warnings.warn(\n"
     ]
    },
    {
     "name": "stdout",
     "output_type": "stream",
     "text": [
      "[CV] END C=6.139702346203856, gamma=0.46417032362454685, kernel=linear; total time=   0.8s\n",
      "[CV] END C=0.10889535195823956, gamma=0.03891937067115298, kernel=rbf; total time=   1.7s\n"
     ]
    },
    {
     "name": "stderr",
     "output_type": "stream",
     "text": [
      "/home/jsv/personal/data_mining_sem/.venv/lib/python3.12/site-packages/sklearn/svm/_base.py:305: ConvergenceWarning: Solver terminated early (max_iter=1000).  Consider pre-processing your data with StandardScaler or MinMaxScaler.\n",
      "  warnings.warn(\n",
      "/home/jsv/personal/data_mining_sem/.venv/lib/python3.12/site-packages/sklearn/svm/_base.py:305: ConvergenceWarning: Solver terminated early (max_iter=1000).  Consider pre-processing your data with StandardScaler or MinMaxScaler.\n",
      "  warnings.warn(\n",
      "/home/jsv/personal/data_mining_sem/.venv/lib/python3.12/site-packages/sklearn/svm/_base.py:305: ConvergenceWarning: Solver terminated early (max_iter=1000).  Consider pre-processing your data with StandardScaler or MinMaxScaler.\n",
      "  warnings.warn(\n",
      "/home/jsv/personal/data_mining_sem/.venv/lib/python3.12/site-packages/sklearn/svm/_base.py:305: ConvergenceWarning: Solver terminated early (max_iter=1000).  Consider pre-processing your data with StandardScaler or MinMaxScaler.\n",
      "  warnings.warn(\n"
     ]
    },
    {
     "name": "stdout",
     "output_type": "stream",
     "text": [
      "[CV] END C=0.10889535195823956, gamma=0.03891937067115298, kernel=rbf; total time=   1.7s\n",
      "[CV] END C=6.462116646792092, gamma=0.5663818137059718, kernel=linear; total time=   0.6s\n",
      "[CV] END C=6.462116646792092, gamma=0.5663818137059718, kernel=linear; total time=   0.6s\n"
     ]
    },
    {
     "name": "stderr",
     "output_type": "stream",
     "text": [
      "/home/jsv/personal/data_mining_sem/.venv/lib/python3.12/site-packages/sklearn/svm/_base.py:305: ConvergenceWarning: Solver terminated early (max_iter=1000).  Consider pre-processing your data with StandardScaler or MinMaxScaler.\n",
      "  warnings.warn(\n",
      "/home/jsv/personal/data_mining_sem/.venv/lib/python3.12/site-packages/sklearn/svm/_base.py:305: ConvergenceWarning: Solver terminated early (max_iter=1000).  Consider pre-processing your data with StandardScaler or MinMaxScaler.\n",
      "  warnings.warn(\n"
     ]
    },
    {
     "name": "stdout",
     "output_type": "stream",
     "text": [
      "[CV] END C=6.462116646792092, gamma=0.5663818137059718, kernel=linear; total time=   0.6s\n",
      "[CV] END C=6.462116646792092, gamma=0.5663818137059718, kernel=linear; total time=   0.6s\n"
     ]
    },
    {
     "name": "stderr",
     "output_type": "stream",
     "text": [
      "/home/jsv/personal/data_mining_sem/.venv/lib/python3.12/site-packages/sklearn/svm/_base.py:305: ConvergenceWarning: Solver terminated early (max_iter=1000).  Consider pre-processing your data with StandardScaler or MinMaxScaler.\n",
      "  warnings.warn(\n",
      "/home/jsv/personal/data_mining_sem/.venv/lib/python3.12/site-packages/sklearn/svm/_base.py:305: ConvergenceWarning: Solver terminated early (max_iter=1000).  Consider pre-processing your data with StandardScaler or MinMaxScaler.\n",
      "  warnings.warn(\n",
      "/home/jsv/personal/data_mining_sem/.venv/lib/python3.12/site-packages/sklearn/svm/_base.py:305: ConvergenceWarning: Solver terminated early (max_iter=1000).  Consider pre-processing your data with StandardScaler or MinMaxScaler.\n",
      "  warnings.warn(\n",
      "/home/jsv/personal/data_mining_sem/.venv/lib/python3.12/site-packages/sklearn/svm/_base.py:305: ConvergenceWarning: Solver terminated early (max_iter=1000).  Consider pre-processing your data with StandardScaler or MinMaxScaler.\n",
      "  warnings.warn(\n",
      "/home/jsv/personal/data_mining_sem/.venv/lib/python3.12/site-packages/sklearn/svm/_base.py:305: ConvergenceWarning: Solver terminated early (max_iter=1000).  Consider pre-processing your data with StandardScaler or MinMaxScaler.\n",
      "  warnings.warn(\n",
      "/home/jsv/personal/data_mining_sem/.venv/lib/python3.12/site-packages/sklearn/svm/_base.py:305: ConvergenceWarning: Solver terminated early (max_iter=1000).  Consider pre-processing your data with StandardScaler or MinMaxScaler.\n",
      "  warnings.warn(\n",
      "/home/jsv/personal/data_mining_sem/.venv/lib/python3.12/site-packages/sklearn/svm/_base.py:305: ConvergenceWarning: Solver terminated early (max_iter=1000).  Consider pre-processing your data with StandardScaler or MinMaxScaler.\n",
      "  warnings.warn(\n",
      "/home/jsv/personal/data_mining_sem/.venv/lib/python3.12/site-packages/sklearn/svm/_base.py:305: ConvergenceWarning: Solver terminated early (max_iter=1000).  Consider pre-processing your data with StandardScaler or MinMaxScaler.\n",
      "  warnings.warn(\n"
     ]
    },
    {
     "name": "stdout",
     "output_type": "stream",
     "text": [
      "[CV] END C=0.24871400849212216, gamma=0.04717390594921017, kernel=rbf; total time=   1.3s\n",
      "[CV] END C=6.068632210824944, gamma=0.12915092622219954, kernel=linear; total time=   0.5s\n",
      "[CV] END C=6.462116646792092, gamma=0.5663818137059718, kernel=linear; total time=   0.8s\n",
      "[CV] END C=0.24871400849212216, gamma=0.04717390594921017, kernel=rbf; total time=   1.3s\n",
      "[CV] END C=6.068632210824944, gamma=0.12915092622219954, kernel=linear; total time=   0.5s\n",
      "[CV] END C=6.068632210824944, gamma=0.12915092622219954, kernel=linear; total time=   0.8s\n"
     ]
    },
    {
     "name": "stderr",
     "output_type": "stream",
     "text": [
      "/home/jsv/personal/data_mining_sem/.venv/lib/python3.12/site-packages/sklearn/svm/_base.py:305: ConvergenceWarning: Solver terminated early (max_iter=1000).  Consider pre-processing your data with StandardScaler or MinMaxScaler.\n",
      "  warnings.warn(\n"
     ]
    },
    {
     "name": "stdout",
     "output_type": "stream",
     "text": [
      "[CV] END C=6.068632210824944, gamma=0.12915092622219954, kernel=linear; total time=   0.5s\n",
      "[CV] END C=6.068632210824944, gamma=0.12915092622219954, kernel=linear; total time=   0.8s\n",
      "[CV] END C=0.24871400849212216, gamma=0.04717390594921017, kernel=rbf; total time=   1.6s\n",
      "[CV] END C=0.24871400849212216, gamma=0.04717390594921017, kernel=rbf; total time=   1.5s\n"
     ]
    },
    {
     "name": "stderr",
     "output_type": "stream",
     "text": [
      "/home/jsv/personal/data_mining_sem/.venv/lib/python3.12/site-packages/sklearn/svm/_base.py:305: ConvergenceWarning: Solver terminated early (max_iter=1000).  Consider pre-processing your data with StandardScaler or MinMaxScaler.\n",
      "  warnings.warn(\n"
     ]
    },
    {
     "name": "stdout",
     "output_type": "stream",
     "text": [
      "[CV] END C=0.24871400849212216, gamma=0.04717390594921017, kernel=rbf; total time=   1.6s\n",
      "[CV] END C=1.0942179385235073, gamma=0.06885876641173645, kernel=linear; total time=   0.9s\n"
     ]
    },
    {
     "name": "stderr",
     "output_type": "stream",
     "text": [
      "/home/jsv/personal/data_mining_sem/.venv/lib/python3.12/site-packages/sklearn/svm/_base.py:305: ConvergenceWarning: Solver terminated early (max_iter=1000).  Consider pre-processing your data with StandardScaler or MinMaxScaler.\n",
      "  warnings.warn(\n",
      "/home/jsv/personal/data_mining_sem/.venv/lib/python3.12/site-packages/sklearn/svm/_base.py:305: ConvergenceWarning: Solver terminated early (max_iter=1000).  Consider pre-processing your data with StandardScaler or MinMaxScaler.\n",
      "  warnings.warn(\n",
      "/home/jsv/personal/data_mining_sem/.venv/lib/python3.12/site-packages/sklearn/svm/_base.py:305: ConvergenceWarning: Solver terminated early (max_iter=1000).  Consider pre-processing your data with StandardScaler or MinMaxScaler.\n",
      "  warnings.warn(\n",
      "/home/jsv/personal/data_mining_sem/.venv/lib/python3.12/site-packages/sklearn/svm/_base.py:305: ConvergenceWarning: Solver terminated early (max_iter=1000).  Consider pre-processing your data with StandardScaler or MinMaxScaler.\n",
      "  warnings.warn(\n",
      "/home/jsv/personal/data_mining_sem/.venv/lib/python3.12/site-packages/sklearn/svm/_base.py:305: ConvergenceWarning: Solver terminated early (max_iter=1000).  Consider pre-processing your data with StandardScaler or MinMaxScaler.\n",
      "  warnings.warn(\n"
     ]
    },
    {
     "name": "stdout",
     "output_type": "stream",
     "text": [
      "[CV] END C=1.0942179385235073, gamma=0.06885876641173645, kernel=linear; total time=   1.0s\n",
      "[CV] END C=1.0942179385235073, gamma=0.06885876641173645, kernel=linear; total time=   0.9s\n",
      "[CV] END C=1.0942179385235073, gamma=0.06885876641173645, kernel=linear; total time=   1.0s\n",
      "[CV] END C=1.0942179385235073, gamma=0.06885876641173645, kernel=linear; total time=   1.0s\n",
      "[CV] END C=0.07152917863990273, gamma=0.5881173420654626, kernel=linear; total time=   1.0s\n"
     ]
    },
    {
     "name": "stderr",
     "output_type": "stream",
     "text": [
      "/home/jsv/personal/data_mining_sem/.venv/lib/python3.12/site-packages/sklearn/svm/_base.py:305: ConvergenceWarning: Solver terminated early (max_iter=1000).  Consider pre-processing your data with StandardScaler or MinMaxScaler.\n",
      "  warnings.warn(\n",
      "/home/jsv/personal/data_mining_sem/.venv/lib/python3.12/site-packages/sklearn/svm/_base.py:305: ConvergenceWarning: Solver terminated early (max_iter=1000).  Consider pre-processing your data with StandardScaler or MinMaxScaler.\n",
      "  warnings.warn(\n",
      "/home/jsv/personal/data_mining_sem/.venv/lib/python3.12/site-packages/sklearn/svm/_base.py:305: ConvergenceWarning: Solver terminated early (max_iter=1000).  Consider pre-processing your data with StandardScaler or MinMaxScaler.\n",
      "  warnings.warn(\n",
      "/home/jsv/personal/data_mining_sem/.venv/lib/python3.12/site-packages/sklearn/svm/_base.py:305: ConvergenceWarning: Solver terminated early (max_iter=1000).  Consider pre-processing your data with StandardScaler or MinMaxScaler.\n",
      "  warnings.warn(\n",
      "/home/jsv/personal/data_mining_sem/.venv/lib/python3.12/site-packages/sklearn/svm/_base.py:305: ConvergenceWarning: Solver terminated early (max_iter=1000).  Consider pre-processing your data with StandardScaler or MinMaxScaler.\n",
      "  warnings.warn(\n"
     ]
    },
    {
     "name": "stdout",
     "output_type": "stream",
     "text": [
      "[CV] END C=0.07152917863990273, gamma=0.5881173420654626, kernel=linear; total time=   1.1s\n",
      "[CV] END C=0.5521066928442334, gamma=0.8927124315661765, kernel=poly; total time=   0.9s\n",
      "[CV] END C=0.07152917863990273, gamma=0.5881173420654626, kernel=linear; total time=   1.0s\n",
      "[CV] END C=0.5521066928442334, gamma=0.8927124315661765, kernel=poly; total time=   0.9s\n",
      "[CV] END C=0.5521066928442334, gamma=0.8927124315661765, kernel=poly; total time=   0.8s\n",
      "[CV] END C=0.07152917863990273, gamma=0.5881173420654626, kernel=linear; total time=   1.2s\n"
     ]
    },
    {
     "name": "stderr",
     "output_type": "stream",
     "text": [
      "/home/jsv/personal/data_mining_sem/.venv/lib/python3.12/site-packages/sklearn/svm/_base.py:305: ConvergenceWarning: Solver terminated early (max_iter=1000).  Consider pre-processing your data with StandardScaler or MinMaxScaler.\n",
      "  warnings.warn(\n",
      "/home/jsv/personal/data_mining_sem/.venv/lib/python3.12/site-packages/sklearn/svm/_base.py:305: ConvergenceWarning: Solver terminated early (max_iter=1000).  Consider pre-processing your data with StandardScaler or MinMaxScaler.\n",
      "  warnings.warn(\n",
      "/home/jsv/personal/data_mining_sem/.venv/lib/python3.12/site-packages/sklearn/svm/_base.py:305: ConvergenceWarning: Solver terminated early (max_iter=1000).  Consider pre-processing your data with StandardScaler or MinMaxScaler.\n",
      "  warnings.warn(\n",
      "/home/jsv/personal/data_mining_sem/.venv/lib/python3.12/site-packages/sklearn/svm/_base.py:305: ConvergenceWarning: Solver terminated early (max_iter=1000).  Consider pre-processing your data with StandardScaler or MinMaxScaler.\n",
      "  warnings.warn(\n"
     ]
    },
    {
     "name": "stdout",
     "output_type": "stream",
     "text": [
      "[CV] END C=0.07152917863990273, gamma=0.5881173420654626, kernel=linear; total time=   1.2s\n",
      "[CV] END C=0.5521066928442334, gamma=0.8927124315661765, kernel=poly; total time=   0.7s\n",
      "[CV] END C=0.5521066928442334, gamma=0.8927124315661765, kernel=poly; total time=   0.7s\n"
     ]
    },
    {
     "name": "stderr",
     "output_type": "stream",
     "text": [
      "/home/jsv/personal/data_mining_sem/.venv/lib/python3.12/site-packages/sklearn/svm/_base.py:305: ConvergenceWarning: Solver terminated early (max_iter=1000).  Consider pre-processing your data with StandardScaler or MinMaxScaler.\n",
      "  warnings.warn(\n",
      "/home/jsv/personal/data_mining_sem/.venv/lib/python3.12/site-packages/sklearn/svm/_base.py:305: ConvergenceWarning: Solver terminated early (max_iter=1000).  Consider pre-processing your data with StandardScaler or MinMaxScaler.\n",
      "  warnings.warn(\n",
      "/home/jsv/personal/data_mining_sem/.venv/lib/python3.12/site-packages/sklearn/svm/_base.py:305: ConvergenceWarning: Solver terminated early (max_iter=1000).  Consider pre-processing your data with StandardScaler or MinMaxScaler.\n",
      "  warnings.warn(\n"
     ]
    },
    {
     "name": "stdout",
     "output_type": "stream",
     "text": [
      "[CV] END C=0.09864021373317748, gamma=0.08923260702638329, kernel=linear; total time=   1.0s\n",
      "[CV] END C=0.09864021373317748, gamma=0.08923260702638329, kernel=linear; total time=   0.9s\n",
      "[CV] END C=0.09864021373317748, gamma=0.08923260702638329, kernel=linear; total time=   1.1s\n"
     ]
    },
    {
     "name": "stderr",
     "output_type": "stream",
     "text": [
      "/home/jsv/personal/data_mining_sem/.venv/lib/python3.12/site-packages/sklearn/svm/_base.py:305: ConvergenceWarning: Solver terminated early (max_iter=1000).  Consider pre-processing your data with StandardScaler or MinMaxScaler.\n",
      "  warnings.warn(\n",
      "/home/jsv/personal/data_mining_sem/.venv/lib/python3.12/site-packages/sklearn/svm/_base.py:305: ConvergenceWarning: Solver terminated early (max_iter=1000).  Consider pre-processing your data with StandardScaler or MinMaxScaler.\n",
      "  warnings.warn(\n",
      "/home/jsv/personal/data_mining_sem/.venv/lib/python3.12/site-packages/sklearn/svm/_base.py:305: ConvergenceWarning: Solver terminated early (max_iter=1000).  Consider pre-processing your data with StandardScaler or MinMaxScaler.\n",
      "  warnings.warn(\n",
      "/home/jsv/personal/data_mining_sem/.venv/lib/python3.12/site-packages/sklearn/svm/_base.py:305: ConvergenceWarning: Solver terminated early (max_iter=1000).  Consider pre-processing your data with StandardScaler or MinMaxScaler.\n",
      "  warnings.warn(\n"
     ]
    },
    {
     "name": "stdout",
     "output_type": "stream",
     "text": [
      "[CV] END C=0.09864021373317748, gamma=0.08923260702638329, kernel=linear; total time=   1.0s\n",
      "[CV] END C=0.7000757602172861, gamma=0.07128495725758066, kernel=poly; total time=   1.0s\n",
      "[CV] END C=0.09864021373317748, gamma=0.08923260702638329, kernel=linear; total time=   1.2s\n",
      "[CV] END C=0.7000757602172861, gamma=0.07128495725758066, kernel=poly; total time=   1.0s\n"
     ]
    },
    {
     "name": "stderr",
     "output_type": "stream",
     "text": [
      "/home/jsv/personal/data_mining_sem/.venv/lib/python3.12/site-packages/sklearn/svm/_base.py:305: ConvergenceWarning: Solver terminated early (max_iter=1000).  Consider pre-processing your data with StandardScaler or MinMaxScaler.\n",
      "  warnings.warn(\n",
      "/home/jsv/personal/data_mining_sem/.venv/lib/python3.12/site-packages/sklearn/svm/_base.py:305: ConvergenceWarning: Solver terminated early (max_iter=1000).  Consider pre-processing your data with StandardScaler or MinMaxScaler.\n",
      "  warnings.warn(\n",
      "/home/jsv/personal/data_mining_sem/.venv/lib/python3.12/site-packages/sklearn/svm/_base.py:305: ConvergenceWarning: Solver terminated early (max_iter=1000).  Consider pre-processing your data with StandardScaler or MinMaxScaler.\n",
      "  warnings.warn(\n",
      "/home/jsv/personal/data_mining_sem/.venv/lib/python3.12/site-packages/sklearn/svm/_base.py:305: ConvergenceWarning: Solver terminated early (max_iter=1000).  Consider pre-processing your data with StandardScaler or MinMaxScaler.\n",
      "  warnings.warn(\n",
      "/home/jsv/personal/data_mining_sem/.venv/lib/python3.12/site-packages/sklearn/svm/_base.py:305: ConvergenceWarning: Solver terminated early (max_iter=1000).  Consider pre-processing your data with StandardScaler or MinMaxScaler.\n",
      "  warnings.warn(\n"
     ]
    },
    {
     "name": "stdout",
     "output_type": "stream",
     "text": [
      "[CV] END C=0.0115939745310986, gamma=0.604797237550183, kernel=linear; total time=   1.0s\n",
      "[CV] END C=0.0115939745310986, gamma=0.604797237550183, kernel=linear; total time=   1.0s\n",
      "[CV] END C=0.7000757602172861, gamma=0.07128495725758066, kernel=poly; total time=   1.4s\n",
      "[CV] END C=0.7000757602172861, gamma=0.07128495725758066, kernel=poly; total time=   1.3s\n",
      "[CV] END C=0.7000757602172861, gamma=0.07128495725758066, kernel=poly; total time=   1.2s\n"
     ]
    },
    {
     "name": "stderr",
     "output_type": "stream",
     "text": [
      "/home/jsv/personal/data_mining_sem/.venv/lib/python3.12/site-packages/sklearn/svm/_base.py:305: ConvergenceWarning: Solver terminated early (max_iter=1000).  Consider pre-processing your data with StandardScaler or MinMaxScaler.\n",
      "  warnings.warn(\n",
      "/home/jsv/personal/data_mining_sem/.venv/lib/python3.12/site-packages/sklearn/svm/_base.py:305: ConvergenceWarning: Solver terminated early (max_iter=1000).  Consider pre-processing your data with StandardScaler or MinMaxScaler.\n",
      "  warnings.warn(\n"
     ]
    },
    {
     "name": "stdout",
     "output_type": "stream",
     "text": [
      "[CV] END C=0.0115939745310986, gamma=0.604797237550183, kernel=linear; total time=   1.0s\n",
      "[CV] END C=0.0115939745310986, gamma=0.604797237550183, kernel=linear; total time=   1.2s\n"
     ]
    },
    {
     "name": "stderr",
     "output_type": "stream",
     "text": [
      "/home/jsv/personal/data_mining_sem/.venv/lib/python3.12/site-packages/sklearn/svm/_base.py:305: ConvergenceWarning: Solver terminated early (max_iter=1000).  Consider pre-processing your data with StandardScaler or MinMaxScaler.\n",
      "  warnings.warn(\n"
     ]
    },
    {
     "name": "stdout",
     "output_type": "stream",
     "text": [
      "[CV] END C=0.0115939745310986, gamma=0.604797237550183, kernel=linear; total time=   1.1s\n",
      "[CV] END C=0.6202432580341545, gamma=0.758510142664566, kernel=poly; total time=   0.7s\n"
     ]
    },
    {
     "name": "stderr",
     "output_type": "stream",
     "text": [
      "/home/jsv/personal/data_mining_sem/.venv/lib/python3.12/site-packages/sklearn/svm/_base.py:305: ConvergenceWarning: Solver terminated early (max_iter=1000).  Consider pre-processing your data with StandardScaler or MinMaxScaler.\n",
      "  warnings.warn(\n",
      "/home/jsv/personal/data_mining_sem/.venv/lib/python3.12/site-packages/sklearn/svm/_base.py:305: ConvergenceWarning: Solver terminated early (max_iter=1000).  Consider pre-processing your data with StandardScaler or MinMaxScaler.\n",
      "  warnings.warn(\n",
      "/home/jsv/personal/data_mining_sem/.venv/lib/python3.12/site-packages/sklearn/svm/_base.py:305: ConvergenceWarning: Solver terminated early (max_iter=1000).  Consider pre-processing your data with StandardScaler or MinMaxScaler.\n",
      "  warnings.warn(\n",
      "/home/jsv/personal/data_mining_sem/.venv/lib/python3.12/site-packages/sklearn/svm/_base.py:305: ConvergenceWarning: Solver terminated early (max_iter=1000).  Consider pre-processing your data with StandardScaler or MinMaxScaler.\n",
      "  warnings.warn(\n",
      "/home/jsv/personal/data_mining_sem/.venv/lib/python3.12/site-packages/sklearn/svm/_base.py:305: ConvergenceWarning: Solver terminated early (max_iter=1000).  Consider pre-processing your data with StandardScaler or MinMaxScaler.\n",
      "  warnings.warn(\n",
      "/home/jsv/personal/data_mining_sem/.venv/lib/python3.12/site-packages/sklearn/svm/_base.py:305: ConvergenceWarning: Solver terminated early (max_iter=1000).  Consider pre-processing your data with StandardScaler or MinMaxScaler.\n",
      "  warnings.warn(\n",
      "/home/jsv/personal/data_mining_sem/.venv/lib/python3.12/site-packages/sklearn/svm/_base.py:305: ConvergenceWarning: Solver terminated early (max_iter=1000).  Consider pre-processing your data with StandardScaler or MinMaxScaler.\n",
      "  warnings.warn(\n",
      "/home/jsv/personal/data_mining_sem/.venv/lib/python3.12/site-packages/sklearn/svm/_base.py:305: ConvergenceWarning: Solver terminated early (max_iter=1000).  Consider pre-processing your data with StandardScaler or MinMaxScaler.\n",
      "  warnings.warn(\n"
     ]
    },
    {
     "name": "stdout",
     "output_type": "stream",
     "text": [
      "[CV] END C=0.3503080250254499, gamma=0.029236490011523914, kernel=poly; total time=   1.3s\n",
      "[CV] END C=0.6202432580341545, gamma=0.758510142664566, kernel=poly; total time=   0.8s\n",
      "[CV] END C=0.3503080250254499, gamma=0.029236490011523914, kernel=poly; total time=   1.4s\n",
      "[CV] END C=0.6202432580341545, gamma=0.758510142664566, kernel=poly; total time=   0.9s\n",
      "[CV] END C=0.6202432580341545, gamma=0.758510142664566, kernel=poly; total time=   0.9s\n",
      "[CV] END C=0.3503080250254499, gamma=0.029236490011523914, kernel=poly; total time=   1.3s\n",
      "[CV] END C=0.3503080250254499, gamma=0.029236490011523914, kernel=poly; total time=   1.4s\n"
     ]
    },
    {
     "name": "stderr",
     "output_type": "stream",
     "text": [
      "/home/jsv/personal/data_mining_sem/.venv/lib/python3.12/site-packages/sklearn/svm/_base.py:305: ConvergenceWarning: Solver terminated early (max_iter=1000).  Consider pre-processing your data with StandardScaler or MinMaxScaler.\n",
      "  warnings.warn(\n",
      "/home/jsv/personal/data_mining_sem/.venv/lib/python3.12/site-packages/sklearn/svm/_base.py:305: ConvergenceWarning: Solver terminated early (max_iter=1000).  Consider pre-processing your data with StandardScaler or MinMaxScaler.\n",
      "  warnings.warn(\n"
     ]
    },
    {
     "name": "stdout",
     "output_type": "stream",
     "text": [
      "[CV] END C=0.3503080250254499, gamma=0.029236490011523914, kernel=poly; total time=   1.2s\n",
      "[CV] END C=0.6202432580341545, gamma=0.758510142664566, kernel=poly; total time=   0.7s\n"
     ]
    },
    {
     "name": "stderr",
     "output_type": "stream",
     "text": [
      "/home/jsv/personal/data_mining_sem/.venv/lib/python3.12/site-packages/sklearn/svm/_base.py:305: ConvergenceWarning: Solver terminated early (max_iter=1000).  Consider pre-processing your data with StandardScaler or MinMaxScaler.\n",
      "  warnings.warn(\n",
      "/home/jsv/personal/data_mining_sem/.venv/lib/python3.12/site-packages/sklearn/svm/_base.py:305: ConvergenceWarning: Solver terminated early (max_iter=1000).  Consider pre-processing your data with StandardScaler or MinMaxScaler.\n",
      "  warnings.warn(\n",
      "/home/jsv/personal/data_mining_sem/.venv/lib/python3.12/site-packages/sklearn/svm/_base.py:305: ConvergenceWarning: Solver terminated early (max_iter=1000).  Consider pre-processing your data with StandardScaler or MinMaxScaler.\n",
      "  warnings.warn(\n",
      "/home/jsv/personal/data_mining_sem/.venv/lib/python3.12/site-packages/sklearn/svm/_base.py:305: ConvergenceWarning: Solver terminated early (max_iter=1000).  Consider pre-processing your data with StandardScaler or MinMaxScaler.\n",
      "  warnings.warn(\n"
     ]
    },
    {
     "name": "stdout",
     "output_type": "stream",
     "text": [
      "[CV] END C=8.122647028848768, gamma=0.013891221981865412, kernel=linear; total time=   0.4s\n",
      "[CV] END C=8.122647028848768, gamma=0.013891221981865412, kernel=linear; total time=   0.6s\n"
     ]
    },
    {
     "name": "stderr",
     "output_type": "stream",
     "text": [
      "/home/jsv/personal/data_mining_sem/.venv/lib/python3.12/site-packages/sklearn/svm/_base.py:305: ConvergenceWarning: Solver terminated early (max_iter=1000).  Consider pre-processing your data with StandardScaler or MinMaxScaler.\n",
      "  warnings.warn(\n",
      "/home/jsv/personal/data_mining_sem/.venv/lib/python3.12/site-packages/sklearn/svm/_base.py:305: ConvergenceWarning: Solver terminated early (max_iter=1000).  Consider pre-processing your data with StandardScaler or MinMaxScaler.\n",
      "  warnings.warn(\n",
      "/home/jsv/personal/data_mining_sem/.venv/lib/python3.12/site-packages/sklearn/svm/_base.py:305: ConvergenceWarning: Solver terminated early (max_iter=1000).  Consider pre-processing your data with StandardScaler or MinMaxScaler.\n",
      "  warnings.warn(\n",
      "/home/jsv/personal/data_mining_sem/.venv/lib/python3.12/site-packages/sklearn/svm/_base.py:305: ConvergenceWarning: Solver terminated early (max_iter=1000).  Consider pre-processing your data with StandardScaler or MinMaxScaler.\n",
      "  warnings.warn(\n"
     ]
    },
    {
     "name": "stdout",
     "output_type": "stream",
     "text": [
      "[CV] END C=8.122647028848768, gamma=0.013891221981865412, kernel=linear; total time=   0.6s\n",
      "[CV] END C=8.122647028848768, gamma=0.013891221981865412, kernel=linear; total time=   0.6s\n",
      "[CV] END C=0.17235494337742238, gamma=0.07100150998325504, kernel=poly; total time=   1.1s\n",
      "[CV] END C=8.122647028848768, gamma=0.013891221981865412, kernel=linear; total time=   0.6s\n",
      "[CV] END C=0.17235494337742238, gamma=0.07100150998325504, kernel=poly; total time=   0.9s\n"
     ]
    },
    {
     "name": "stderr",
     "output_type": "stream",
     "text": [
      "/home/jsv/personal/data_mining_sem/.venv/lib/python3.12/site-packages/sklearn/svm/_base.py:305: ConvergenceWarning: Solver terminated early (max_iter=1000).  Consider pre-processing your data with StandardScaler or MinMaxScaler.\n",
      "  warnings.warn(\n",
      "/home/jsv/personal/data_mining_sem/.venv/lib/python3.12/site-packages/sklearn/svm/_base.py:305: ConvergenceWarning: Solver terminated early (max_iter=1000).  Consider pre-processing your data with StandardScaler or MinMaxScaler.\n",
      "  warnings.warn(\n"
     ]
    },
    {
     "name": "stdout",
     "output_type": "stream",
     "text": [
      "[CV] END C=0.17235494337742238, gamma=0.07100150998325504, kernel=poly; total time=   1.3s\n",
      "[CV] END C=0.17235494337742238, gamma=0.07100150998325504, kernel=poly; total time=   1.2s\n"
     ]
    },
    {
     "name": "stderr",
     "output_type": "stream",
     "text": [
      "/home/jsv/personal/data_mining_sem/.venv/lib/python3.12/site-packages/sklearn/svm/_base.py:305: ConvergenceWarning: Solver terminated early (max_iter=1000).  Consider pre-processing your data with StandardScaler or MinMaxScaler.\n",
      "  warnings.warn(\n",
      "/home/jsv/personal/data_mining_sem/.venv/lib/python3.12/site-packages/sklearn/svm/_base.py:305: ConvergenceWarning: Solver terminated early (max_iter=1000).  Consider pre-processing your data with StandardScaler or MinMaxScaler.\n",
      "  warnings.warn(\n"
     ]
    },
    {
     "name": "stdout",
     "output_type": "stream",
     "text": [
      "[CV] END C=0.17235494337742238, gamma=0.07100150998325504, kernel=poly; total time=   1.3s\n"
     ]
    },
    {
     "name": "stderr",
     "output_type": "stream",
     "text": [
      "/home/jsv/personal/data_mining_sem/.venv/lib/python3.12/site-packages/sklearn/svm/_base.py:305: ConvergenceWarning: Solver terminated early (max_iter=1000).  Consider pre-processing your data with StandardScaler or MinMaxScaler.\n",
      "  warnings.warn(\n"
     ]
    },
    {
     "name": "stdout",
     "output_type": "stream",
     "text": [
      "[CV] END C=0.10797081836584818, gamma=0.12998280094410944, kernel=rbf; total time=   1.3s\n",
      "[CV] END C=0.10797081836584818, gamma=0.12998280094410944, kernel=rbf; total time=   1.5s\n"
     ]
    },
    {
     "name": "stderr",
     "output_type": "stream",
     "text": [
      "/home/jsv/personal/data_mining_sem/.venv/lib/python3.12/site-packages/sklearn/svm/_base.py:305: ConvergenceWarning: Solver terminated early (max_iter=1000).  Consider pre-processing your data with StandardScaler or MinMaxScaler.\n",
      "  warnings.warn(\n",
      "/home/jsv/personal/data_mining_sem/.venv/lib/python3.12/site-packages/sklearn/svm/_base.py:305: ConvergenceWarning: Solver terminated early (max_iter=1000).  Consider pre-processing your data with StandardScaler or MinMaxScaler.\n",
      "  warnings.warn(\n",
      "/home/jsv/personal/data_mining_sem/.venv/lib/python3.12/site-packages/sklearn/svm/_base.py:305: ConvergenceWarning: Solver terminated early (max_iter=1000).  Consider pre-processing your data with StandardScaler or MinMaxScaler.\n",
      "  warnings.warn(\n",
      "/home/jsv/personal/data_mining_sem/.venv/lib/python3.12/site-packages/sklearn/svm/_base.py:305: ConvergenceWarning: Solver terminated early (max_iter=1000).  Consider pre-processing your data with StandardScaler or MinMaxScaler.\n",
      "  warnings.warn(\n",
      "/home/jsv/personal/data_mining_sem/.venv/lib/python3.12/site-packages/sklearn/svm/_base.py:305: ConvergenceWarning: Solver terminated early (max_iter=1000).  Consider pre-processing your data with StandardScaler or MinMaxScaler.\n",
      "  warnings.warn(\n",
      "/home/jsv/personal/data_mining_sem/.venv/lib/python3.12/site-packages/sklearn/svm/_base.py:305: ConvergenceWarning: Solver terminated early (max_iter=1000).  Consider pre-processing your data with StandardScaler or MinMaxScaler.\n",
      "  warnings.warn(\n"
     ]
    },
    {
     "name": "stdout",
     "output_type": "stream",
     "text": [
      "[CV] END C=0.10797081836584818, gamma=0.12998280094410944, kernel=rbf; total time=   1.4s\n",
      "[CV] END C=0.2856436554684977, gamma=0.044381030825726246, kernel=rbf; total time=   1.4s\n",
      "[CV] END C=0.10797081836584818, gamma=0.12998280094410944, kernel=rbf; total time=   1.5s\n",
      "[CV] END C=0.2856436554684977, gamma=0.044381030825726246, kernel=rbf; total time=   1.5s\n",
      "[CV] END C=0.2856436554684977, gamma=0.044381030825726246, kernel=rbf; total time=   1.4s\n",
      "[CV] END C=0.10797081836584818, gamma=0.12998280094410944, kernel=rbf; total time=   1.5s\n",
      "[CV] END C=0.2856436554684977, gamma=0.044381030825726246, kernel=rbf; total time=   1.5s\n"
     ]
    },
    {
     "name": "stderr",
     "output_type": "stream",
     "text": [
      "/home/jsv/personal/data_mining_sem/.venv/lib/python3.12/site-packages/sklearn/svm/_base.py:305: ConvergenceWarning: Solver terminated early (max_iter=1000).  Consider pre-processing your data with StandardScaler or MinMaxScaler.\n",
      "  warnings.warn(\n",
      "/home/jsv/personal/data_mining_sem/.venv/lib/python3.12/site-packages/sklearn/svm/_base.py:305: ConvergenceWarning: Solver terminated early (max_iter=1000).  Consider pre-processing your data with StandardScaler or MinMaxScaler.\n",
      "  warnings.warn(\n",
      "/home/jsv/personal/data_mining_sem/.venv/lib/python3.12/site-packages/sklearn/svm/_base.py:305: ConvergenceWarning: Solver terminated early (max_iter=1000).  Consider pre-processing your data with StandardScaler or MinMaxScaler.\n",
      "  warnings.warn(\n",
      "/home/jsv/personal/data_mining_sem/.venv/lib/python3.12/site-packages/sklearn/svm/_base.py:305: ConvergenceWarning: Solver terminated early (max_iter=1000).  Consider pre-processing your data with StandardScaler or MinMaxScaler.\n",
      "  warnings.warn(\n"
     ]
    },
    {
     "name": "stdout",
     "output_type": "stream",
     "text": [
      "[CV] END C=2.9235608378103786, gamma=0.062169092300836844, kernel=rbf; total time=   1.4s\n",
      "[CV] END C=0.2856436554684977, gamma=0.044381030825726246, kernel=rbf; total time=   1.6s\n",
      "[CV] END C=2.9235608378103786, gamma=0.062169092300836844, kernel=rbf; total time=   1.4s\n",
      "[CV] END C=2.9235608378103786, gamma=0.062169092300836844, kernel=rbf; total time=   1.2s\n"
     ]
    },
    {
     "name": "stderr",
     "output_type": "stream",
     "text": [
      "/home/jsv/personal/data_mining_sem/.venv/lib/python3.12/site-packages/sklearn/svm/_base.py:305: ConvergenceWarning: Solver terminated early (max_iter=1000).  Consider pre-processing your data with StandardScaler or MinMaxScaler.\n",
      "  warnings.warn(\n",
      "/home/jsv/personal/data_mining_sem/.venv/lib/python3.12/site-packages/sklearn/svm/_base.py:305: ConvergenceWarning: Solver terminated early (max_iter=1000).  Consider pre-processing your data with StandardScaler or MinMaxScaler.\n",
      "  warnings.warn(\n",
      "/home/jsv/personal/data_mining_sem/.venv/lib/python3.12/site-packages/sklearn/svm/_base.py:305: ConvergenceWarning: Solver terminated early (max_iter=1000).  Consider pre-processing your data with StandardScaler or MinMaxScaler.\n",
      "  warnings.warn(\n",
      "/home/jsv/personal/data_mining_sem/.venv/lib/python3.12/site-packages/sklearn/svm/_base.py:305: ConvergenceWarning: Solver terminated early (max_iter=1000).  Consider pre-processing your data with StandardScaler or MinMaxScaler.\n",
      "  warnings.warn(\n",
      "/home/jsv/personal/data_mining_sem/.venv/lib/python3.12/site-packages/sklearn/svm/_base.py:305: ConvergenceWarning: Solver terminated early (max_iter=1000).  Consider pre-processing your data with StandardScaler or MinMaxScaler.\n",
      "  warnings.warn(\n"
     ]
    },
    {
     "name": "stdout",
     "output_type": "stream",
     "text": [
      "[CV] END C=2.9235608378103786, gamma=0.062169092300836844, kernel=rbf; total time=   1.4s\n",
      "[CV] END C=2.9235608378103786, gamma=0.062169092300836844, kernel=rbf; total time=   1.3s\n",
      "[CV] END C=2.387533807697589, gamma=0.04497465521280776, kernel=poly; total time=   1.0s\n",
      "[CV] END C=2.387533807697589, gamma=0.04497465521280776, kernel=poly; total time=   1.1s\n"
     ]
    },
    {
     "name": "stderr",
     "output_type": "stream",
     "text": [
      "/home/jsv/personal/data_mining_sem/.venv/lib/python3.12/site-packages/sklearn/svm/_base.py:305: ConvergenceWarning: Solver terminated early (max_iter=1000).  Consider pre-processing your data with StandardScaler or MinMaxScaler.\n",
      "  warnings.warn(\n",
      "/home/jsv/personal/data_mining_sem/.venv/lib/python3.12/site-packages/sklearn/svm/_base.py:305: ConvergenceWarning: Solver terminated early (max_iter=1000).  Consider pre-processing your data with StandardScaler or MinMaxScaler.\n",
      "  warnings.warn(\n",
      "/home/jsv/personal/data_mining_sem/.venv/lib/python3.12/site-packages/sklearn/svm/_base.py:305: ConvergenceWarning: Solver terminated early (max_iter=1000).  Consider pre-processing your data with StandardScaler or MinMaxScaler.\n",
      "  warnings.warn(\n"
     ]
    },
    {
     "name": "stdout",
     "output_type": "stream",
     "text": [
      "[CV] END C=2.387533807697589, gamma=0.04497465521280776, kernel=poly; total time=   1.1s\n",
      "[CV] END C=2.387533807697589, gamma=0.04497465521280776, kernel=poly; total time=   1.3s\n",
      "[CV] END C=2.387533807697589, gamma=0.04497465521280776, kernel=poly; total time=   1.3s\n"
     ]
    },
    {
     "name": "stderr",
     "output_type": "stream",
     "text": [
      "/home/jsv/personal/data_mining_sem/.venv/lib/python3.12/site-packages/sklearn/svm/_base.py:305: ConvergenceWarning: Solver terminated early (max_iter=1000).  Consider pre-processing your data with StandardScaler or MinMaxScaler.\n",
      "  warnings.warn(\n",
      "/home/jsv/personal/data_mining_sem/.venv/lib/python3.12/site-packages/sklearn/svm/_base.py:305: ConvergenceWarning: Solver terminated early (max_iter=1000).  Consider pre-processing your data with StandardScaler or MinMaxScaler.\n",
      "  warnings.warn(\n",
      "/home/jsv/personal/data_mining_sem/.venv/lib/python3.12/site-packages/sklearn/svm/_base.py:305: ConvergenceWarning: Solver terminated early (max_iter=1000).  Consider pre-processing your data with StandardScaler or MinMaxScaler.\n",
      "  warnings.warn(\n",
      "/home/jsv/personal/data_mining_sem/.venv/lib/python3.12/site-packages/sklearn/svm/_base.py:305: ConvergenceWarning: Solver terminated early (max_iter=1000).  Consider pre-processing your data with StandardScaler or MinMaxScaler.\n",
      "  warnings.warn(\n"
     ]
    },
    {
     "name": "stdout",
     "output_type": "stream",
     "text": [
      "[CV] END C=0.021072306676614937, gamma=0.09448187695884888, kernel=rbf; total time=   1.4s\n",
      "[CV] END C=0.021072306676614937, gamma=0.09448187695884888, kernel=rbf; total time=   1.2s\n"
     ]
    },
    {
     "name": "stderr",
     "output_type": "stream",
     "text": [
      "/home/jsv/personal/data_mining_sem/.venv/lib/python3.12/site-packages/sklearn/svm/_base.py:305: ConvergenceWarning: Solver terminated early (max_iter=1000).  Consider pre-processing your data with StandardScaler or MinMaxScaler.\n",
      "  warnings.warn(\n",
      "/home/jsv/personal/data_mining_sem/.venv/lib/python3.12/site-packages/sklearn/svm/_base.py:305: ConvergenceWarning: Solver terminated early (max_iter=1000).  Consider pre-processing your data with StandardScaler or MinMaxScaler.\n",
      "  warnings.warn(\n",
      "/home/jsv/personal/data_mining_sem/.venv/lib/python3.12/site-packages/sklearn/svm/_base.py:305: ConvergenceWarning: Solver terminated early (max_iter=1000).  Consider pre-processing your data with StandardScaler or MinMaxScaler.\n",
      "  warnings.warn(\n",
      "/home/jsv/personal/data_mining_sem/.venv/lib/python3.12/site-packages/sklearn/svm/_base.py:305: ConvergenceWarning: Solver terminated early (max_iter=1000).  Consider pre-processing your data with StandardScaler or MinMaxScaler.\n",
      "  warnings.warn(\n",
      "/home/jsv/personal/data_mining_sem/.venv/lib/python3.12/site-packages/sklearn/svm/_base.py:305: ConvergenceWarning: Solver terminated early (max_iter=1000).  Consider pre-processing your data with StandardScaler or MinMaxScaler.\n",
      "  warnings.warn(\n"
     ]
    },
    {
     "name": "stdout",
     "output_type": "stream",
     "text": [
      "[CV] END C=0.021072306676614937, gamma=0.09448187695884888, kernel=rbf; total time=   1.5s\n",
      "[CV] END C=0.021072306676614937, gamma=0.09448187695884888, kernel=rbf; total time=   1.4s\n",
      "[CV] END C=0.021072306676614937, gamma=0.09448187695884888, kernel=rbf; total time=   1.4s\n",
      "[CV] END C=0.03797978323494132, gamma=0.017524248069424295, kernel=linear; total time=   0.9s\n",
      "[CV] END C=0.03797978323494132, gamma=0.017524248069424295, kernel=linear; total time=   1.1s\n",
      "[CV] END C=0.03797978323494132, gamma=0.017524248069424295, kernel=linear; total time=   1.1s\n",
      "[CV] END C=0.03797978323494132, gamma=0.017524248069424295, kernel=linear; total time=   1.0s\n",
      "[CV] END C=0.03797978323494132, gamma=0.017524248069424295, kernel=linear; total time=   1.0s\n"
     ]
    },
    {
     "name": "stderr",
     "output_type": "stream",
     "text": [
      "/home/jsv/personal/data_mining_sem/.venv/lib/python3.12/site-packages/sklearn/svm/_base.py:305: ConvergenceWarning: Solver terminated early (max_iter=1000).  Consider pre-processing your data with StandardScaler or MinMaxScaler.\n",
      "  warnings.warn(\n",
      "/home/jsv/personal/data_mining_sem/.venv/lib/python3.12/site-packages/sklearn/svm/_base.py:305: ConvergenceWarning: Solver terminated early (max_iter=1000).  Consider pre-processing your data with StandardScaler or MinMaxScaler.\n",
      "  warnings.warn(\n"
     ]
    },
    {
     "name": "stdout",
     "output_type": "stream",
     "text": [
      "[CV] END C=0.2916055680025611, gamma=0.051241982077351506, kernel=poly; total time=   1.3s\n",
      "[CV] END C=0.2916055680025611, gamma=0.051241982077351506, kernel=poly; total time=   1.3s\n"
     ]
    },
    {
     "name": "stderr",
     "output_type": "stream",
     "text": [
      "/home/jsv/personal/data_mining_sem/.venv/lib/python3.12/site-packages/sklearn/svm/_base.py:305: ConvergenceWarning: Solver terminated early (max_iter=1000).  Consider pre-processing your data with StandardScaler or MinMaxScaler.\n",
      "  warnings.warn(\n",
      "/home/jsv/personal/data_mining_sem/.venv/lib/python3.12/site-packages/sklearn/svm/_base.py:305: ConvergenceWarning: Solver terminated early (max_iter=1000).  Consider pre-processing your data with StandardScaler or MinMaxScaler.\n",
      "  warnings.warn(\n"
     ]
    },
    {
     "name": "stdout",
     "output_type": "stream",
     "text": [
      "[CV] END C=0.2916055680025611, gamma=0.051241982077351506, kernel=poly; total time=   1.2s\n",
      "[CV] END C=0.2916055680025611, gamma=0.051241982077351506, kernel=poly; total time=   1.3s\n"
     ]
    },
    {
     "name": "stderr",
     "output_type": "stream",
     "text": [
      "/home/jsv/personal/data_mining_sem/.venv/lib/python3.12/site-packages/sklearn/svm/_base.py:305: ConvergenceWarning: Solver terminated early (max_iter=1000).  Consider pre-processing your data with StandardScaler or MinMaxScaler.\n",
      "  warnings.warn(\n",
      "/home/jsv/personal/data_mining_sem/.venv/lib/python3.12/site-packages/sklearn/svm/_base.py:305: ConvergenceWarning: Solver terminated early (max_iter=1000).  Consider pre-processing your data with StandardScaler or MinMaxScaler.\n",
      "  warnings.warn(\n",
      "/home/jsv/personal/data_mining_sem/.venv/lib/python3.12/site-packages/sklearn/svm/_base.py:305: ConvergenceWarning: Solver terminated early (max_iter=1000).  Consider pre-processing your data with StandardScaler or MinMaxScaler.\n",
      "  warnings.warn(\n",
      "/home/jsv/personal/data_mining_sem/.venv/lib/python3.12/site-packages/sklearn/svm/_base.py:305: ConvergenceWarning: Solver terminated early (max_iter=1000).  Consider pre-processing your data with StandardScaler or MinMaxScaler.\n",
      "  warnings.warn(\n",
      "/home/jsv/personal/data_mining_sem/.venv/lib/python3.12/site-packages/sklearn/svm/_base.py:305: ConvergenceWarning: Solver terminated early (max_iter=1000).  Consider pre-processing your data with StandardScaler or MinMaxScaler.\n",
      "  warnings.warn(\n",
      "/home/jsv/personal/data_mining_sem/.venv/lib/python3.12/site-packages/sklearn/svm/_base.py:305: ConvergenceWarning: Solver terminated early (max_iter=1000).  Consider pre-processing your data with StandardScaler or MinMaxScaler.\n",
      "  warnings.warn(\n",
      "/home/jsv/personal/data_mining_sem/.venv/lib/python3.12/site-packages/sklearn/svm/_base.py:305: ConvergenceWarning: Solver terminated early (max_iter=1000).  Consider pre-processing your data with StandardScaler or MinMaxScaler.\n",
      "  warnings.warn(\n",
      "/home/jsv/personal/data_mining_sem/.venv/lib/python3.12/site-packages/sklearn/svm/_base.py:305: ConvergenceWarning: Solver terminated early (max_iter=1000).  Consider pre-processing your data with StandardScaler or MinMaxScaler.\n",
      "  warnings.warn(\n"
     ]
    },
    {
     "name": "stdout",
     "output_type": "stream",
     "text": [
      "[CV] END C=0.2916055680025611, gamma=0.051241982077351506, kernel=poly; total time=   1.3s\n",
      "[CV] END C=0.7081162871330751, gamma=0.1264064422801716, kernel=rbf; total time=   1.4s\n",
      "[CV] END C=0.7081162871330751, gamma=0.1264064422801716, kernel=rbf; total time=   1.4s\n",
      "[CV] END C=0.7081162871330751, gamma=0.1264064422801716, kernel=rbf; total time=   1.4s\n",
      "[CV] END C=0.1181294313796259, gamma=0.08174325821189435, kernel=poly; total time=   1.3s\n",
      "[CV] END C=0.1181294313796259, gamma=0.08174325821189435, kernel=poly; total time=   1.3s\n",
      "[CV] END C=0.7081162871330751, gamma=0.1264064422801716, kernel=rbf; total time=   1.5s\n",
      "[CV] END C=0.7081162871330751, gamma=0.1264064422801716, kernel=rbf; total time=   1.5s\n"
     ]
    },
    {
     "name": "stderr",
     "output_type": "stream",
     "text": [
      "/home/jsv/personal/data_mining_sem/.venv/lib/python3.12/site-packages/sklearn/svm/_base.py:305: ConvergenceWarning: Solver terminated early (max_iter=1000).  Consider pre-processing your data with StandardScaler or MinMaxScaler.\n",
      "  warnings.warn(\n",
      "/home/jsv/personal/data_mining_sem/.venv/lib/python3.12/site-packages/sklearn/svm/_base.py:305: ConvergenceWarning: Solver terminated early (max_iter=1000).  Consider pre-processing your data with StandardScaler or MinMaxScaler.\n",
      "  warnings.warn(\n",
      "/home/jsv/personal/data_mining_sem/.venv/lib/python3.12/site-packages/sklearn/svm/_base.py:305: ConvergenceWarning: Solver terminated early (max_iter=1000).  Consider pre-processing your data with StandardScaler or MinMaxScaler.\n",
      "  warnings.warn(\n",
      "/home/jsv/personal/data_mining_sem/.venv/lib/python3.12/site-packages/sklearn/svm/_base.py:305: ConvergenceWarning: Solver terminated early (max_iter=1000).  Consider pre-processing your data with StandardScaler or MinMaxScaler.\n",
      "  warnings.warn(\n"
     ]
    },
    {
     "name": "stdout",
     "output_type": "stream",
     "text": [
      "[CV] END C=0.1181294313796259, gamma=0.08174325821189435, kernel=poly; total time=   1.3s\n",
      "[CV] END C=0.27429835998100305, gamma=0.013077011609969248, kernel=linear; total time=   1.1s\n",
      "[CV] END C=0.1181294313796259, gamma=0.08174325821189435, kernel=poly; total time=   1.3s\n",
      "[CV] END C=0.1181294313796259, gamma=0.08174325821189435, kernel=poly; total time=   1.2s\n"
     ]
    },
    {
     "name": "stderr",
     "output_type": "stream",
     "text": [
      "/home/jsv/personal/data_mining_sem/.venv/lib/python3.12/site-packages/sklearn/svm/_base.py:305: ConvergenceWarning: Solver terminated early (max_iter=1000).  Consider pre-processing your data with StandardScaler or MinMaxScaler.\n",
      "  warnings.warn(\n",
      "/home/jsv/personal/data_mining_sem/.venv/lib/python3.12/site-packages/sklearn/svm/_base.py:305: ConvergenceWarning: Solver terminated early (max_iter=1000).  Consider pre-processing your data with StandardScaler or MinMaxScaler.\n",
      "  warnings.warn(\n",
      "/home/jsv/personal/data_mining_sem/.venv/lib/python3.12/site-packages/sklearn/svm/_base.py:305: ConvergenceWarning: Solver terminated early (max_iter=1000).  Consider pre-processing your data with StandardScaler or MinMaxScaler.\n",
      "  warnings.warn(\n",
      "/home/jsv/personal/data_mining_sem/.venv/lib/python3.12/site-packages/sklearn/svm/_base.py:305: ConvergenceWarning: Solver terminated early (max_iter=1000).  Consider pre-processing your data with StandardScaler or MinMaxScaler.\n",
      "  warnings.warn(\n"
     ]
    },
    {
     "name": "stdout",
     "output_type": "stream",
     "text": [
      "[CV] END C=0.27429835998100305, gamma=0.013077011609969248, kernel=linear; total time=   1.0s\n",
      "[CV] END C=0.27429835998100305, gamma=0.013077011609969248, kernel=linear; total time=   1.2s\n"
     ]
    },
    {
     "name": "stderr",
     "output_type": "stream",
     "text": [
      "/home/jsv/personal/data_mining_sem/.venv/lib/python3.12/site-packages/sklearn/svm/_base.py:305: ConvergenceWarning: Solver terminated early (max_iter=1000).  Consider pre-processing your data with StandardScaler or MinMaxScaler.\n",
      "  warnings.warn(\n",
      "/home/jsv/personal/data_mining_sem/.venv/lib/python3.12/site-packages/sklearn/svm/_base.py:305: ConvergenceWarning: Solver terminated early (max_iter=1000).  Consider pre-processing your data with StandardScaler or MinMaxScaler.\n",
      "  warnings.warn(\n",
      "/home/jsv/personal/data_mining_sem/.venv/lib/python3.12/site-packages/sklearn/svm/_base.py:305: ConvergenceWarning: Solver terminated early (max_iter=1000).  Consider pre-processing your data with StandardScaler or MinMaxScaler.\n",
      "  warnings.warn(\n"
     ]
    },
    {
     "name": "stdout",
     "output_type": "stream",
     "text": [
      "[CV] END C=0.27429835998100305, gamma=0.013077011609969248, kernel=linear; total time=   1.3s\n",
      "[CV] END C=0.27429835998100305, gamma=0.013077011609969248, kernel=linear; total time=   1.2s\n"
     ]
    },
    {
     "name": "stderr",
     "output_type": "stream",
     "text": [
      "/home/jsv/personal/data_mining_sem/.venv/lib/python3.12/site-packages/sklearn/svm/_base.py:305: ConvergenceWarning: Solver terminated early (max_iter=1000).  Consider pre-processing your data with StandardScaler or MinMaxScaler.\n",
      "  warnings.warn(\n",
      "/home/jsv/personal/data_mining_sem/.venv/lib/python3.12/site-packages/sklearn/svm/_base.py:305: ConvergenceWarning: Solver terminated early (max_iter=1000).  Consider pre-processing your data with StandardScaler or MinMaxScaler.\n",
      "  warnings.warn(\n",
      "/home/jsv/personal/data_mining_sem/.venv/lib/python3.12/site-packages/sklearn/svm/_base.py:305: ConvergenceWarning: Solver terminated early (max_iter=1000).  Consider pre-processing your data with StandardScaler or MinMaxScaler.\n",
      "  warnings.warn(\n"
     ]
    },
    {
     "name": "stdout",
     "output_type": "stream",
     "text": [
      "[CV] END C=1.996632481431782, gamma=0.03323903224608685, kernel=rbf; total time=   1.4s\n",
      "[CV] END C=1.996632481431782, gamma=0.03323903224608685, kernel=rbf; total time=   1.4s\n",
      "[CV] END C=1.996632481431782, gamma=0.03323903224608685, kernel=rbf; total time=   1.4s\n",
      "[CV] END C=0.7768576892193351, gamma=0.04297519921563822, kernel=poly; total time=   1.1s\n",
      "[CV] END C=1.996632481431782, gamma=0.03323903224608685, kernel=rbf; total time=   1.5s\n"
     ]
    },
    {
     "name": "stderr",
     "output_type": "stream",
     "text": [
      "/home/jsv/personal/data_mining_sem/.venv/lib/python3.12/site-packages/sklearn/svm/_base.py:305: ConvergenceWarning: Solver terminated early (max_iter=1000).  Consider pre-processing your data with StandardScaler or MinMaxScaler.\n",
      "  warnings.warn(\n",
      "/home/jsv/personal/data_mining_sem/.venv/lib/python3.12/site-packages/sklearn/svm/_base.py:305: ConvergenceWarning: Solver terminated early (max_iter=1000).  Consider pre-processing your data with StandardScaler or MinMaxScaler.\n",
      "  warnings.warn(\n"
     ]
    },
    {
     "name": "stdout",
     "output_type": "stream",
     "text": [
      "[CV] END C=0.7768576892193351, gamma=0.04297519921563822, kernel=poly; total time=   1.2s\n",
      "[CV] END C=1.996632481431782, gamma=0.03323903224608685, kernel=rbf; total time=   1.5s\n",
      "[CV] END C=0.7768576892193351, gamma=0.04297519921563822, kernel=poly; total time=   1.4s\n"
     ]
    },
    {
     "name": "stderr",
     "output_type": "stream",
     "text": [
      "/home/jsv/personal/data_mining_sem/.venv/lib/python3.12/site-packages/sklearn/svm/_base.py:305: ConvergenceWarning: Solver terminated early (max_iter=1000).  Consider pre-processing your data with StandardScaler or MinMaxScaler.\n",
      "  warnings.warn(\n",
      "/home/jsv/personal/data_mining_sem/.venv/lib/python3.12/site-packages/sklearn/svm/_base.py:305: ConvergenceWarning: Solver terminated early (max_iter=1000).  Consider pre-processing your data with StandardScaler or MinMaxScaler.\n",
      "  warnings.warn(\n"
     ]
    },
    {
     "name": "stdout",
     "output_type": "stream",
     "text": [
      "[CV] END C=0.7768576892193351, gamma=0.04297519921563822, kernel=poly; total time=   1.2s\n"
     ]
    },
    {
     "name": "stderr",
     "output_type": "stream",
     "text": [
      "/home/jsv/personal/data_mining_sem/.venv/lib/python3.12/site-packages/sklearn/svm/_base.py:305: ConvergenceWarning: Solver terminated early (max_iter=1000).  Consider pre-processing your data with StandardScaler or MinMaxScaler.\n",
      "  warnings.warn(\n",
      "/home/jsv/personal/data_mining_sem/.venv/lib/python3.12/site-packages/sklearn/svm/_base.py:305: ConvergenceWarning: Solver terminated early (max_iter=1000).  Consider pre-processing your data with StandardScaler or MinMaxScaler.\n",
      "  warnings.warn(\n",
      "/home/jsv/personal/data_mining_sem/.venv/lib/python3.12/site-packages/sklearn/svm/_base.py:305: ConvergenceWarning: Solver terminated early (max_iter=1000).  Consider pre-processing your data with StandardScaler or MinMaxScaler.\n",
      "  warnings.warn(\n"
     ]
    },
    {
     "name": "stdout",
     "output_type": "stream",
     "text": [
      "[CV] END C=0.7768576892193351, gamma=0.04297519921563822, kernel=poly; total time=   1.4s\n",
      "[CV] END C=1.0563626022925277, gamma=0.02217510766589414, kernel=poly; total time=   1.4s\n"
     ]
    },
    {
     "name": "stderr",
     "output_type": "stream",
     "text": [
      "/home/jsv/personal/data_mining_sem/.venv/lib/python3.12/site-packages/sklearn/svm/_base.py:305: ConvergenceWarning: Solver terminated early (max_iter=1000).  Consider pre-processing your data with StandardScaler or MinMaxScaler.\n",
      "  warnings.warn(\n",
      "/home/jsv/personal/data_mining_sem/.venv/lib/python3.12/site-packages/sklearn/svm/_base.py:305: ConvergenceWarning: Solver terminated early (max_iter=1000).  Consider pre-processing your data with StandardScaler or MinMaxScaler.\n",
      "  warnings.warn(\n",
      "/home/jsv/personal/data_mining_sem/.venv/lib/python3.12/site-packages/sklearn/svm/_base.py:305: ConvergenceWarning: Solver terminated early (max_iter=1000).  Consider pre-processing your data with StandardScaler or MinMaxScaler.\n",
      "  warnings.warn(\n",
      "/home/jsv/personal/data_mining_sem/.venv/lib/python3.12/site-packages/sklearn/svm/_base.py:305: ConvergenceWarning: Solver terminated early (max_iter=1000).  Consider pre-processing your data with StandardScaler or MinMaxScaler.\n",
      "  warnings.warn(\n"
     ]
    },
    {
     "name": "stdout",
     "output_type": "stream",
     "text": [
      "[CV] END C=1.0563626022925277, gamma=0.02217510766589414, kernel=poly; total time=   1.5s\n",
      "[CV] END C=1.0563626022925277, gamma=0.02217510766589414, kernel=poly; total time=   1.2s\n",
      "[CV] END C=1.0563626022925277, gamma=0.02217510766589414, kernel=poly; total time=   1.2s\n",
      "[CV] END C=1.0563626022925277, gamma=0.02217510766589414, kernel=poly; total time=   1.3s\n",
      "[CV] END C=0.33291461264901506, gamma=0.23164613056593106, kernel=poly; total time=   1.2s\n"
     ]
    },
    {
     "name": "stderr",
     "output_type": "stream",
     "text": [
      "/home/jsv/personal/data_mining_sem/.venv/lib/python3.12/site-packages/sklearn/svm/_base.py:305: ConvergenceWarning: Solver terminated early (max_iter=1000).  Consider pre-processing your data with StandardScaler or MinMaxScaler.\n",
      "  warnings.warn(\n",
      "/home/jsv/personal/data_mining_sem/.venv/lib/python3.12/site-packages/sklearn/svm/_base.py:305: ConvergenceWarning: Solver terminated early (max_iter=1000).  Consider pre-processing your data with StandardScaler or MinMaxScaler.\n",
      "  warnings.warn(\n",
      "/home/jsv/personal/data_mining_sem/.venv/lib/python3.12/site-packages/sklearn/svm/_base.py:305: ConvergenceWarning: Solver terminated early (max_iter=1000).  Consider pre-processing your data with StandardScaler or MinMaxScaler.\n",
      "  warnings.warn(\n"
     ]
    },
    {
     "name": "stdout",
     "output_type": "stream",
     "text": [
      "[CV] END C=0.33291461264901506, gamma=0.23164613056593106, kernel=poly; total time=   1.3s\n",
      "[CV] END C=0.33291461264901506, gamma=0.23164613056593106, kernel=poly; total time=   1.3s\n",
      "[CV] END C=0.33291461264901506, gamma=0.23164613056593106, kernel=poly; total time=   1.3s\n",
      "[CV] END C=0.33291461264901506, gamma=0.23164613056593106, kernel=poly; total time=   1.3s\n"
     ]
    },
    {
     "name": "stderr",
     "output_type": "stream",
     "text": [
      "/home/jsv/personal/data_mining_sem/.venv/lib/python3.12/site-packages/sklearn/svm/_base.py:305: ConvergenceWarning: Solver terminated early (max_iter=1000).  Consider pre-processing your data with StandardScaler or MinMaxScaler.\n",
      "  warnings.warn(\n",
      "/home/jsv/personal/data_mining_sem/.venv/lib/python3.12/site-packages/sklearn/svm/_base.py:305: ConvergenceWarning: Solver terminated early (max_iter=1000).  Consider pre-processing your data with StandardScaler or MinMaxScaler.\n",
      "  warnings.warn(\n"
     ]
    },
    {
     "name": "stdout",
     "output_type": "stream",
     "text": [
      "[CV] END C=0.01028801183567595, gamma=0.10823349836831136, kernel=rbf; total time=   1.4s\n"
     ]
    },
    {
     "name": "stderr",
     "output_type": "stream",
     "text": [
      "/home/jsv/personal/data_mining_sem/.venv/lib/python3.12/site-packages/sklearn/svm/_base.py:305: ConvergenceWarning: Solver terminated early (max_iter=1000).  Consider pre-processing your data with StandardScaler or MinMaxScaler.\n",
      "  warnings.warn(\n",
      "/home/jsv/personal/data_mining_sem/.venv/lib/python3.12/site-packages/sklearn/svm/_base.py:305: ConvergenceWarning: Solver terminated early (max_iter=1000).  Consider pre-processing your data with StandardScaler or MinMaxScaler.\n",
      "  warnings.warn(\n",
      "/home/jsv/personal/data_mining_sem/.venv/lib/python3.12/site-packages/sklearn/svm/_base.py:305: ConvergenceWarning: Solver terminated early (max_iter=1000).  Consider pre-processing your data with StandardScaler or MinMaxScaler.\n",
      "  warnings.warn(\n"
     ]
    },
    {
     "name": "stdout",
     "output_type": "stream",
     "text": [
      "[CV] END C=0.01028801183567595, gamma=0.10823349836831136, kernel=rbf; total time=   1.5s\n",
      "[CV] END C=0.01028801183567595, gamma=0.10823349836831136, kernel=rbf; total time=   1.4s\n",
      "[CV] END C=0.01028801183567595, gamma=0.10823349836831136, kernel=rbf; total time=   1.3s\n",
      "[CV] END C=2.5603261483771123, gamma=0.04157840543850856, kernel=rbf; total time=   1.3s\n"
     ]
    },
    {
     "name": "stderr",
     "output_type": "stream",
     "text": [
      "/home/jsv/personal/data_mining_sem/.venv/lib/python3.12/site-packages/sklearn/svm/_base.py:305: ConvergenceWarning: Solver terminated early (max_iter=1000).  Consider pre-processing your data with StandardScaler or MinMaxScaler.\n",
      "  warnings.warn(\n",
      "/home/jsv/personal/data_mining_sem/.venv/lib/python3.12/site-packages/sklearn/svm/_base.py:305: ConvergenceWarning: Solver terminated early (max_iter=1000).  Consider pre-processing your data with StandardScaler or MinMaxScaler.\n",
      "  warnings.warn(\n",
      "/home/jsv/personal/data_mining_sem/.venv/lib/python3.12/site-packages/sklearn/svm/_base.py:305: ConvergenceWarning: Solver terminated early (max_iter=1000).  Consider pre-processing your data with StandardScaler or MinMaxScaler.\n",
      "  warnings.warn(\n"
     ]
    },
    {
     "name": "stdout",
     "output_type": "stream",
     "text": [
      "[CV] END C=2.5603261483771123, gamma=0.04157840543850856, kernel=rbf; total time=   1.3s\n",
      "[CV] END C=2.5603261483771123, gamma=0.04157840543850856, kernel=rbf; total time=   1.4s\n",
      "[CV] END C=0.01028801183567595, gamma=0.10823349836831136, kernel=rbf; total time=   1.6s\n"
     ]
    },
    {
     "name": "stderr",
     "output_type": "stream",
     "text": [
      "/home/jsv/personal/data_mining_sem/.venv/lib/python3.12/site-packages/sklearn/svm/_base.py:305: ConvergenceWarning: Solver terminated early (max_iter=1000).  Consider pre-processing your data with StandardScaler or MinMaxScaler.\n",
      "  warnings.warn(\n",
      "/home/jsv/personal/data_mining_sem/.venv/lib/python3.12/site-packages/sklearn/svm/_base.py:305: ConvergenceWarning: Solver terminated early (max_iter=1000).  Consider pre-processing your data with StandardScaler or MinMaxScaler.\n",
      "  warnings.warn(\n",
      "/home/jsv/personal/data_mining_sem/.venv/lib/python3.12/site-packages/sklearn/svm/_base.py:305: ConvergenceWarning: Solver terminated early (max_iter=1000).  Consider pre-processing your data with StandardScaler or MinMaxScaler.\n",
      "  warnings.warn(\n",
      "/home/jsv/personal/data_mining_sem/.venv/lib/python3.12/site-packages/sklearn/svm/_base.py:305: ConvergenceWarning: Solver terminated early (max_iter=1000).  Consider pre-processing your data with StandardScaler or MinMaxScaler.\n",
      "  warnings.warn(\n",
      "/home/jsv/personal/data_mining_sem/.venv/lib/python3.12/site-packages/sklearn/svm/_base.py:305: ConvergenceWarning: Solver terminated early (max_iter=1000).  Consider pre-processing your data with StandardScaler or MinMaxScaler.\n",
      "  warnings.warn(\n",
      "/home/jsv/personal/data_mining_sem/.venv/lib/python3.12/site-packages/sklearn/svm/_base.py:305: ConvergenceWarning: Solver terminated early (max_iter=1000).  Consider pre-processing your data with StandardScaler or MinMaxScaler.\n",
      "  warnings.warn(\n",
      "/home/jsv/personal/data_mining_sem/.venv/lib/python3.12/site-packages/sklearn/svm/_base.py:305: ConvergenceWarning: Solver terminated early (max_iter=1000).  Consider pre-processing your data with StandardScaler or MinMaxScaler.\n",
      "  warnings.warn(\n"
     ]
    },
    {
     "name": "stdout",
     "output_type": "stream",
     "text": [
      "[CV] END C=2.5603261483771123, gamma=0.04157840543850856, kernel=rbf; total time=   1.5s\n",
      "[CV] END C=2.6990272920674947, gamma=0.02116627275376864, kernel=rbf; total time=   1.3s\n",
      "[CV] END C=2.5603261483771123, gamma=0.04157840543850856, kernel=rbf; total time=   1.4s\n",
      "[CV] END C=0.5786988350891905, gamma=0.4551201789710565, kernel=poly; total time=   0.7s\n",
      "[CV] END C=2.6990272920674947, gamma=0.02116627275376864, kernel=rbf; total time=   1.2s\n",
      "[CV] END C=0.5786988350891905, gamma=0.4551201789710565, kernel=poly; total time=   0.7s\n",
      "[CV] END C=2.6990272920674947, gamma=0.02116627275376864, kernel=rbf; total time=   1.5s\n",
      "[CV] END C=0.5786988350891905, gamma=0.4551201789710565, kernel=poly; total time=   0.7s\n",
      "[CV] END C=0.5786988350891905, gamma=0.4551201789710565, kernel=poly; total time=   0.8s\n"
     ]
    },
    {
     "name": "stderr",
     "output_type": "stream",
     "text": [
      "/home/jsv/personal/data_mining_sem/.venv/lib/python3.12/site-packages/sklearn/svm/_base.py:305: ConvergenceWarning: Solver terminated early (max_iter=1000).  Consider pre-processing your data with StandardScaler or MinMaxScaler.\n",
      "  warnings.warn(\n",
      "/home/jsv/personal/data_mining_sem/.venv/lib/python3.12/site-packages/sklearn/svm/_base.py:305: ConvergenceWarning: Solver terminated early (max_iter=1000).  Consider pre-processing your data with StandardScaler or MinMaxScaler.\n",
      "  warnings.warn(\n",
      "/home/jsv/personal/data_mining_sem/.venv/lib/python3.12/site-packages/sklearn/svm/_base.py:305: ConvergenceWarning: Solver terminated early (max_iter=1000).  Consider pre-processing your data with StandardScaler or MinMaxScaler.\n",
      "  warnings.warn(\n",
      "/home/jsv/personal/data_mining_sem/.venv/lib/python3.12/site-packages/sklearn/svm/_base.py:305: ConvergenceWarning: Solver terminated early (max_iter=1000).  Consider pre-processing your data with StandardScaler or MinMaxScaler.\n",
      "  warnings.warn(\n",
      "/home/jsv/personal/data_mining_sem/.venv/lib/python3.12/site-packages/sklearn/svm/_base.py:305: ConvergenceWarning: Solver terminated early (max_iter=1000).  Consider pre-processing your data with StandardScaler or MinMaxScaler.\n",
      "  warnings.warn(\n"
     ]
    },
    {
     "name": "stdout",
     "output_type": "stream",
     "text": [
      "[CV] END C=0.5786988350891905, gamma=0.4551201789710565, kernel=poly; total time=   0.8s\n",
      "[CV] END C=2.6990272920674947, gamma=0.02116627275376864, kernel=rbf; total time=   1.4s\n",
      "[CV] END C=2.6990272920674947, gamma=0.02116627275376864, kernel=rbf; total time=   1.4s\n"
     ]
    },
    {
     "name": "stderr",
     "output_type": "stream",
     "text": [
      "/home/jsv/personal/data_mining_sem/.venv/lib/python3.12/site-packages/sklearn/svm/_base.py:305: ConvergenceWarning: Solver terminated early (max_iter=1000).  Consider pre-processing your data with StandardScaler or MinMaxScaler.\n",
      "  warnings.warn(\n",
      "/home/jsv/personal/data_mining_sem/.venv/lib/python3.12/site-packages/sklearn/svm/_base.py:305: ConvergenceWarning: Solver terminated early (max_iter=1000).  Consider pre-processing your data with StandardScaler or MinMaxScaler.\n",
      "  warnings.warn(\n",
      "/home/jsv/personal/data_mining_sem/.venv/lib/python3.12/site-packages/sklearn/svm/_base.py:305: ConvergenceWarning: Solver terminated early (max_iter=1000).  Consider pre-processing your data with StandardScaler or MinMaxScaler.\n",
      "  warnings.warn(\n",
      "/home/jsv/personal/data_mining_sem/.venv/lib/python3.12/site-packages/sklearn/svm/_base.py:305: ConvergenceWarning: Solver terminated early (max_iter=1000).  Consider pre-processing your data with StandardScaler or MinMaxScaler.\n",
      "  warnings.warn(\n",
      "/home/jsv/personal/data_mining_sem/.venv/lib/python3.12/site-packages/sklearn/svm/_base.py:305: ConvergenceWarning: Solver terminated early (max_iter=1000).  Consider pre-processing your data with StandardScaler or MinMaxScaler.\n",
      "  warnings.warn(\n",
      "/home/jsv/personal/data_mining_sem/.venv/lib/python3.12/site-packages/sklearn/svm/_base.py:305: ConvergenceWarning: Solver terminated early (max_iter=1000).  Consider pre-processing your data with StandardScaler or MinMaxScaler.\n",
      "  warnings.warn(\n"
     ]
    },
    {
     "name": "stdout",
     "output_type": "stream",
     "text": [
      "[CV] END C=0.5373774789530291, gamma=0.3071468346834631, kernel=rbf; total time=   1.3s\n",
      "[CV] END C=0.5373774789530291, gamma=0.3071468346834631, kernel=rbf; total time=   1.4s\n",
      "[CV] END C=0.5373774789530291, gamma=0.3071468346834631, kernel=rbf; total time=   1.4s\n",
      "[CV] END C=0.5373774789530291, gamma=0.3071468346834631, kernel=rbf; total time=   1.4s\n",
      "[CV] END C=0.40824169553007383, gamma=0.07545256456577856, kernel=rbf; total time=   1.2s\n",
      "[CV] END C=2.8462452830218363, gamma=0.016462410666268665, kernel=linear; total time=   0.8s\n"
     ]
    },
    {
     "name": "stderr",
     "output_type": "stream",
     "text": [
      "/home/jsv/personal/data_mining_sem/.venv/lib/python3.12/site-packages/sklearn/svm/_base.py:305: ConvergenceWarning: Solver terminated early (max_iter=1000).  Consider pre-processing your data with StandardScaler or MinMaxScaler.\n",
      "  warnings.warn(\n",
      "/home/jsv/personal/data_mining_sem/.venv/lib/python3.12/site-packages/sklearn/svm/_base.py:305: ConvergenceWarning: Solver terminated early (max_iter=1000).  Consider pre-processing your data with StandardScaler or MinMaxScaler.\n",
      "  warnings.warn(\n",
      "/home/jsv/personal/data_mining_sem/.venv/lib/python3.12/site-packages/sklearn/svm/_base.py:305: ConvergenceWarning: Solver terminated early (max_iter=1000).  Consider pre-processing your data with StandardScaler or MinMaxScaler.\n",
      "  warnings.warn(\n",
      "/home/jsv/personal/data_mining_sem/.venv/lib/python3.12/site-packages/sklearn/svm/_base.py:305: ConvergenceWarning: Solver terminated early (max_iter=1000).  Consider pre-processing your data with StandardScaler or MinMaxScaler.\n",
      "  warnings.warn(\n",
      "/home/jsv/personal/data_mining_sem/.venv/lib/python3.12/site-packages/sklearn/svm/_base.py:305: ConvergenceWarning: Solver terminated early (max_iter=1000).  Consider pre-processing your data with StandardScaler or MinMaxScaler.\n",
      "  warnings.warn(\n"
     ]
    },
    {
     "name": "stdout",
     "output_type": "stream",
     "text": [
      "[CV] END C=0.5373774789530291, gamma=0.3071468346834631, kernel=rbf; total time=   1.3s\n",
      "[CV] END C=2.8462452830218363, gamma=0.016462410666268665, kernel=linear; total time=   0.8s\n",
      "[CV] END C=0.40824169553007383, gamma=0.07545256456577856, kernel=rbf; total time=   1.4s\n"
     ]
    },
    {
     "name": "stderr",
     "output_type": "stream",
     "text": [
      "/home/jsv/personal/data_mining_sem/.venv/lib/python3.12/site-packages/sklearn/svm/_base.py:305: ConvergenceWarning: Solver terminated early (max_iter=1000).  Consider pre-processing your data with StandardScaler or MinMaxScaler.\n",
      "  warnings.warn(\n"
     ]
    },
    {
     "name": "stdout",
     "output_type": "stream",
     "text": [
      "[CV] END C=0.40824169553007383, gamma=0.07545256456577856, kernel=rbf; total time=   1.4s\n",
      "[CV] END C=0.40824169553007383, gamma=0.07545256456577856, kernel=rbf; total time=   1.4s\n"
     ]
    },
    {
     "name": "stderr",
     "output_type": "stream",
     "text": [
      "/home/jsv/personal/data_mining_sem/.venv/lib/python3.12/site-packages/sklearn/svm/_base.py:305: ConvergenceWarning: Solver terminated early (max_iter=1000).  Consider pre-processing your data with StandardScaler or MinMaxScaler.\n",
      "  warnings.warn(\n",
      "/home/jsv/personal/data_mining_sem/.venv/lib/python3.12/site-packages/sklearn/svm/_base.py:305: ConvergenceWarning: Solver terminated early (max_iter=1000).  Consider pre-processing your data with StandardScaler or MinMaxScaler.\n",
      "  warnings.warn(\n",
      "/home/jsv/personal/data_mining_sem/.venv/lib/python3.12/site-packages/sklearn/svm/_base.py:305: ConvergenceWarning: Solver terminated early (max_iter=1000).  Consider pre-processing your data with StandardScaler or MinMaxScaler.\n",
      "  warnings.warn(\n",
      "/home/jsv/personal/data_mining_sem/.venv/lib/python3.12/site-packages/sklearn/svm/_base.py:305: ConvergenceWarning: Solver terminated early (max_iter=1000).  Consider pre-processing your data with StandardScaler or MinMaxScaler.\n",
      "  warnings.warn(\n"
     ]
    },
    {
     "name": "stdout",
     "output_type": "stream",
     "text": [
      "[CV] END C=0.40824169553007383, gamma=0.07545256456577856, kernel=rbf; total time=   1.5s\n",
      "[CV] END C=2.8462452830218363, gamma=0.016462410666268665, kernel=linear; total time=   0.7s\n",
      "[CV] END C=2.8462452830218363, gamma=0.016462410666268665, kernel=linear; total time=   0.7s\n",
      "[CV] END C=2.8462452830218363, gamma=0.016462410666268665, kernel=linear; total time=   0.7s\n"
     ]
    },
    {
     "name": "stderr",
     "output_type": "stream",
     "text": [
      "/home/jsv/personal/data_mining_sem/.venv/lib/python3.12/site-packages/sklearn/svm/_base.py:305: ConvergenceWarning: Solver terminated early (max_iter=1000).  Consider pre-processing your data with StandardScaler or MinMaxScaler.\n",
      "  warnings.warn(\n",
      "/home/jsv/personal/data_mining_sem/.venv/lib/python3.12/site-packages/sklearn/svm/_base.py:305: ConvergenceWarning: Solver terminated early (max_iter=1000).  Consider pre-processing your data with StandardScaler or MinMaxScaler.\n",
      "  warnings.warn(\n",
      "/home/jsv/personal/data_mining_sem/.venv/lib/python3.12/site-packages/sklearn/svm/_base.py:305: ConvergenceWarning: Solver terminated early (max_iter=1000).  Consider pre-processing your data with StandardScaler or MinMaxScaler.\n",
      "  warnings.warn(\n",
      "/home/jsv/personal/data_mining_sem/.venv/lib/python3.12/site-packages/sklearn/svm/_base.py:305: ConvergenceWarning: Solver terminated early (max_iter=1000).  Consider pre-processing your data with StandardScaler or MinMaxScaler.\n",
      "  warnings.warn(\n"
     ]
    },
    {
     "name": "stdout",
     "output_type": "stream",
     "text": [
      "[CV] END C=3.9497387084106608, gamma=0.11021542092210415, kernel=poly; total time=   0.9s\n",
      "[CV] END C=3.9497387084106608, gamma=0.11021542092210415, kernel=poly; total time=   0.9s\n",
      "[CV] END C=3.9497387084106608, gamma=0.11021542092210415, kernel=poly; total time=   0.8s\n",
      "[CV] END C=3.9497387084106608, gamma=0.11021542092210415, kernel=poly; total time=   0.9s\n",
      "[CV] END C=3.9497387084106608, gamma=0.11021542092210415, kernel=poly; total time=   0.8s\n"
     ]
    },
    {
     "name": "stderr",
     "output_type": "stream",
     "text": [
      "/home/jsv/personal/data_mining_sem/.venv/lib/python3.12/site-packages/sklearn/svm/_base.py:305: ConvergenceWarning: Solver terminated early (max_iter=1000).  Consider pre-processing your data with StandardScaler or MinMaxScaler.\n",
      "  warnings.warn(\n"
     ]
    },
    {
     "name": "stdout",
     "output_type": "stream",
     "text": [
      "name: support vector machine, accuracy_train: 0.252, accuracy_test: 0.239, balanced_accuracy_train: 0.499, balanced_accuracy_test: 0.489\n"
     ]
    }
   ],
   "source": [
    "svm_clf = Classifier('support vector machine', \n",
    "\tSVC(class_weight='balanced'),\n",
    "\tparam={\n",
    "\t\t'C' : loguniform(1e-2, 1e1),\n",
    "\t\t'kernel' : ['linear', 'poly', 'rbf'],\n",
    "\t\t'gamma' : loguniform(1e-2, 1)\n",
    "\t})\n",
    "\n",
    "svm_clf.optimize_param(ds, random_state=37, verbose=2)\n",
    "print(svm_clf.get_metrics(ds, as_string=True))"
   ]
  }
 ],
 "metadata": {
  "kernelspec": {
   "display_name": ".venv",
   "language": "python",
   "name": "python3"
  },
  "language_info": {
   "codemirror_mode": {
    "name": "ipython",
    "version": 3
   },
   "file_extension": ".py",
   "mimetype": "text/x-python",
   "name": "python",
   "nbconvert_exporter": "python",
   "pygments_lexer": "ipython3",
   "version": "3.12.3"
  }
 },
 "nbformat": 4,
 "nbformat_minor": 2
}
